{
 "cells": [
  {
   "cell_type": "markdown",
   "metadata": {},
   "source": [
    "# Lists, Dictionaries, and Iterations (and Quiz That Stores Dictionaries)\n",
    "> Here you will find code that involves the use of for, while, and recursive loops in order to print out specific data. Additonally, there is a quiz that incorporates dictionaries in order to collect information. \n",
    "\n",
    "- badges: true\n",
    "- comments: true\n",
    "- image: /images/lists-and-dictionaries.jpeg\n",
    "- categories: [jupyter,python,week2hacks]"
   ]
  },
  {
   "cell_type": "markdown",
   "metadata": {},
   "source": [
    "# Lists and Dictionaries"
   ]
  },
  {
   "cell_type": "markdown",
   "metadata": {},
   "source": [
    "Variables all have a type: String, Integer, Float, List and Dictionary are some key types. In Python, variables are given a type at assignment, Types are important to understand and will impact operations, as we saw when we were required to user str() function in concatenation.\n",
    "\n",
    "Developers often think of variables as primitives or collections. Look at this example and see if you can see hypothesize the difference between a primitive and a collection.\n",
    "Take a minute and see if you can reference other elements in the list or other keys in the dictionary. Show output."
   ]
  },
  {
   "cell_type": "code",
   "execution_count": 25,
   "metadata": {},
   "outputs": [
    {
     "name": "stdout",
     "output_type": "stream",
     "text": [
      "Name: Emaad Mir <class 'str'>\n",
      "Age: 15 <class 'int'>\n",
      "Grade: 105.9 <class 'float'>\n",
      "Favorite Song: Running Up That Hill <class 'str'>\n",
      "\n",
      "Random Language: JavaScript\n",
      "Random Game: Subway Surfer\n",
      "\n",
      "Name:Emaad Mir Age:15 Grade:105.9 Languages:['Python', 'Html', 'CSS', 'C', 'Java', 'JavaScript', 'C', 'R'] Favorite Song:Running Up That Hill\n",
      "\n",
      "Reversed List:\n",
      "Noodles, Fried Rice, Salad, Chocolate Cake, Burgers, Pizza, Bread\n",
      "\n",
      "Random Order:\n",
      "Pizza, Burgers, Chocolate Cake, Fried Rice, Noodles, Bread, Salad\n"
     ]
    }
   ],
   "source": [
    "import random\n",
    "\n",
    "# variable of type string\n",
    "name = \"Emaad Mir\"\n",
    "print(\"Name:\", name, type(name))\n",
    "\n",
    "# variable of type integer\n",
    "age = 15\n",
    "print(\"Age:\", age, type(age))\n",
    "\n",
    "# variable of type float\n",
    "grade = 105.9\n",
    "print(\"Grade:\", grade, type(grade))\n",
    "\n",
    "# another variable of type string\n",
    "fav_song = \"Running Up That Hill\"\n",
    "print(\"Favorite Song:\", fav_song, type(fav_song))\n",
    "\n",
    "\n",
    "\n",
    "print()\n",
    "\n",
    "# variable of type list (many values in one variable)\n",
    "\n",
    "langs = [\"Python\", \"Html\", \"CSS\", \"C\", \"Java\", \"JavaScript\", \"C\", \"R\"]\n",
    "random_lang = random.choice(langs)\n",
    "print(\"Random Language:\", random_lang)\n",
    "\n",
    "games = [\"Super Mario\", \"Kirby\", \"Wii Sports Resort\", \"Subway Surfer\"]\n",
    "random_game = random.choice(games)\n",
    "print(\"Random Game:\", random_game)\n",
    "\n",
    "print()\n",
    "\n",
    "# variable of type dictionary (a group of keys and values)\n",
    "person = {\n",
    "    \"Name\": name,\n",
    "    \"Age\": age,\n",
    "    \"Grade\": grade,\n",
    "    \"Languages\": langs,\n",
    "    \"Favorite Song\": fav_song\n",
    "}\n",
    "\n",
    "# prints what is in the person dictionary without brackets\n",
    "print(*[str(k) + ':' + str(v) for k,v in person.items()])\n",
    "\n",
    "\n",
    "# LISTS THE FOOD IN REVERSE ORDER\n",
    "foods = [\"Bread\", \"Pizza\", \"Burgers\", \"Chocolate Cake\", \"Salad\", \"Fried Rice\", \"Noodles\"]\n",
    "foods.reverse()\n",
    "print('\\nReversed List:'),\n",
    "print(', '.join(foods))\n",
    "\n",
    "# LISTS THE FOOD IN A RANDOM ORDER\n",
    "random.shuffle(foods)\n",
    "print('\\nRandom Order:'),\n",
    "print(', '.join(foods))"
   ]
  },
  {
   "cell_type": "markdown",
   "metadata": {},
   "source": [
    "# List and Dictionary Purpose\n",
    "Lists and Dictionaries are used to collect information. Mostly, when information is collected, it is formed into patterns. As that pattern is established you will be able collect many instances of that pattern.\n",
    "\n",
    "List is used to collect many instances of a pattern\n",
    "\n",
    "Dictionary is used to define data patterns.\n",
    "\n",
    "Iteration is often used to process through lists.\n",
    "\n",
    "To start exploring more deeply into List, Dictionary and Iteration this example will explore constructing a List of people and hobbies.\n",
    "\n",
    "As we learned above, a List is a data type: class 'list'\n",
    "A 'list' data type has the method '.append(expression)' that allows you to add to the list. A class usually has extra method to support working with its objects/instances.\n",
    "In the example below, the expression is appended to the 'list' is the data type: class 'dict'\n",
    "At the end, you see a fairly complicated data structure. This is a list of dictionaries, or a collection of many similar data patterns. The output looks similar to JavaScript Object Notation (JSON), Jekyll/GitHub pages yml files, FastPages Front Matter. As discussed we will see this key/value patter often, you will be required to understand this data structure and understand the parts. Just believe it is peasy ;) and it will become so."
   ]
  },
  {
   "cell_type": "code",
   "execution_count": 26,
   "metadata": {},
   "outputs": [
    {
     "name": "stdout",
     "output_type": "stream",
     "text": [
      "[{'FirstName': 'Emaad', 'LastName': 'Mir', 'DOB': 'January 12', 'Email': 'emaadidrismir@gmail.com', 'FavoriteFoods': ['French Fries, Ice Cream, Bananas, Pizza'], 'Hobbies': ['Playing Squash', 'Sleeping', 'Hiking', 'Cooking', 'Playing Basketball']}, {'FirstName': 'Edwin', 'LastName': 'Abraham', 'DOB': 'August 7', 'Email': 'edwinab0007@gmail.com', 'FavoriteFoods': ['Burgers, Pizza, Brownies, Watermelon'], 'Hobbies': ['Biking', 'Hiking', 'Playing Video Games']}]\n"
     ]
    }
   ],
   "source": [
    "InfoDb = []\n",
    "\n",
    "# InfoDB is a data structure with expected Keys and Values\n",
    "\n",
    "# Append to List a Dictionary of key/values related to a person and hobbies\n",
    "InfoDb.append({\n",
    "    \"FirstName\": \"Emaad\",\n",
    "    \"LastName\": \"Mir\",\n",
    "    \"DOB\": \"January 12\",\n",
    "    \"Email\": \"emaadidrismir@gmail.com\",\n",
    "    \"FavoriteFoods\": [\"French Fries, Ice Cream, Bananas, Pizza\"],\n",
    "    \"Hobbies\": [\"Playing Squash\", \"Sleeping\", \"Hiking\", \"Cooking\", \"Playing Basketball\"]\n",
    "})\n",
    "\n",
    "# Append to List a 2nd Dictionary of key/values\n",
    "InfoDb.append({\n",
    "    \"FirstName\": \"Edwin\",\n",
    "    \"LastName\": \"Abraham\",\n",
    "    \"DOB\": \"August 7\",\n",
    "    \"Email\": \"edwinab0007@gmail.com\",\n",
    "    \"FavoriteFoods\": [\"Burgers, Pizza, Brownies, Watermelon\"],\n",
    "    \"Hobbies\": [\"Biking\",\"Hiking\", \"Playing Video Games\"]\n",
    "})\n",
    "\n",
    "\n",
    "# Print the data structure\n",
    "print(InfoDb)"
   ]
  },
  {
   "cell_type": "markdown",
   "metadata": {},
   "source": [
    "# Formatted output of List/Dictionary - for loop\n",
    "Managing data in Lists and Dictionaries is for the convenience of passing the data across the internet, to applications, or preparing it to be stored into a database. It is a great way to exchange data between programs and programmers. Exchange of data between programs includes the data type the method/function and the format of the data type. These concepts are key to learning how to write functions, receive, and return data. This process is often referred to as an Application Programming Interface (API).\n",
    "\n",
    "Next, we will take the stored data and output it within our notebook. There are multiple steps to this process...\n",
    "\n",
    "Preparing a function to format the data, the print_data() function receives a parameter called \"d_rec\" short for dictionary record. It then references different keys within [] square brackets.\n",
    "\n",
    "Preparing a function to iterate through the list, the for_loop() function uses an enhanced for loop that pull record by record out of InfoDb until the list is empty. Each time through the loop it call print_data(record), which passes the dictionary record to that function.\n",
    "\n",
    "\n",
    "Finally, you need to activate your function with the call to the defined function for_loop(). Functions are defined, not activated until they are called. By placing for_loop() at the left margin the function is activated.\n"
   ]
  },
  {
   "cell_type": "code",
   "execution_count": 27,
   "metadata": {},
   "outputs": [
    {
     "name": "stdout",
     "output_type": "stream",
     "text": [
      "Name: Emaad Mir\n",
      "Birthday: January 12\n",
      "Email: emaadidrismir@gmail.com\n",
      "FavoriteFoods: French Fries, Ice Cream, Bananas, Pizza\n",
      "Hobbies: Playing Squash, Sleeping, Hiking, Cooking, Playing Basketball\n",
      "\n"
     ]
    }
   ],
   "source": [
    "def print_data(person): # defines the data being printed\n",
    "    print(\"Name:\", person[\"FirstName\"], person[\"LastName\"]) # Tells the computer to print certain things from the dictionary\n",
    "    print(\"Birthday:\", person[\"DOB\"])\n",
    "    print(\"Email:\", person[\"Email\"])\n",
    "    print(\"FavoriteFoods:\", \", \".join(person[\"FavoriteFoods\"]))\n",
    "    print(\"Hobbies:\", \", \".join(person[\"Hobbies\"]))\n",
    "    print()\n",
    "\n",
    "print_data(InfoDb[0])   # Prints the data of the first person (Emaad Mir)"
   ]
  },
  {
   "cell_type": "markdown",
   "metadata": {},
   "source": [
    "# For Loops"
   ]
  },
  {
   "cell_type": "code",
   "execution_count": 28,
   "metadata": {},
   "outputs": [
    {
     "name": "stdout",
     "output_type": "stream",
     "text": [
      "REGULAR FOR LOOP OUTPUT\n",
      "\n",
      "Name: Emaad Mir\n",
      "Birthday: January 12\n",
      "Email: emaadidrismir@gmail.com\n",
      "FavoriteFoods: French Fries, Ice Cream, Bananas, Pizza\n",
      "Hobbies: Playing Squash, Sleeping, Hiking, Cooking, Playing Basketball\n",
      "\n",
      "Name: Edwin Abraham\n",
      "Birthday: August 7\n",
      "Email: edwinab0007@gmail.com\n",
      "FavoriteFoods: Burgers, Pizza, Brownies, Watermelon\n",
      "Hobbies: Biking, Hiking, Playing Video Games\n",
      "\n",
      "FOR LOOP WITH INDEX OUTPUT\n",
      "\n",
      "Name: Emaad Mir\n",
      "Birthday: January 12\n",
      "Email: emaadidrismir@gmail.com\n",
      "FavoriteFoods: French Fries, Ice Cream, Bananas, Pizza\n",
      "Hobbies: Playing Squash, Sleeping, Hiking, Cooking, Playing Basketball\n",
      "\n",
      "Name: Edwin Abraham\n",
      "Birthday: August 7\n",
      "Email: edwinab0007@gmail.com\n",
      "FavoriteFoods: Burgers, Pizza, Brownies, Watermelon\n",
      "Hobbies: Biking, Hiking, Playing Video Games\n",
      "\n"
     ]
    }
   ],
   "source": [
    "def for_loop():             # for every person in the InfoDB, print their data until there is nothing else to print\n",
    "    for person in InfoDb:\n",
    "        print_data(person)\n",
    "\n",
    "def for_loop_with_index():      # prints out data depending on the length of the dictionary it comes from\n",
    "    for i in range(len(InfoDb)):\n",
    "        print_data(InfoDb[i])\n",
    "print(\"REGULAR FOR LOOP OUTPUT\\n\")\n",
    "for_loop()\n",
    "print(\"FOR LOOP WITH INDEX OUTPUT\\n\")\n",
    "for_loop_with_index()"
   ]
  },
  {
   "cell_type": "markdown",
   "metadata": {},
   "source": [
    "# While Loops\n",
    "In coding, there are usually many ways to achieve the same result. Defined are functions illustrating using index to reference records in a list, these methods are called a \"while\" loop and \"recursion\".\n",
    "\n",
    "The while_loop() function contains a while loop, \"while i < len(InfoDb):\". This counts through the elements in the list start at zero, and passes the record to print_data()"
   ]
  },
  {
   "cell_type": "code",
   "execution_count": 29,
   "metadata": {},
   "outputs": [
    {
     "name": "stdout",
     "output_type": "stream",
     "text": [
      "REGULAR WHILE LOOP\n",
      "\n",
      "Name: Emaad Mir\n",
      "Birthday: January 12\n",
      "Email: emaadidrismir@gmail.com\n",
      "FavoriteFoods: French Fries, Ice Cream, Bananas, Pizza\n",
      "Hobbies: Playing Squash, Sleeping, Hiking, Cooking, Playing Basketball\n",
      "\n",
      "Name: Edwin Abraham\n",
      "Birthday: August 7\n",
      "Email: edwinab0007@gmail.com\n",
      "FavoriteFoods: Burgers, Pizza, Brownies, Watermelon\n",
      "Hobbies: Biking, Hiking, Playing Video Games\n",
      "\n",
      "REVERSED WHILE LOOP\n",
      "\n",
      "Name: Edwin Abraham\n",
      "Birthday: August 7\n",
      "Email: edwinab0007@gmail.com\n",
      "FavoriteFoods: Burgers, Pizza, Brownies, Watermelon\n",
      "Hobbies: Biking, Hiking, Playing Video Games\n",
      "\n",
      "Name: Emaad Mir\n",
      "Birthday: January 12\n",
      "Email: emaadidrismir@gmail.com\n",
      "FavoriteFoods: French Fries, Ice Cream, Bananas, Pizza\n",
      "Hobbies: Playing Squash, Sleeping, Hiking, Cooking, Playing Basketball\n",
      "\n"
     ]
    }
   ],
   "source": [
    "def while_loop():       # i starts at 0\n",
    "    i = 0\n",
    "    while i < len(InfoDb):      # while i is less than the length of the dictionary (2), keep printing the people's data\n",
    "        print_data(InfoDb[i])\n",
    "        i = i + 1\n",
    "\n",
    "def while_loop_reverse():       # this does the same thing as described above, except it prints in reverse order\n",
    "    i = len(InfoDb) - 1\n",
    "    while i >= 0:\n",
    "        print_data(InfoDb[i])\n",
    "        i = i  -1\n",
    "\n",
    "print(\"REGULAR WHILE LOOP\\n\")              # labels the regular and reversed version of the list of people and their info\n",
    "while_loop()\n",
    "print(\"REVERSED WHILE LOOP\\n\")\n",
    "while_loop_reverse()"
   ]
  },
  {
   "cell_type": "markdown",
   "metadata": {},
   "source": [
    "# Recursive Loops\n",
    "This final technique achieves looping by calling itself repeatedly.\n",
    "\n",
    "recursive_loop(i) function is primed with the value 0 on its activation with \"recursive_loop(0)\"\n",
    "\n",
    "the last statement indented inside the if statement \"recursive_loop(i + 1)\" activates another call to the recursive_loop(i) function, each time i is increasing\n",
    "\n",
    "ultimately the \"if i < len(InfoDb):\" will evaluate to false and the program ends"
   ]
  },
  {
   "cell_type": "code",
   "execution_count": 30,
   "metadata": {},
   "outputs": [
    {
     "name": "stdout",
     "output_type": "stream",
     "text": [
      "RECURSIVE INDEX OUTPUT\n",
      "\n",
      "Name: Emaad Mir\n",
      "Birthday: January 12\n",
      "Email: emaadidrismir@gmail.com\n",
      "FavoriteFoods: French Fries, Ice Cream, Bananas, Pizza\n",
      "Hobbies: Playing Squash, Sleeping, Hiking, Cooking, Playing Basketball\n",
      "\n",
      "Name: Edwin Abraham\n",
      "Birthday: August 7\n",
      "Email: edwinab0007@gmail.com\n",
      "FavoriteFoods: Burgers, Pizza, Brownies, Watermelon\n",
      "Hobbies: Biking, Hiking, Playing Video Games\n",
      "\n"
     ]
    }
   ],
   "source": [
    "def recursive(index): # the recursive loop will keep calling itself until it is greater than or equal to the length of the dictionary\n",
    "\n",
    "    if index >= len(InfoDb):\n",
    "        return          # this is where the code will end\n",
    "\n",
    "    print_data(InfoDb[index])      # prints the data and keeps printing until it has reached the length of the dictionary\n",
    "    return recursive(index + 1)\n",
    "\n",
    "\n",
    "print(\"RECURSIVE INDEX OUTPUT\\n\")\n",
    "recursive(0)            # the computer will begin printing person 0's data and keep calling itself until there are no more people left"
   ]
  },
  {
   "cell_type": "markdown",
   "metadata": {},
   "source": [
    "# Adding Records to a Dictionary With User Input\n",
    "\n",
    "You can also have a user input something so that they can add it to the dictionary. For example, the function below shows a user inputting a student's full name and their grade level, which, once printed, will display what the details of that student."
   ]
  },
  {
   "cell_type": "code",
   "execution_count": 36,
   "metadata": {},
   "outputs": [
    {
     "name": "stdout",
     "output_type": "stream",
     "text": [
      "{'Emaad Mir': '10th'}\n"
     ]
    }
   ],
   "source": [
    "grade_level = {}\n",
    "\n",
    "for i in range(1):\n",
    "    student_name = input(\"Enter the student's full name \")\n",
    "    student_grade = input(\"Enter the student's grade level\")\n",
    "\n",
    "    grade_level[student_name] = student_grade\n",
    "\n",
    "    print(grade_level)"
   ]
  },
  {
   "cell_type": "markdown",
   "metadata": {},
   "source": [
    "# Quiz that Stores Dictionaries\n",
    "\n",
    "Last week, we were all assigned to create a Python quiz. This week, we also need to make a quiz, but it needs to store dictionaries. Below is a demonstration of how that works:"
   ]
  },
  {
   "cell_type": "code",
   "execution_count": 31,
   "metadata": {},
   "outputs": [
    {
     "name": "stdout",
     "output_type": "stream",
     "text": [
      "Hello, root running /bin/python3\n",
      "You will be asked 6 questions.\n",
      "Question: Are you ready to take a test?\n",
      "You said yes, so let's get started!\n",
      "What syntax allows you to format and pass variables in html?\n",
      "liquid is correct! Great job!\n",
      "What is the instructions for what you want a computer to do called?\n",
      "input is correct! Great job!\n",
      "What is the name of the theme that your webpage has by default?\n",
      "minima is correct! Great job!\n",
      "_______ involves calling itself repeatedly in order to achieve looping\n",
      "recursion is correct! Great job!\n",
      "Lists and ________ are used to collect information\n",
      "dictionaries is correct! Great job!\n",
      "What is the name of the file that the style directory is stored in (just the name, don't need the type of file)?\n",
      "sass is correct! Great job!\n",
      "root, you scored 6/6, which is 100.0%\n"
     ]
    }
   ],
   "source": [
    "import getpass, sys\n",
    "def question_and_answer(prompt):    \n",
    "    print(\"Question:\" +prompt)\n",
    "    msg = input(\"Question:\" +prompt)\n",
    "    print(\"Answer:\" +msg)\n",
    "## defines the format of how the question will be asked\n",
    "def question_with_response(prompt):\n",
    "    print(\"Question: \" + prompt)\n",
    "    msg = input(\"Question: \" + prompt)\n",
    "    return msg\n",
    "\n",
    "\n",
    "qa_list = []        # Shows the list of questions and answers\n",
    "qa_list.append({\n",
    "    \"Question\": \"What syntax allows you to format and pass variables in html?\",\n",
    "    \"Answer\": \"liquid\",\n",
    "\n",
    "})\n",
    "\n",
    "qa_list.append({\n",
    "    \"Question\": \"What is the instructions for what you want a computer to do called?\",\n",
    "    \"Answer\": \"input\",\n",
    "\n",
    "})\n",
    "\n",
    "\n",
    "qa_list.append({\n",
    "    \"Question\": \"What is the name of the theme that your webpage has by default?\",\n",
    "    \"Answer\": \"minima\",\n",
    "\n",
    "})\n",
    "\n",
    "qa_list.append({\n",
    "    \"Question\": \"_______ involves calling itself repeatedly in order to achieve looping\",   \n",
    "    \"Answer\": \"recursion\",\n",
    "\n",
    "})\n",
    "\n",
    "qa_list.append({\n",
    "    \"Question\": \"Lists and ________ are used to collect information\",\n",
    "    \"Answer\": \"dictionaries\",\n",
    "\n",
    "})\n",
    "\n",
    "qa_list.append({\n",
    "    \"Question\": \"What is the name of the file that the style directory is stored in (just the name, don't need the type of file)?\",\n",
    "    \"Answer\": \"sass\"\n",
    "})\n",
    "\n",
    "questions = len(qa_list)        # number of questions equals the length of the list of questions and answers\n",
    "score = 0   # this is the score the user will begin with\n",
    "\n",
    "print('Hello, ' + getpass.getuser() + \" running \" + sys.executable)    # user will be prompted with this message before taking the quiz \n",
    "print(\"You will be asked \" + str(questions) + \" questions.\")\n",
    "response = question_with_response(\"Are you ready to take a test?\")\n",
    "\n",
    "if response == \"yes\":       # if user types in yes, the quiz will commence\n",
    "\n",
    "    print(\"You said yes, so let's get started!\")\n",
    "\n",
    "    for q in qa_list:\n",
    "        print(q[\"Question\"])\n",
    "        response = input(q[\"Question\"])\n",
    "        if response == q[\"Answer\"]:\n",
    "\n",
    "         print(response + \" is correct! Great job!\")        # if the answer the user types in matches what is on the list, the user will get a point added to score\n",
    "         score = score + 1\n",
    "        else:                                           # if the user types something that doesn't match what's on the list, the user won't get a point\n",
    "         print(response + \" is incorrect! Sorry!\")\n",
    "    print(getpass.getuser() + \", you scored \" + str(score) +\"/\" + str(questions) + \", which is \" + str((score / questions) * 100) + \"%\")\n",
    "else:                                                   \n",
    "    print(\"Maybe another time!\")                    # if the user responds with no to the first prompt, the user will have this message and the code will end\n",
    "    "
   ]
  }
 ],
 "metadata": {
  "kernelspec": {
   "display_name": "Python 3.10.4 64-bit",
   "language": "python",
   "name": "python3"
  },
  "language_info": {
   "codemirror_mode": {
    "name": "ipython",
    "version": 3
   },
   "file_extension": ".py",
   "mimetype": "text/x-python",
   "name": "python",
   "nbconvert_exporter": "python",
   "pygments_lexer": "ipython3",
   "version": "3.10.6"
  },
  "orig_nbformat": 4,
  "vscode": {
   "interpreter": {
    "hash": "916dbcbb3f70747c44a77c7bcd40155683ae19c65e1c03b4aa3499c5328201f1"
   }
  }
 },
 "nbformat": 4,
 "nbformat_minor": 2
}

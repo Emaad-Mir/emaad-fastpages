{
 "cells": [
  {
   "attachments": {},
   "cell_type": "markdown",
   "metadata": {},
   "source": [
    "#  2.3 Implementation into PBL Project\n",
    "> \n",
    "- toc: true\n",
    "- image: /images/college-board-logo.png\n",
    "- categories: []\n",
    "- type: ap\n",
    "- week: 25"
   ]
  },
  {
   "attachments": {},
   "cell_type": "markdown",
   "metadata": {},
   "source": [
    "# Overview\n",
    "\n",
    "This blog briefly discusses how I was able to implement what we learned in 2.3 this week into my PBL Project that could also be my CPT submission. Below is a python code block that includes comments as well as extra explanations below it. "
   ]
  },
  {
   "cell_type": "code",
   "execution_count": 6,
   "metadata": {},
   "outputs": [
    {
     "name": "stdout",
     "output_type": "stream",
     "text": [
      "_ _ _ _ _ _ _ _ \n",
      "Sorry! The letter c is not in the word.\n",
      "_ _ _ _ _ _ _ _ \n",
      "The letter r is in the word\n",
      "_ _ _ _ r _ _ _ \n",
      "Sorry! The letter d is not in the word.\n",
      "_ _ _ _ r _ _ _ \n",
      "The letter g is in the word\n",
      "_ _ g _ r _ _ _ \n",
      "Sorry! The letter p is not in the word.\n",
      "_ _ g _ r _ _ _ \n",
      "Sorry! The letter a is not in the word.\n",
      "_ _ g _ r _ _ _ \n",
      "Sorry! The letter e is not in the word.\n",
      "_ _ g _ r _ _ _ \n",
      "The letter i is in the word\n",
      "_ i g _ r _ _ _ \n",
      "The letter o is in the word\n",
      "_ i g o r o _ _ \n",
      "The letter v is in the word\n",
      "v i g o r o _ _ \n",
      "The letter u is in the word\n",
      "v i g o r o u _ \n",
      "The letter s is in the word\n",
      "You Win!\n",
      "v i g o r o u s \n"
     ]
    }
   ],
   "source": [
    "import pandas as pd\n",
    "import random\n",
    "\n",
    "# student-developed procedure update_progress, includes sequencing, selection, and iteration.\n",
    "def update_progress(letter, word, blanks, progress):\n",
    "    for i in range(len(word)):\n",
    "        if letter == word[i]:\n",
    "            blanks[i*2] = word[i]\n",
    "            # keeps track of progress, if progress = word, the user has won\n",
    "            progress[i] = word[i]\n",
    "\n",
    "words = pd.read_json(\"files/words.json\")\n",
    "word = random.choice(words[\"words\"].values)\n",
    "\n",
    "lives = 7\n",
    "\n",
    "# creates a list, number of blanks depends on length of the word\n",
    "\n",
    "# the blanks list and the progress list stores the number of letters that the user has guessed correctly (data abstraction), list is used rather than defining a variable for every single letter (managing complexity?)\n",
    "\n",
    "blanks = [\"_\", \" \"]*len(word)\n",
    "\n",
    "progress = [\" \"]*len(word)\n",
    "\n",
    "while lives > 0:\n",
    "    if \"\".join(progress) == word:\n",
    "        print(\"You Win!\")\n",
    "        quit()\n",
    "    print(\"\".join(blanks))\n",
    "    user_input = input(\"Enter a letter.\")\n",
    "\n",
    "    if user_input.lower() in word:\n",
    "        print(f\"The letter {user_input} is in the word\")\n",
    "        update_progress(user_input.lower(),word,blanks,progress)\n",
    "\n",
    "        \n",
    "    else:\n",
    "        lives-=1\n",
    "        print(f\"Sorry! The letter {user_input} is not in the word.\")\n",
    "\n",
    "if lives == 0:\n",
    "    print(f\"You Lost! The word was {word}.\")\n",
    "    quit()\n"
   ]
  }
 ],
 "metadata": {
  "kernelspec": {
   "display_name": "base",
   "language": "python",
   "name": "python3"
  },
  "language_info": {
   "codemirror_mode": {
    "name": "ipython",
    "version": 3
   },
   "file_extension": ".py",
   "mimetype": "text/x-python",
   "name": "python",
   "nbconvert_exporter": "python",
   "pygments_lexer": "ipython3",
   "version": "3.9.12"
  },
  "orig_nbformat": 4
 },
 "nbformat": 4,
 "nbformat_minor": 2
}

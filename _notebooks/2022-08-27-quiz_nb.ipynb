{
 "cells": [
  {
   "cell_type": "markdown",
   "metadata": {},
   "source": [
    "# It's Quiz Time!\n",
    "> This quiz covers topics involving Python and a bunch of other cool computer science stuff!\n",
    "\n",
    "- badges: true\n",
    "- comments: true\n",
    "- categories: [jupyter,python]"
   ]
  },
  {
   "cell_type": "code",
   "execution_count": 8,
   "metadata": {},
   "outputs": [
    {
     "name": "stdout",
     "output_type": "stream",
     "text": [
      "Hello, root running /bin/python3\n",
      "You will be asked 6 questions.\n",
      "Question: Are you ready to take a test?\n",
      "You said yes, so let's get started!\n",
      "Question: What command is used to include other functions that were previously developed?\n",
      "import is correct! Yay!\n",
      "Question: What command is used to evaluate correct or incorrect response in this example?\n",
      "while is incorrect! Sorry!\n",
      "Question: Each 'if' command contains an '_________' to determine a true or false condition?\n",
      "expression is correct! Yay!\n",
      "Question: What is the term used to describe a set of two or more lines of code?\n",
      "sequence is correct! Yay!\n",
      "Question: What is a key word used in Python to describe a function?\n",
      "def is correct! Yay!\n",
      "Question: What is the name of the library that we are importing this function from?\n",
      "os is correct! Yay!\n",
      "root you scored 5/6 which is 83.33333333333334%\n"
     ]
    }
   ],
   "source": [
    "import getpass, sys\n",
    "def question_and_answer(prompt):\n",
    "    print(\"Question:\" +prompt)\n",
    "    msg = input(\"Question:\" +prompt)\n",
    "    print(\"Answer:\" +msg)\n",
    "## defines the format of how the question will be asked\n",
    "def question_with_response(prompt):\n",
    "    print(\"Question: \" + prompt)\n",
    "    msg = input(\"Question: \" + prompt)\n",
    "    return msg\n",
    "\n",
    "question_list = [   ## shows the list of questions that will be asked on the quiz\n",
    "    \"What command is used to include other functions that were previously developed?\",\n",
    "    \"What command is used to evaluate correct or incorrect response in this example?\",\n",
    "    \"Each 'if' command contains an '_________' to determine a true or false condition?\",\n",
    "    \"What is the term used to describe a set of two or more lines of code?\",\n",
    "    \"What is a key word used in Python to describe a function?\",\n",
    "    \"What is the name of the library that we are importing this function from?\"\n",
    "]\n",
    "\n",
    "answer_list = [\n",
    "    \"import\",\n",
    "    \"if\",\n",
    "    \"expression\",\n",
    "    \"sequence\",\n",
    "    \"def\",\n",
    "    \"os\"\n",
    "]\n",
    "## the number of questions being asked is equal to how many there are on the list\n",
    "questions = len(question_list)\n",
    "correct = 0\n",
    "\n",
    "## This is what the user will be prompted with before taking the quiz\n",
    "print('Hello, ' + getpass.getuser() + \" running \" + sys.executable)\n",
    "print(\"You will be asked \" + str(questions) + \" questions.\")\n",
    "rsp = question_with_response(\"Are you ready to take a test?\")\n",
    "\n",
    "## If the user types in yes as their answer, the quiz will begin\n",
    "if rsp == \"yes\":\n",
    "\n",
    "    print(\"You said yes, so let's get started!\")\n",
    " ## Depending on the question, if the answer the user inputted matches one of the answers on the list, they will get a message saying they are correct.\n",
    "    for i in range(len(question_list)):\n",
    "        rsp = question_with_response(question_list[i])\n",
    "        if rsp == answer_list[i]:\n",
    "            print(rsp + \" is correct! Yay!\")\n",
    "            correct += 1\n",
    "## If the answer the user inputted doesn't match any of the answers on the list (again depending on question), they will get a message saying they are wrong.\n",
    "        else:\n",
    "            print(rsp + \" is incorrect! Sorry!\")\n",
    "\n",
    "## After completing the quiz, the user will get their score out of 6 and the percentage\n",
    "    print(getpass.getuser() + \" you scored \" + str(correct) +\"/\" + str(questions) + \" which is \" + str((correct / questions) * 100) + \"%\")\n",
    "## If the user types in no to not being ready, the user will have this message\n",
    "else:\n",
    "    print(\"You said no, so come back when you're ready!\")"
   ]
  }
 ],
 "metadata": {
  "kernelspec": {
   "display_name": "Python 3.10.4 64-bit",
   "language": "python",
   "name": "python3"
  },
  "language_info": {
   "codemirror_mode": {
    "name": "ipython",
    "version": 3
   },
   "file_extension": ".py",
   "mimetype": "text/x-python",
   "name": "python",
   "nbconvert_exporter": "python",
   "pygments_lexer": "ipython3",
   "version": "3.10.4"
  },
  "orig_nbformat": 4,
  "vscode": {
   "interpreter": {
    "hash": "916dbcbb3f70747c44a77c7bcd40155683ae19c65e1c03b4aa3499c5328201f1"
   }
  }
 },
 "nbformat": 4,
 "nbformat_minor": 2
}

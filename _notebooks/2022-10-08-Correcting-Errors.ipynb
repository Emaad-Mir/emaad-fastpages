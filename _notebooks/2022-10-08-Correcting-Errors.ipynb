{
 "cells": [
  {
   "cell_type": "markdown",
   "metadata": {},
   "source": [
    "# Correcting Errors Challenge (Burger, Fries, and Drink)\n",
    "> Here is some code that I made error proof so that the user can see the total cost of their meal!\n",
    "\n",
    "- badges: true\n",
    "- comments: true\n",
    "- image: /images/fastfood.jpg\n",
    "- categories: [jupyter,python,week7hacks]"
   ]
  },
  {
   "cell_type": "markdown",
   "metadata": {},
   "source": [
    "For this week's hacks, we were challenged to identify and correct errors on a code segment that allows a user to order items from a menu. Below is the code with errors:"
   ]
  },
  {
   "cell_type": "code",
   "execution_count": 1,
   "metadata": {},
   "outputs": [
    {
     "name": "stdout",
     "output_type": "stream",
     "text": [
      "Menu\n",
      "burger  $3.99\n",
      "fries  $1.99\n",
      "drink  $0.99\n",
      "0\n"
     ]
    }
   ],
   "source": [
    "menu =  {\"burger\": 3.99,\n",
    "         \"fries\": 1.99,\n",
    "         \"drink\": 0.99}\n",
    "total = 0\n",
    "\n",
    "#shows the user the menu and prompts them to select an item\n",
    "print(\"Menu\")\n",
    "for k,v in menu.items():\n",
    "    print(k + \"  $\" + str(v)) #why does v have \"str\" in front of it?\n",
    "\n",
    "#ideally the code should prompt the user multiple times\n",
    "item = input(\"Please select an item from the menu\")\n",
    "\n",
    "#code should add the price of the menu items selected by the user \n",
    "print(total)"
   ]
  },
  {
   "cell_type": "markdown",
   "metadata": {},
   "source": [
    "The problem with the above code is that it prompts the user to order something only one time. Also, as you can see, even if a user orders something, the total cost still remains at 0. Below is the code that has all of these errors corrected:"
   ]
  },
  {
   "cell_type": "code",
   "execution_count": 2,
   "metadata": {},
   "outputs": [
    {
     "name": "stdout",
     "output_type": "stream",
     "text": [
      "Hello! Welcome to our Python restaurant! What would you like?\n",
      "Menu\n",
      "burger  $3.99\n",
      "fries  $1.99\n",
      "drink  $0.99\n",
      "3.99\n",
      "5.98\n",
      "6.970000000000001\n",
      "Have a nice day!\n"
     ]
    }
   ],
   "source": [
    "menu =  {\"burger\": 3.99,\n",
    "         \"fries\": 1.99,\n",
    "         \"drink\": 0.99}\n",
    "total = 0\n",
    "\n",
    "# welcomes the user shows them the menu and prompts them to select an item\n",
    "print(\"Hello! Welcome to our Python restaurant! What would you like?\")\n",
    "print(\"Menu\")\n",
    "for k,v in menu.items():\n",
    "    print(k + \"  $\" + str(v)) # shows the name of the item on the menu followed by its price\n",
    "\n",
    "#ideally the code should prompt the user multiple times\n",
    "order = True\n",
    "while order:   # this makes it so that the user will be prompted multiple times to order something\n",
    "    item = input(\"Please select an item from the menu\")\n",
    "    if item in menu.keys(): # If the user orders an item on the menu, the cost of that item will be added to the total cost\n",
    "        total+= menu[item]\n",
    "        print(total)\n",
    "    else:           # if a user tries to order something that is not on the menu, the code will immediately exit\n",
    "        order = False\n",
    "        \n",
    "print(\"Have a nice day!\")"
   ]
  },
  {
   "cell_type": "markdown",
   "metadata": {},
   "source": [
    "As you can see, an item that a user orders will now have its price be added to the total cost. Also, the user can now order from the menu as many times as they want until they hit the escape key. "
   ]
  }
 ],
 "metadata": {
  "kernelspec": {
   "display_name": "Python 3.10.6 64-bit",
   "language": "python",
   "name": "python3"
  },
  "language_info": {
   "codemirror_mode": {
    "name": "ipython",
    "version": 3
   },
   "file_extension": ".py",
   "mimetype": "text/x-python",
   "name": "python",
   "nbconvert_exporter": "python",
   "pygments_lexer": "ipython3",
   "version": "3.10.6"
  },
  "orig_nbformat": 4,
  "vscode": {
   "interpreter": {
    "hash": "31f2aee4e71d21fbe5cf8b01ff0e069b9275f58929596ceb00d14d90e3e16cd6"
   }
  }
 },
 "nbformat": 4,
 "nbformat_minor": 2
}

{
 "cells": [
  {
   "attachments": {},
   "cell_type": "markdown",
   "metadata": {},
   "source": [
    "#  Space and Time Complexities and Sorting Algorithms Review\n",
    "> Review of space and time complexities and sorting algorithms for the 5/8 AP Exam!\n",
    "- toc: true\n",
    "- image: /images/college-board-logo.png\n",
    "- categories: []\n",
    "- type: pbl\n",
    "- week: 28"
   ]
  },
  {
   "attachments": {},
   "cell_type": "markdown",
   "metadata": {},
   "source": [
    "# Overview of This Blog\n",
    "\n",
    "Over the past few weeks through tech talks, we have learned about what space and time complexity is and why it is important as we construct algorithms. Some time complexities are faster (ex. O(n), O(1)), while some add much more time for each extra step or element of a list (ex. O(n^2), O(2^n), etc.). There are also various kinds of sorting algorithms, with some being more efficient than others. This blog serves to review all of these concepts to allow one to get a quick recap of everything that we have learned so far in Data Structures 1."
   ]
  },
  {
   "attachments": {},
   "cell_type": "markdown",
   "metadata": {},
   "source": [
    "# Time Complexities"
   ]
  },
  {
   "attachments": {},
   "cell_type": "markdown",
   "metadata": {},
   "source": [
    "## Constant: O(1)\n",
    "\n",
    "This kind of time complexity is probably the easiest one to understand. Constant time complexity is an algorithm that takes the same amount of time to execute regardless of the number of inputs/elements of the list. For example, if we wanted to find the fourth element of a list of numbers, we can do so as shown in the code below:"
   ]
  },
  {
   "cell_type": "code",
   "execution_count": 4,
   "metadata": {},
   "outputs": [
    {
     "name": "stdout",
     "output_type": "stream",
     "text": [
      "69\n"
     ]
    }
   ],
   "source": [
    "num_list = [17,29,42,69,100,206] # list of numbers\n",
    "print(num_list[3])"
   ]
  },
  {
   "attachments": {},
   "cell_type": "markdown",
   "metadata": {},
   "source": [
    "We could make the list smaller or larger, but it will not change the amount of time that it takes to execute the program. "
   ]
  },
  {
   "attachments": {},
   "cell_type": "markdown",
   "metadata": {},
   "source": [
    "## Linear: O(n)\n",
    "\n",
    "Linear time complexity is when the time it takes for an algorithm to execute increase linearly with the number of inputs/elements of a list used. For this time complexity and the rest of the ones below, the amount of inputs used does matter, unlike the constant time algorithm. For example, if we wanted to iterate through a list of numbers to check if they are greater than a certain value and to print only those numbers, the more elements that we use, the longer the program will take to execute."
   ]
  },
  {
   "cell_type": "code",
   "execution_count": 17,
   "metadata": {},
   "outputs": [
    {
     "name": "stdout",
     "output_type": "stream",
     "text": [
      "150\n",
      "111\n",
      "525\n"
     ]
    }
   ],
   "source": [
    "num_list = [10,37,82,99,150,111,69420,525]\n",
    "\n",
    "\n",
    "def display():\n",
    "    for num in num_list:\n",
    "        if num > 100 and num < 1000:\n",
    "            print(num)\n",
    "\n",
    "display()"
   ]
  },
  {
   "attachments": {},
   "cell_type": "markdown",
   "metadata": {},
   "source": [
    "While the difference in time is not visible (since the list is only 8 elements), the larger and larger we make this list, the more time that it will take for the computer to iterate through each number of the list to see which ones are greater than 100 but less than 100. "
   ]
  },
  {
   "attachments": {},
   "cell_type": "markdown",
   "metadata": {},
   "source": [
    "## Quadratic: O(n^2)\n",
    "\n",
    "O(n^2) time complexity is an algorithm in which the time that it takes to execute increases by the number of inputs added squared. For example, if the input array/list has 10 elements, it will do 100 operations. If the input array/list has 2 elements, will do 4 operations, and if the list has 10 elements, it will do 100 operations, and so on. Clearly, this kind of time complexity is not the most efficient, as it adds a lot more operations and therefore execution time for each extra element. "
   ]
  },
  {
   "cell_type": "code",
   "execution_count": 53,
   "metadata": {},
   "outputs": [
    {
     "name": "stdout",
     "output_type": "stream",
     "text": [
      "0\n",
      "1\n",
      "2\n",
      "0\n",
      "1\n",
      "2\n",
      "0\n",
      "1\n",
      "2\n"
     ]
    }
   ],
   "source": [
    "\n",
    "num_list = [16,102,301]\n",
    "\n",
    "n = len(num_list)\n",
    "\n",
    "for i in range(0,n):\n",
    "    for j in range(0,n):\n",
    "        print(j)\n",
    "        "
   ]
  },
  {
   "attachments": {},
   "cell_type": "markdown",
   "metadata": {},
   "source": [
    "As you can see, the outer loop containing \"i\" will run 3 times since there are 3 elements in the list. However, since we also have a nested for loop within that loop (j), the inner loop will also run 3 times, thus printing out the length of the list from 0 to 2 3 times (9 operations). Even though it may not look like a big difference now, if we continue to increase the size of the list, it will get to the point in which we will lose all patience because of how long it will take. "
   ]
  },
  {
   "attachments": {},
   "cell_type": "markdown",
   "metadata": {},
   "source": [
    "## Logarithmic: O(logn)\n",
    "\n",
    "Logarithmic time complexity is probably one of the more faster time complexities of the ones mentioned so far (behind constant). With logarithmic time complexity, as the input/list size became bigger, the number of operations (i.e. time) grows very slowly, with n representing the number of elements. For example, one could show a binary search algorithm to demonstrate logarithmic time complexity, as shown below:"
   ]
  },
  {
   "cell_type": "code",
   "execution_count": 56,
   "metadata": {},
   "outputs": [
    {
     "name": "stdout",
     "output_type": "stream",
     "text": [
      "You inputted 532\n",
      "532 is present at index 3\n"
     ]
    }
   ],
   "source": [
    "def binary_search(num_list, x, low, high):\n",
    "    # Repeat until the pointers low and high meet each other\n",
    "    while low <= high:\n",
    "\n",
    "        mid = low + (high - low)//2\n",
    "\n",
    "        if num_list[mid] == x:\n",
    "            return mid\n",
    "\n",
    "        elif num_list[mid] < x:\n",
    "            low = mid + 1\n",
    "\n",
    "        else:\n",
    "            high = mid - 1\n",
    "\n",
    "    return -1\n",
    "\n",
    "num_list = [12,100,203,532,69420,102710]\n",
    "\n",
    "x = int(input(\"Enter any number from the number list: 12,100,203,532,69420,102710\"))\n",
    "print(f'You inputted {x}')\n",
    "\n",
    "\n",
    "result = binary_search(num_list, x, 0, len(num_list)-1)\n",
    "\n",
    "if result != -1:\n",
    "    print(f'{x} is present at index {result}')\n",
    "else:\n",
    "    print(f'{x} is not present')\n"
   ]
  },
  {
   "attachments": {},
   "cell_type": "markdown",
   "metadata": {},
   "source": [
    "It is also worth noting that the number of times that the program has to iterate through the program to find x is equal to the log base 2 of the closest next power of 2 to the length of the list. In this case, since the length of the list was 6, log base 2 of 6 is closest to 3, therefore the program had to guess 3 times before arriving at x, which was 532 here."
   ]
  },
  {
   "attachments": {},
   "cell_type": "markdown",
   "metadata": {},
   "source": [
    "## Exponential: O(2^n)\n",
    "\n",
    "Exponential time complexity is probably something you can imagine. As the number of elements n increases, the number of operations performed (i.e. time) increases exponentially. Obviously, this kind of time complexity is highly inefficient, as for every one new element, the time increases dramatically compared to linear or quadratic. One example of an exponential time complexity program is a program that finds the number of possible permutations of a list of numbers, as demonstrated below:"
   ]
  },
  {
   "cell_type": "code",
   "execution_count": 62,
   "metadata": {},
   "outputs": [
    {
     "name": "stdout",
     "output_type": "stream",
     "text": [
      "(1, 2, 3, 4)\n",
      "(1, 2, 4, 3)\n",
      "(1, 3, 2, 4)\n",
      "(1, 3, 4, 2)\n",
      "(1, 4, 2, 3)\n",
      "(1, 4, 3, 2)\n",
      "(2, 1, 3, 4)\n",
      "(2, 1, 4, 3)\n",
      "(2, 3, 1, 4)\n",
      "(2, 3, 4, 1)\n",
      "(2, 4, 1, 3)\n",
      "(2, 4, 3, 1)\n",
      "(3, 1, 2, 4)\n",
      "(3, 1, 4, 2)\n",
      "(3, 2, 1, 4)\n",
      "(3, 2, 4, 1)\n",
      "(3, 4, 1, 2)\n",
      "(3, 4, 2, 1)\n",
      "(4, 1, 2, 3)\n",
      "(4, 1, 3, 2)\n",
      "(4, 2, 1, 3)\n",
      "(4, 2, 3, 1)\n",
      "(4, 3, 1, 2)\n",
      "(4, 3, 2, 1)\n"
     ]
    }
   ],
   "source": [
    "import itertools\n",
    "\n",
    "num_list = [1, 2, 3, 4]\n",
    "\n",
    "permutations = itertools.permutations(num_list)\n",
    "\n",
    "for i in permutations:\n",
    "    print(i)\n"
   ]
  },
  {
   "attachments": {},
   "cell_type": "markdown",
   "metadata": {},
   "source": [
    "As we increase the number of inputs in the number list, the program will take more and more time to generate the list of all possible permutations of the original list. "
   ]
  },
  {
   "attachments": {},
   "cell_type": "markdown",
   "metadata": {},
   "source": [
    "# Sorting Algorithms"
   ]
  },
  {
   "attachments": {},
   "cell_type": "markdown",
   "metadata": {},
   "source": [
    "Sorting algorithms are algorithms that take a large list of items and puts them into a specific order. For example, with a list of numbers, a sorting algorithm may sort the list of numbers from highest to lowest or lowest to highest. The next code segments all fulfill the same purpose but by different means of doing so with different time complexities. "
   ]
  },
  {
   "attachments": {},
   "cell_type": "markdown",
   "metadata": {},
   "source": [
    "## Bubble Sort Algorithm: O(n^2)\n",
    "\n",
    "The bubble sorting algorithm is an algorithm that compares two consecutive elements of a list. If the two elements (example numbers) are in the right order, nothing needs to be changed. If the numbers are not in the right order, however, they will then be swapped so that the smaller numbers can be \"bubbled\" to the top of the list. "
   ]
  },
  {
   "cell_type": "code",
   "execution_count": 65,
   "metadata": {},
   "outputs": [
    {
     "data": {
      "text/plain": [
       "[0, 1, 2, 3, 4, 5, 6, 7, 8, 10, 11]"
      ]
     },
     "execution_count": 65,
     "metadata": {},
     "output_type": "execute_result"
    }
   ],
   "source": [
    "num_list = [3,11,6,1,5,10,8,4,0,2,7]\n",
    "\n",
    "def bubble_sort(num_list):\n",
    "    n = len(num_list)\n",
    "\n",
    "    for i in range(n):\n",
    "\n",
    "        already_sorted = True\n",
    "\n",
    "        for j in range(n - i - 1):\n",
    "            if num_list[j] > num_list[j + 1]:\n",
    "                \n",
    "                num_list[j], num_list[j + 1] = num_list[j + 1], num_list[j]\n",
    "\n",
    "              \n",
    "                already_sorted = False\n",
    "\n",
    "       \n",
    "        if already_sorted:\n",
    "            break\n",
    "\n",
    "    return num_list\n",
    "\n",
    "bubble_sort(num_list)"
   ]
  },
  {
   "attachments": {},
   "cell_type": "markdown",
   "metadata": {},
   "source": [
    "Bubble sort gets the job done of sorting the list; however, it does have an average time complexity of O(n^2), meaning that the number of operations performed will get larger and larger as the list in question gets larger and larger. Thus, even though bubble sort is one of the more simpler algorithms to understand, it may not be the best option when it comes to sorting. "
   ]
  },
  {
   "attachments": {},
   "cell_type": "markdown",
   "metadata": {},
   "source": [
    "## Merge Sort Algorithm: O(nlogn)\n",
    "\n",
    "With the merge sorting algorithm, the algorithm takes one array and splits it in half. For each half of the array, the algorithm rearranges the array so that the elements are in the desired order. Once that has been done successfully, the algorithm merges the two arrays/lists back together so that the desired order is achieved for the entire array/list. "
   ]
  },
  {
   "cell_type": "code",
   "execution_count": 66,
   "metadata": {},
   "outputs": [
    {
     "data": {
      "text/plain": [
       "[0, 1, 2, 3, 4, 5, 6, 7, 8, 10, 11]"
      ]
     },
     "execution_count": 66,
     "metadata": {},
     "output_type": "execute_result"
    }
   ],
   "source": [
    "def merge_sort(arr):\n",
    "    if len(arr) <= 1:\n",
    "        return arr\n",
    "\n",
    "    mid = len(arr) // 2\n",
    "    left_half = arr[:mid]\n",
    "    right_half = arr[mid:]\n",
    "\n",
    "    left_half = merge_sort(left_half)\n",
    "    right_half = merge_sort(right_half)\n",
    "\n",
    "    return merge(left_half, right_half)\n",
    "\n",
    "def merge(left_half, right_half):\n",
    "    result = []\n",
    "    i, j = 0, 0\n",
    "    while i < len(left_half) and j < len(right_half):\n",
    "        if left_half[i] <= right_half[j]:\n",
    "            result.append(left_half[i])\n",
    "            i += 1\n",
    "        else:\n",
    "            result.append(right_half[j])\n",
    "            j += 1\n",
    "\n",
    "    result += left_half[i:]\n",
    "    result += right_half[j:]\n",
    "\n",
    "    return result\n",
    "\n",
    "num_list = [3,11,6,1,5,10,8,4,0,2,7]\n",
    "merge_sort(num_list)"
   ]
  },
  {
   "attachments": {},
   "cell_type": "markdown",
   "metadata": {},
   "source": [
    "Merge sort, just like bubble sort, is also another way of sorting a list back into the desired order. However, merge sort is better than bubble sort in terms of time complexity, with merge sort having an average time complexity of O(nlogn). This means that the amount of operations performed will not be as large as the input size increases for a merge sort algorithm as it would be for a bubble sorting algorithm. "
   ]
  },
  {
   "attachments": {},
   "cell_type": "markdown",
   "metadata": {},
   "source": [
    "# Reflection\n",
    "\n",
    "I created this blog to help remind myself of the differing time complexities and where they would fall in terms of least efficient to most efficient. However, after completing the blog, I hope that it will not only serve as a study tool for myself, but also for other students taking the APCSP exam in May, as I would want anyone who is also in my position to have something like this quickly recap everything that we have learned so far in this class. Furthermore, understanding the different time complexities and sorting algorithms is probably going to be an important concept for College Board, which is why I added some explanations to all of the code segments that I included so that I or someone else viewing this can understand what is going on. "
   ]
  }
 ],
 "metadata": {
  "kernelspec": {
   "display_name": "base",
   "language": "python",
   "name": "python3"
  },
  "language_info": {
   "codemirror_mode": {
    "name": "ipython",
    "version": 3
   },
   "file_extension": ".py",
   "mimetype": "text/x-python",
   "name": "python",
   "nbconvert_exporter": "python",
   "pygments_lexer": "ipython3",
   "version": "3.9.12"
  },
  "orig_nbformat": 4
 },
 "nbformat": 4,
 "nbformat_minor": 2
}

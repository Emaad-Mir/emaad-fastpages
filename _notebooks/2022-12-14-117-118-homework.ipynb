{
 "cells": [
  {
   "attachments": {},
   "cell_type": "markdown",
   "metadata": {},
   "source": [
    "# 3.17 - 3.18\n",
    "- title: Homework 3.17 - 3.18\n",
    "- permalink: /homework1718"
   ]
  },
  {
   "attachments": {},
   "cell_type": "markdown",
   "metadata": {},
   "source": [
    "# 3.17 Algorithmic Efficiency"
   ]
  },
  {
   "attachments": {},
   "cell_type": "markdown",
   "metadata": {},
   "source": [
    "## Vocabulary\n",
    "- Problem: a general description of a task that can or cannot be solved algorithmically\n",
    "    - Decision Problem: A problem with a yes or no example\n",
    "    - Organization Problem: a problem with a goal of finding the best answer\n",
    "- Instance: a problem with a specific input\n",
    "- Efficiency: amount of computing needed to solve a problem\n",
    "    - Polynomial Efficiency (Good): more work takes a proportional amount of time (1 job is +2 time)\n",
    "    - Exponential Efficiency (Bad): more work takes an exponential amount more time (1 job is 2x time)\n",
    "- Heuristic Approach: When optimal solutions are inefficient, look for a possibly optimal solution\n",
    "- Decidable Problem: A decision problem that has a clear solution that will always make a correct output\n",
    "- Undecidable Problem: A decision problem with no solution that is not guaranteed to produce the correct output\n"
   ]
  },
  {
   "attachments": {},
   "cell_type": "markdown",
   "metadata": {},
   "source": [
    "## 3.17 Notes\n",
    "- There are multiple types of problems\n",
    "    - Decision Problems, which are problems with a yes or no answer\n",
    "    - Organization Problems, which are problems that have a goal of finding the best answer\n",
    "- In addition to problems, there are also two types of efficiencies when it comes to algorithms\n",
    "    - Polynomial Efficient is a good thing, as adding an extra job will only add a little bit of time\n",
    "    - Exponential Efficient, on the other hand, is a bad thing, as adding even one extra job can exponentially increase the amount of time necessary to complete a task\n",
    "- In simple terms, the Heuristic Approach is essentially the method in which you find an answer that is \"close enough\" to be perfect\n",
    "    - This demonstrates that the best or optimal answer to a problem is not always going to be 100% perfect"
   ]
  },
  {
   "attachments": {},
   "cell_type": "markdown",
   "metadata": {},
   "source": [
    "## Challenge\n",
    "Try and fix this ineficcient code!\n",
    "Only change the code between the two commented lines.\n",
    "Fully programmed solution will improve your grade, at a minimum show that you tried."
   ]
  },
  {
   "cell_type": "code",
   "execution_count": 19,
   "metadata": {},
   "outputs": [
    {
     "name": "stdout",
     "output_type": "stream",
     "text": [
      "0.2598538398742676 seconds\n"
     ]
    }
   ],
   "source": [
    "import time\n",
    "\n",
    "numlist = [1,3,5,7,9,11,13,15,17,19]\n",
    "valuelist = [0,3,6,9,12,15,18,21]\n",
    "\n",
    "def isvalue(value, array):\n",
    "    #--------------------\n",
    "\n",
    "    # uses binary search to make this algorithm more time efficient\n",
    "    low = 0\n",
    "    high = len(array) - 1\n",
    "    while low <= high:\n",
    "        mid = (low + high) // 2\n",
    "        if value < array[mid]:\n",
    "            high = mid - 1\n",
    "        elif value > array[mid]:\n",
    "            low = mid + 1\n",
    "        else:\n",
    "            return True\n",
    "    return False\n",
    "    #--------------------\n",
    "starttime = time.time()\n",
    "for i in range(100000):\n",
    "    for i in range(len(valuelist)):\n",
    "        x = isvalue(valuelist[i],numlist)\n",
    "endtime = time.time()\n",
    "print(endtime-starttime,'seconds')\n"
   ]
  },
  {
   "attachments": {},
   "cell_type": "markdown",
   "metadata": {},
   "source": [
    "# 3.18 Undecidable Problems"
   ]
  },
  {
   "attachments": {},
   "cell_type": "markdown",
   "metadata": {},
   "source": [
    "## 3.18 Notes\n",
    "- When it comes to solving problems in our daily lives, computers cannot always do everything correctly\n",
    "- The video of the halting problem does a great job at demonstrating this, as in the process of feeding \"X\" with its own blueprints, \"H\" said that the machine would not get stuck even though it did\n",
    "- \"H\" was also wrong in stating that feeding \"X\" its own blueprints would cause it to get stuck when it did not\n",
    "    - This thus proves that even though \"H\" is designed to always be right, it cannot always perform tasks correctly with situations like the ones described above\n",
    "- There are simply certain machines or programs that cannot logically exist because they sometimes state the opposite of what actually happens\n",
    "- For example, a computer might guess when to stop loading a website that might never load, and this is why the internet connection times out if it takes too long to load"
   ]
  },
  {
   "attachments": {},
   "cell_type": "markdown",
   "metadata": {},
   "source": [
    "# Homework!\n",
    "\n",
    "Make an algorithm that finds the fastest route that hits every location once starting and ending at Del Norte. Make sure to show your thinking. If you are strugling, try using a huristic approach. Remember, what matters more than having perfectly functioning code is that you tried your hardest."
   ]
  },
  {
   "cell_type": "code",
   "execution_count": 56,
   "metadata": {},
   "outputs": [],
   "source": [
    "dataset = {\n",
    "    'DelNorte':{\n",
    "        'Westview':15,\n",
    "        'MtCarmel':20,\n",
    "        'Poway':35,\n",
    "        'RanchoBernrdo':50\n",
    "    },\n",
    "    'Westview':{\n",
    "        'Del Norte':15,\n",
    "        'MtCarmel':35,\n",
    "        'Poway':25,\n",
    "        'RanchoBernrdo': 45\n",
    "    },\n",
    "    'MtCarmel':{\n",
    "        'Westview':35,\n",
    "        'Del Norte':20,\n",
    "        'Poway':40,\n",
    "        'RanchoBernrdo':30\n",
    "    },\n",
    "    'Poway':{\n",
    "        'Westview':25,\n",
    "        'MtCarmel':40,\n",
    "        'Del Norte':35,\n",
    "        'RanchoBernrdo':15\n",
    "    },\n",
    "    'RanchoBernardo':{\n",
    "        'Westview':45,\n",
    "        'MtCarmel':30,\n",
    "        'Poway':15,\n",
    "        'Del Norte':50\n",
    "    }\n",
    "}"
   ]
  },
  {
   "cell_type": "code",
   "execution_count": 57,
   "metadata": {},
   "outputs": [
    {
     "ename": "KeyError",
     "evalue": "'Del Norte'",
     "output_type": "error",
     "traceback": [
      "\u001b[0;31m---------------------------------------------------------------------------\u001b[0m",
      "\u001b[0;31mKeyError\u001b[0m                                  Traceback (most recent call last)",
      "\u001b[1;32m/home/emaad/vscode/emaad-fastpages/_notebooks/2022-12-14-117-118-homework.ipynb Cell 11\u001b[0m in \u001b[0;36m<cell line: 32>\u001b[0;34m()\u001b[0m\n\u001b[1;32m     <a href='vscode-notebook-cell://wsl%2Bubuntu/home/emaad/vscode/emaad-fastpages/_notebooks/2022-12-14-117-118-homework.ipynb#X13sdnNjb2RlLXJlbW90ZQ%3D%3D?line=29'>30</a>\u001b[0m start \u001b[39m=\u001b[39m \u001b[39m'\u001b[39m\u001b[39mDel Norte\u001b[39m\u001b[39m'\u001b[39m\n\u001b[1;32m     <a href='vscode-notebook-cell://wsl%2Bubuntu/home/emaad/vscode/emaad-fastpages/_notebooks/2022-12-14-117-118-homework.ipynb#X13sdnNjb2RlLXJlbW90ZQ%3D%3D?line=30'>31</a>\u001b[0m \u001b[39m# 'dataset' is the name of the nested key value pair\u001b[39;00m\n\u001b[0;32m---> <a href='vscode-notebook-cell://wsl%2Bubuntu/home/emaad/vscode/emaad-fastpages/_notebooks/2022-12-14-117-118-homework.ipynb#X13sdnNjb2RlLXJlbW90ZQ%3D%3D?line=31'>32</a>\u001b[0m fastestroute(start, dataset)\n",
      "\u001b[1;32m/home/emaad/vscode/emaad-fastpages/_notebooks/2022-12-14-117-118-homework.ipynb Cell 11\u001b[0m in \u001b[0;36mfastestroute\u001b[0;34m(start, data)\u001b[0m\n\u001b[1;32m     <a href='vscode-notebook-cell://wsl%2Bubuntu/home/emaad/vscode/emaad-fastpages/_notebooks/2022-12-14-117-118-homework.ipynb#X13sdnNjb2RlLXJlbW90ZQ%3D%3D?line=13'>14</a>\u001b[0m min_location \u001b[39m=\u001b[39m \u001b[39mNone\u001b[39;00m\n\u001b[1;32m     <a href='vscode-notebook-cell://wsl%2Bubuntu/home/emaad/vscode/emaad-fastpages/_notebooks/2022-12-14-117-118-homework.ipynb#X13sdnNjb2RlLXJlbW90ZQ%3D%3D?line=14'>15</a>\u001b[0m \u001b[39mfor\u001b[39;00m location \u001b[39min\u001b[39;00m locations:\n\u001b[0;32m---> <a href='vscode-notebook-cell://wsl%2Bubuntu/home/emaad/vscode/emaad-fastpages/_notebooks/2022-12-14-117-118-homework.ipynb#X13sdnNjb2RlLXJlbW90ZQ%3D%3D?line=15'>16</a>\u001b[0m     t \u001b[39m=\u001b[39m data[order[\u001b[39m-\u001b[39;49m\u001b[39m1\u001b[39;49m]][location]\n\u001b[1;32m     <a href='vscode-notebook-cell://wsl%2Bubuntu/home/emaad/vscode/emaad-fastpages/_notebooks/2022-12-14-117-118-homework.ipynb#X13sdnNjb2RlLXJlbW90ZQ%3D%3D?line=16'>17</a>\u001b[0m     \u001b[39mif\u001b[39;00m t \u001b[39m<\u001b[39m min_time:\n\u001b[1;32m     <a href='vscode-notebook-cell://wsl%2Bubuntu/home/emaad/vscode/emaad-fastpages/_notebooks/2022-12-14-117-118-homework.ipynb#X13sdnNjb2RlLXJlbW90ZQ%3D%3D?line=17'>18</a>\u001b[0m         min_time \u001b[39m=\u001b[39m t\n",
      "\u001b[0;31mKeyError\u001b[0m: 'Del Norte'"
     ]
    }
   ],
   "source": [
    "def fastestroute(start, data):\n",
    "    # create a list of all locations except Del Norte\n",
    "    locations = list(data.keys())\n",
    "    if start in locations:\n",
    "        locations.remove(start)\n",
    "    # create a list to store the order of the locations\n",
    "    order = [start]\n",
    "    # create a variable to store the total driving time\n",
    "    time = 0\n",
    "    # while there are still locations to visit\n",
    "    while locations:\n",
    "        # find the location with the minimum driving time from the current location\n",
    "        min_time = float('inf')\n",
    "        min_location = None\n",
    "        for location in locations:\n",
    "            t = data[order[-1]][location]\n",
    "            if t < min_time:\n",
    "                min_time = t\n",
    "                min_location = location\n",
    "        # add the minimum location to the order and remove it from the list of locations\n",
    "        order.append(min_location)\n",
    "        locations.remove(min_location)\n",
    "        # add the minimum driving time to the total time\n",
    "        time += min_time\n",
    "    # add the driving time from the final location back to Del Norte\n",
    "    time += data[order[-1]][start]\n",
    "    # return the total driving time and order of locations\n",
    "    return time, order\n",
    "\n",
    "start = 'Del Norte'\n",
    "# 'dataset' is the name of the nested key value pair\n",
    "fastestroute(start, dataset)\n"
   ]
  },
  {
   "attachments": {},
   "cell_type": "markdown",
   "metadata": {},
   "source": [
    "# Explanation for What Went Wrong\n",
    "\n",
    "I noticed how I kept getting the same error involving the key error \"Del Norte\", and I tried several times to adjust the naming of Del Norte in the earlier code segment with all of the locations. Despite my efforts, I kept getting the same error. I tried to see if anyone else had a similar issue like this online and tried out what they did to solve it for themselves, but it unfortunately was still not enough to fix the problem. Although I could not get this code segment to work, I still think I was able to learn a lot overall from the lesson for 3.18 and was at least able to show that I did the best I could on this homework assignment. "
   ]
  },
  {
   "attachments": {},
   "cell_type": "markdown",
   "metadata": {},
   "source": [
    "### Grading:\n",
    "|Challenge|Homework|\n",
    "|---|---|\n",
    "|.15 pts for attempt|.65 for attempt|\n",
    "|.20 pts for complete|.70 for complete|\n",
    "|.25 pts for above and beyond|.75 pts for above and beyond|\n"
   ]
  }
 ],
 "metadata": {
  "kernelspec": {
   "display_name": "base",
   "language": "python",
   "name": "python3"
  },
  "language_info": {
   "codemirror_mode": {
    "name": "ipython",
    "version": 3
   },
   "file_extension": ".py",
   "mimetype": "text/x-python",
   "name": "python",
   "nbconvert_exporter": "python",
   "pygments_lexer": "ipython3",
   "version": "3.9.12"
  },
  "orig_nbformat": 4,
  "vscode": {
   "interpreter": {
    "hash": "587533099b5009788de4a0593b95c08fb364312472080bddc5e3384b713a9fde"
   }
  }
 },
 "nbformat": 4,
 "nbformat_minor": 2
}

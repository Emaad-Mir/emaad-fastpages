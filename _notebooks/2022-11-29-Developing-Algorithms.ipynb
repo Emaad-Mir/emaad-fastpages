{
 "cells": [
  {
   "attachments": {},
   "cell_type": "markdown",
   "metadata": {},
   "source": [
    "# Homework/Challenges and Notes for 3.9 and 3.11\n",
    "> Here is the homework that we were assigned to do for 3.9 and 3.11, as well as some notes that I took from the lesson.\n",
    "- toc: true \n",
    "- badges: true\n",
    "- comments: true"
   ]
  },
  {
   "attachments": {},
   "cell_type": "markdown",
   "metadata": {},
   "source": [
    "# 3.11 Developing Algorithms (Python)"
   ]
  },
  {
   "cell_type": "markdown",
   "metadata": {},
   "source": [
    "Algorithms can be written in different ways and still accomplish the same tasks.\n",
    "Algorithms that look similar often yield differnet outputs.\n",
    "To solve the same problem, many different algorithms can be used.\n",
    "\n",
    "Therefore, algorithms are very important for programmers, and today we're going to explore how to determine the outcome of algorithms, how to deteremine the output of similar algorithms, how to edit existing algorithms, and how to develop our own algorithms."
   ]
  },
  {
   "cell_type": "markdown",
   "metadata": {},
   "source": [
    "### Determine the outcome of algorithms"
   ]
  },
  {
   "cell_type": "markdown",
   "metadata": {},
   "source": [
    "**Consider the following algorithm.**"
   ]
  },
  {
   "cell_type": "code",
   "execution_count": 24,
   "metadata": {},
   "outputs": [
    {
     "name": "stdout",
     "output_type": "stream",
     "text": [
      "True\n"
     ]
    }
   ],
   "source": [
    "def mystery(num, num2):\n",
    "    if (num % num2 == 0):\n",
    "        print(\"True\")\n",
    "    else:\n",
    "        print(\"False\")\n",
    "\n",
    "mystery(20, 4)"
   ]
  },
  {
   "attachments": {},
   "cell_type": "markdown",
   "metadata": {},
   "source": [
    "1. What does the algorithm do? Please explain in words.\n",
    "The algorithm essentially prints true if the remainder of the two numbers (%) is equal to 0. Otherwise, if the remainder is not 0, False will be printed.\n",
    "2. What if I put in 30 as num and 4 as num2. What would be the output?\n",
    "False because the remainder of 30 and 4 is not equal to 0. 30/4 = 7.5, which means that these two numbers do not go into each other evenly."
   ]
  },
  {
   "cell_type": "markdown",
   "metadata": {},
   "source": [
    "### Determine the outcome of similar algorithms"
   ]
  },
  {
   "cell_type": "markdown",
   "metadata": {},
   "source": [
    "What is the output of this algorithm?\n",
    "\"It is too hot outside\" would be the output of this algorithm because 95 is greater than or equal to 90. "
   ]
  },
  {
   "cell_type": "code",
   "execution_count": 25,
   "metadata": {},
   "outputs": [
    {
     "name": "stdout",
     "output_type": "stream",
     "text": [
      "it is too hot outside\n"
     ]
    }
   ],
   "source": [
    "temp = 95\n",
    "if (temp >= 90):\n",
    "    print(\"it is too hot outside\")\n",
    "else:\n",
    "    if (temp >= 65):\n",
    "        print(\"I will go outside\")\n",
    "    else:\n",
    "        print(\"it is too cold outside\")"
   ]
  },
  {
   "attachments": {},
   "cell_type": "markdown",
   "metadata": {},
   "source": [
    "What is the output of this algorithm? it looks similar but the output is different!\n",
    "There will be two things: \"It is too hot outside\" and \"I will go outside\"\n"
   ]
  },
  {
   "cell_type": "code",
   "execution_count": 26,
   "metadata": {},
   "outputs": [
    {
     "name": "stdout",
     "output_type": "stream",
     "text": [
      "it is too hot outside\n",
      "i will go outside\n"
     ]
    }
   ],
   "source": [
    "temp = 95\n",
    "if (temp >= 90):\n",
    "    print(\"it is too hot outside\")\n",
    "if (temp >= 65):\n",
    "    print(\"i will go outside\")\n",
    "if (temp < 65):\n",
    "    print(\"it is too cold outside\")"
   ]
  },
  {
   "attachments": {},
   "cell_type": "markdown",
   "metadata": {},
   "source": [
    "### Editing Algorithms\n",
    "Task: Please edit the algorithm above to have it yield the same results as the previous algorithm! (no matter what temp you put in).\n",
    "This code segment allows the user to input any temperature, and depending on what it is, the output will be one of the three messages below:"
   ]
  },
  {
   "cell_type": "code",
   "execution_count": 27,
   "metadata": {},
   "outputs": [
    {
     "name": "stdout",
     "output_type": "stream",
     "text": [
      "72 degrees outside. I will go outside!\n"
     ]
    }
   ],
   "source": [
    "temp = int(input(\"Please enter a temperature in degrees Fahrenheit\"))\n",
    "if (temp >= 90):\n",
    "    print(f'{temp} degrees outside. It is too hot!')\n",
    "if (temp >= 65 and temp <= 90):\n",
    "    print(f'{temp} degrees outside. I will go outside!')\n",
    "if (temp < 65):\n",
    "    print(f'{temp} degrees outside. It is too cold!')"
   ]
  },
  {
   "cell_type": "markdown",
   "metadata": {},
   "source": [
    "### Developing Algorithms"
   ]
  },
  {
   "cell_type": "markdown",
   "metadata": {},
   "source": [
    "To develop algorithms, we first need to understand what the question is asking. Then, think about how you would approach it as a human and then try to find what pattern you went through to arrive at the answer. Apply this to code, and there you have it! An algorithm!"
   ]
  },
  {
   "cell_type": "markdown",
   "metadata": {},
   "source": [
    "Let's say you wanted to sum up the first five integers. How would you do this in real life?\n",
    "Your thought process would probably be:\n",
    "- The sum of the first integer is 1. \n",
    "- Then, increase that integer by 1. I now add 2 to my existing sum (1). My new sum is 3.\n",
    "- Repeat until I add 5 to my sum.\n",
    "The resulting sum is 15.\n",
    "\n",
    "Now let's translate this into code."
   ]
  },
  {
   "cell_type": "code",
   "execution_count": 28,
   "metadata": {},
   "outputs": [
    {
     "name": "stdout",
     "output_type": "stream",
     "text": [
      "15\n"
     ]
    }
   ],
   "source": [
    "sum = 0 # start with a sum of 0\n",
    "for i in range (1, 6): # you will repeat the process five times for integers 1-5\n",
    "    sum = sum + i # add the number to your sum\n",
    "print(sum) # print the result"
   ]
  },
  {
   "attachments": {},
   "cell_type": "markdown",
   "metadata": {},
   "source": [
    "### Task for 3.11 (Python)\n",
    "Task: Write an algorithm in python that sums up the first 5 odd integers. You can use the following code as a starter."
   ]
  },
  {
   "cell_type": "code",
   "execution_count": 29,
   "metadata": {},
   "outputs": [
    {
     "name": "stdout",
     "output_type": "stream",
     "text": [
      "25\n"
     ]
    }
   ],
   "source": [
    "sum = 0\n",
    "for i in range (1, 10, 2):\n",
    "    sum = sum + i\n",
    "print(sum)"
   ]
  },
  {
   "attachments": {},
   "cell_type": "markdown",
   "metadata": {},
   "source": [
    "### Homework 3.11 (Algorithms in Python)\n",
    "Create an algorithm that will start with any positive integer n and display the full sequence of numbers that result from the Collatz Conjecture. The COllatz Conjecture is as follows:\n",
    "1. start with any positive integer\n",
    "2. if the number is even, divide by 2\n",
    "3. if the number is odd, multiply by 3 and add 1\n",
    "4. repeat steps 2 and 3 until you reach 1\n",
    "\n",
    "Example: if the starting number was 6, the output would be 6, 3, 10, 5, 16, 8, 4, 2, 1"
   ]
  },
  {
   "attachments": {},
   "cell_type": "markdown",
   "metadata": {},
   "source": [
    "### 3.11 (Algorithms in Python) Homework Submission"
   ]
  },
  {
   "cell_type": "code",
   "execution_count": 31,
   "metadata": {},
   "outputs": [
    {
     "name": "stdout",
     "output_type": "stream",
     "text": [
      "Starting Value:  13\n",
      "40\n",
      "20\n",
      "10\n",
      "5\n",
      "16\n",
      "8\n",
      "4\n",
      "2\n",
      "1\n",
      "That's all folks!\n"
     ]
    }
   ],
   "source": [
    "def collatz(num: int) -> int:\n",
    "    # if the number is even and its remainder when divided by 2 is 0, the user's original input will be divided by 2\n",
    "    if num % 2 == 0:\n",
    "        return num // 2\n",
    "    \n",
    "    # otherwise, if the input is an odd positive number, that number will be multiplied by 3 and have 1 added to it\n",
    "    else:\n",
    "        return 3 * num + 1\n",
    "\n",
    "while True: \n",
    "    # prompts for a positive number\n",
    "    num = int(input('Please enter a positive integer: '))\n",
    "\n",
    "    # if the user types in a valid input, the collatz conjecture will come into play beginning from that inputted value\n",
    "    if num >= 0:\n",
    "        print(\"Starting Value: \",num)\n",
    "        break\n",
    "    # If the user tries to input a negative number, the code will prompt them with this and allow them to try again.\n",
    "    else:\n",
    "        print(\"Invalid input. Please try again and enter a positive integer:\")\n",
    "\n",
    "    \n",
    "    # the collatz conjecture continues to perform its necessary operations on the numbers until it finally reaches 1\n",
    "while num != 1:\n",
    "    num = collatz(num)\n",
    "    print(num)\n",
    "\n",
    "print(\"That's all folks!\")\n",
    "\n"
   ]
  },
  {
   "attachments": {},
   "cell_type": "markdown",
   "metadata": {},
   "source": [
    "# 3.9 Binary Search Introduction"
   ]
  },
  {
   "attachments": {},
   "cell_type": "markdown",
   "metadata": {},
   "source": [
    "### What is searching?\n",
    "In certain computer programs and applications, one might find the need to locate and retrieve a data value and/or it's index. Searching algorithms could be done in either intervals or sequences, and certain algorithms could be more efficient than others, with benefits and drawbacks to each."
   ]
  },
  {
   "attachments": {},
   "cell_type": "markdown",
   "metadata": {},
   "source": [
    "### 3.9 Binary Search Introduction Homework\n",
    "\n",
    "**Problem:** Given a specific integer **N**, return the square root of **N** (**R**) if **N** is a perfect square, otherwise, return the square root of **N** rounded down to the nearest integer\n",
    "\n",
    "**Input:** **N** (Integer)\n",
    "\n",
    "**Output:** **R** (Integer)\n",
    "  \n",
    "**Constraints:** Do not use any built-in math operations such as `sqrt(x)` or `x**(0.5)`, Try complete the problem in logarithmic time. \n",
    "  \n",
    "**Hint 1:** Maybe you can use Binary Search to try and reduce the number of checks you have to perform?  \n",
    "  \n",
    "**Hint 2:** Is there a mathematical pattern amongst numbers and their square roots that could help you reduce the number of searches or iterations you must execute? Is there some value or rule you can set before applying binary search to narrow the range of possible values?"
   ]
  },
  {
   "attachments": {},
   "cell_type": "markdown",
   "metadata": {},
   "source": [
    "Run the very last code segment below to load test cases and submission function"
   ]
  },
  {
   "cell_type": "code",
   "execution_count": 32,
   "metadata": {},
   "outputs": [],
   "source": [
    "from math import sqrt as sq\n",
    "\n",
    "def sqrt(N: int) -> int:\n",
    "    low = 0\n",
    "    high = N\n",
    "\n",
    "    while low <= high:\n",
    "        mid = (low + high) // 2\n",
    "        if mid * mid <= N:\n",
    "            low = mid + 1\n",
    "        else:\n",
    "            high = mid - 1\n",
    "\n",
    "    return low - 1\n"
   ]
  },
  {
   "cell_type": "code",
   "execution_count": 33,
   "metadata": {},
   "outputs": [
    {
     "name": "stdout",
     "output_type": "stream",
     "text": [
      "Check number 1 passed\n",
      "Check number 2 passed\n",
      "Check number 3 passed\n",
      "Check number 4 passed\n",
      "Check number 5 passed\n",
      "Check number 6 passed\n",
      "Check number 7 passed\n",
      "Check number 8 passed\n",
      "Check number 9 passed\n",
      "Check number 10 passed\n",
      "Check number 11 passed\n",
      "Check number 12 passed\n",
      "Check number 13 passed\n"
     ]
    }
   ],
   "source": [
    "from math import sqrt as sq\n",
    "# these are all of the numbers that will be tested on to see if each one passes the test\n",
    "test_cases = [0,1,4,85248289,22297284,18939904,91107025,69122596,9721924,37810201,1893294144,8722812816,644398225]\n",
    "\n",
    "# these are the expected values for the square root of each number\n",
    "answers = [int(sq(x)) for x in test_cases]\n",
    "\n",
    "def checkValid():\n",
    "    for i in range(len(test_cases)):\n",
    "# if the number from test_cases returns the expected value from the answers, it will print that the check number [number] has passed\n",
    "        if sqrt(test_cases[i]) == answers[i]:\n",
    "            print(\"Check number {} passed\".format(i+1))\n",
    "# if the number from test_cases does not return the expected value from the answers list, it will print that the check number [number] has failed\n",
    "        else:\n",
    "            print(\"Check number {} failed\".format(i+1))\n",
    "\n",
    "# calls the checkValid() function\n",
    "\n",
    "checkValid()"
   ]
  },
  {
   "attachments": {},
   "cell_type": "markdown",
   "metadata": {},
   "source": [
    "# 3.9 Developing Algorithms (JavaScript)\n",
    "\n",
    "As much as I would have liked to try the challenge of making an algorithm that takes in an IP address and a subnet mask and computes the network address, my JavaScript kernel has continued to not be working properly. I have tried several solutions that I found online to fix the problem, but no matter what I have tried, it still does not work. Although my kernel does not work, here is how I would have tried to go about doing this challenge (note: no output is shown since the kernel doesn't work)"
   ]
  },
  {
   "cell_type": "code",
   "execution_count": null,
   "metadata": {
    "vscode": {
     "languageId": "javascript"
    }
   },
   "outputs": [],
   "source": [
    "// Example\n",
    "var ipAddress = \"192.168.0.1\";\n",
    "var subnetMask = \"255.255.255.0\";\n",
    "\n",
    "var networkAddress = computeNetworkAddress(ipAddress, subnetMask);\n",
    "\n",
    "console.log(networkAddress); // Output: \"192.168.0.0\"\n",
    "\n",
    "// computeNetworkAddress() function\n",
    "function computeNetworkAddress(ipAddress, subnetMask) {\n",
    "  // Split the IP address and subnet mask into octets\n",
    "  var ipAddressOctets = ipAddress.split(\".\");\n",
    "  var subnetMaskOctets = subnetMask.split(\".\");\n",
    "\n",
    "  // Perform a bitwise AND operation on each octet of the IP address and subnet mask\n",
    "  var networkAddressOctets = ipAddressOctets.map(function(ipAddressOctet, index) {\n",
    "    return parseInt(ipAddressOctet, 10) & parseInt(subnetMaskOctets[index], 10);\n",
    "  });\n",
    "\n",
    "  // Concatenate the octets into a single decimal string\n",
    "  return networkAddressOctets.join(\".\");\n",
    "}\n"
   ]
  },
  {
   "attachments": {},
   "cell_type": "markdown",
   "metadata": {},
   "source": [
    "# Important Notes for Lessons 3.9 and 3.11"
   ]
  },
  {
   "attachments": {},
   "cell_type": "markdown",
   "metadata": {},
   "source": [
    "## 3.9 Binary Search Notes\n",
    "\n",
    "- Searching when it comes to computer programs and applications involves locating and retrieving a data value/and or its index\n",
    "    - Searching algorithms can be done in intervals or sequentially\n",
    "- Sequential Search - checks every value of the given array\n",
    "    - Cannot keep up with increasing input sizes, as the longer the array, the more time that it will take for the search to check\n",
    "    - In other words, as the input lists gets larger, the runtime of the program increases \"linearly\" as well\n",
    "- Binary Search - a more efficient way to check through a sorted list to find a specific value\n",
    "    - Involves checking the medium or middle value of a list and checking if the requested value is higher or lower than the middle value\n",
    "    - If the list is not sorted or in a proper order, the binary search algorithm cannot work anymore\n",
    "    - The maximum number of cycles in a binary search is equivalent to the log base 2 of the closest, next power of 2, to the length of the list\n",
    "    - When it comes to execution time, using the binary search method will overall take less time than using the sequential search method and is therefore more efficient and worthy of one's time"
   ]
  },
  {
   "attachments": {},
   "cell_type": "markdown",
   "metadata": {},
   "source": [
    "## 3.11 Algorithms (Can be Applied to both Python & JavaScript) Notes\n",
    "\n",
    "- Algorithms are specific steps designed to accomplish a certain task\n",
    "- In developing algorithms, it is crucial to understand what the question is asking\n",
    "- Example: if one wanted to sum up the first five integers, they would probably think about how...\n",
    "    - The sum of the first integer is 1\n",
    "    - Increase that integer by 1 before adding 2 to the existing sum. At this point, the new sum is 3\n",
    "    - This process would be repeated until 5 is added to the sum. To recap, this thought process would look something like this for humans:\n",
    "        - 1+2+3+4+5 = 15\n",
    "    - The resulting sum of the first five integers is 15.\n",
    "\n"
   ]
  },
  {
   "attachments": {},
   "cell_type": "markdown",
   "metadata": {},
   "source": [
    "Here is what this thought process would look like in Python:"
   ]
  },
  {
   "cell_type": "code",
   "execution_count": 34,
   "metadata": {},
   "outputs": [
    {
     "name": "stdout",
     "output_type": "stream",
     "text": [
      "15\n"
     ]
    }
   ],
   "source": [
    "sum = 0 # start with a sum of 0\n",
    "for i in range (1, 6): # you will repeat the process five times for integers 1-5\n",
    "    sum = sum + i # add the number to your sum\n",
    "print(sum) # print the result"
   ]
  }
 ],
 "metadata": {
  "kernelspec": {
   "display_name": "Python 3.8.10 64-bit",
   "language": "python",
   "name": "python3"
  },
  "language_info": {
   "codemirror_mode": {
    "name": "ipython",
    "version": 3
   },
   "file_extension": ".py",
   "mimetype": "text/x-python",
   "name": "python",
   "nbconvert_exporter": "python",
   "pygments_lexer": "ipython3",
   "version": "3.10.6"
  },
  "orig_nbformat": 4,
  "vscode": {
   "interpreter": {
    "hash": "916dbcbb3f70747c44a77c7bcd40155683ae19c65e1c03b4aa3499c5328201f1"
   }
  }
 },
 "nbformat": 4,
 "nbformat_minor": 2
}

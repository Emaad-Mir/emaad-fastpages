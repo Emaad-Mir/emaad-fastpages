{
 "cells": [
  {
   "cell_type": "markdown",
   "metadata": {},
   "source": [
    "# Developing Algorithms\n",
    "\n",
    "- toc: true \n",
    "- badges: true\n",
    "- comments: true"
   ]
  },
  {
   "cell_type": "markdown",
   "metadata": {},
   "source": [
    "Algorithms can be written in different ways and still accomplish the same tasks.\n",
    "Algorithms that look similar often yield differnet outputs.\n",
    "To solve the same problem, many different algorithms can be used.\n",
    "\n",
    "Therefore, algorithms are very important for programmers, and today we're going to explore how to determine the outcome of algorithms, how to deteremine the output of similar algorithms, how to edit existing algorithms, and how to develop our own algorithms."
   ]
  },
  {
   "cell_type": "markdown",
   "metadata": {},
   "source": [
    "### Determine the outcome of algorithms"
   ]
  },
  {
   "cell_type": "markdown",
   "metadata": {},
   "source": [
    "**Consider the following algorithm.**"
   ]
  },
  {
   "cell_type": "code",
   "execution_count": null,
   "metadata": {},
   "outputs": [],
   "source": [
    "def mystery(num, num2):\n",
    "    if (num % num2 == 0):\n",
    "        print(\"True\")\n",
    "    else:\n",
    "        print(\"False\")\n",
    "\n",
    "mystery(20, 4)"
   ]
  },
  {
   "cell_type": "markdown",
   "metadata": {},
   "source": [
    "1. What does the algorithm do? Please explain in words.\n",
    "The algorithm essentially prints true if the remainder of the two numbers (%) is equal to 0. Otherwise, if the remainder is not 0, False will be printed.\n",
    "2. What if I put in 30 as num and 4 as num2. What would be the output?\n",
    "False because the remainder of 30 and 4 is not equal to 0. "
   ]
  },
  {
   "cell_type": "markdown",
   "metadata": {},
   "source": [
    "### Determine the outcome of similar algorithms"
   ]
  },
  {
   "cell_type": "markdown",
   "metadata": {},
   "source": [
    "What is the output of this algorithm?\n",
    "\"It is too hot outside\" would be the output of this algorithm because 95 is greater than or equal to 90. "
   ]
  },
  {
   "cell_type": "code",
   "execution_count": null,
   "metadata": {},
   "outputs": [],
   "source": [
    "temp = 95\n",
    "if (temp >= 90):\n",
    "    print(\"it is too hot outside\")\n",
    "else:\n",
    "    if (temp >= 65):\n",
    "        print(\"I will go outside\")\n",
    "    else:\n",
    "        print(\"it is too cold outside\")"
   ]
  },
  {
   "cell_type": "markdown",
   "metadata": {},
   "source": [
    "What is the output of this algorithm? it looks similar but the output is different!\n",
    "There will be two things: \"It is too hot outside\" and \"I will go outside\""
   ]
  },
  {
   "cell_type": "code",
   "execution_count": 18,
   "metadata": {},
   "outputs": [
    {
     "name": "stdout",
     "output_type": "stream",
     "text": [
      "99 degrees outside. It is too hot!\n"
     ]
    }
   ],
   "source": [
    "temp = int(input(\"Please enter a temperature in degrees Fahrenheit\"))\n",
    "if (temp >= 90):\n",
    "    print(f'{temp} degrees outside. It is too hot!')\n",
    "if (temp >= 65 and temp <= 90):\n",
    "    print(f'{temp} degrees outside. I will go outside!')\n",
    "if (temp < 65):\n",
    "    print(f'{temp} degrees outside. It is too cold!')"
   ]
  },
  {
   "cell_type": "markdown",
   "metadata": {},
   "source": [
    "### Editing Algorithms\n",
    "Task: Please edit the algorithm above to have it yield the same results as the previous algorithm! (no matter what temp you put in)"
   ]
  },
  {
   "cell_type": "markdown",
   "metadata": {},
   "source": [
    "### Developing Algorithms"
   ]
  },
  {
   "cell_type": "markdown",
   "metadata": {},
   "source": [
    "To develop algorithms, we first need to understand what the question is asking. Then, think about how you would approach it as a human and then try to find what pattern you went through to arrive at the answer. Apply this to code, and there you have it! An algorithm!"
   ]
  },
  {
   "cell_type": "markdown",
   "metadata": {},
   "source": [
    "Let's say you wanted to sum up the first five integers. How would you do this in real life?\n",
    "Your thought process would probably be:\n",
    "- The sum of the first integer is 1. \n",
    "- Then, increase that integer by 1. I now add 2 to my existing sum (1). My new sum is 3.\n",
    "- Repeat until I add 5 to my sum.\n",
    "The resulting sum is 15.\n",
    "\n",
    "Now let's translate this into code."
   ]
  },
  {
   "cell_type": "code",
   "execution_count": 10,
   "metadata": {},
   "outputs": [
    {
     "name": "stdout",
     "output_type": "stream",
     "text": [
      "15\n"
     ]
    }
   ],
   "source": [
    "sum = 0 # start with a sum of 0\n",
    "for i in range (1, 6): # you will repeat the process five times for integers 1-5\n",
    "    sum = sum + i # add the number to your sum\n",
    "print(sum) # print the result"
   ]
  },
  {
   "cell_type": "markdown",
   "metadata": {},
   "source": [
    "Task: Write an algorithm in python that sums up the first 5 odd integers. You can use the following code as a starter."
   ]
  },
  {
   "cell_type": "code",
   "execution_count": 9,
   "metadata": {},
   "outputs": [
    {
     "name": "stdout",
     "output_type": "stream",
     "text": [
      "25\n"
     ]
    }
   ],
   "source": [
    "sum = 0\n",
    "for i in range (1, 10, 2):\n",
    "    sum = sum + i\n",
    "print(sum)"
   ]
  },
  {
   "cell_type": "markdown",
   "metadata": {},
   "source": [
    "### Homework\n",
    "Create an algorithm that will start with any positive integer n and display the full sequence of numbers that result from the Collatz Conjecture. The COllatz Conjecture is as follows:\n",
    "1. start with any positive integer\n",
    "2. if the number is even, divide by 2\n",
    "3. if the number is odd, multiply by 3 and add 1\n",
    "4. repeat steps 2 and 3 until you reach 1\n",
    "\n",
    "Example: if the starting number was 6, the output would be 6, 3, 10, 5, 16, 8, 4, 2, 1"
   ]
  },
  {
   "cell_type": "code",
   "execution_count": 8,
   "metadata": {},
   "outputs": [
    {
     "name": "stdout",
     "output_type": "stream",
     "text": [
      "User input:  16\n",
      "8\n",
      "4\n",
      "2\n",
      "1\n"
     ]
    }
   ],
   "source": [
    "def collatz(num: int) -> int:\n",
    "    # if the number is even and its remainder when divided by 2 is 0, the user's original input will be divided by 2\n",
    "    if num % 2 == 0:\n",
    "        return num // 2\n",
    "    \n",
    "    # otherwise, if the input is an odd positive number, that number will be multiplied by 3 and have 1 added to it\n",
    "    else:\n",
    "        return 3 * num + 1\n",
    "\n",
    "while True: \n",
    "    # prompts for a positive number\n",
    "    num = int(input('Please enter a positive integer: '))\n",
    "\n",
    "    # if the user types in a valid input, the collatz conjecture will come into play beginning from that inputted value\n",
    "    if num >= 0:\n",
    "        print(\"User input: \",num)\n",
    "        break\n",
    "    # If the user tries to input a negative number, the code will prompt them with this and allow them to try again.\n",
    "    else:\n",
    "        print(\"Invalid input. Please try again and enter a positive integer:\")\n",
    "\n",
    "    \n",
    "    # the collatz conjecture continues to perform its necessary operations on the numbers until it finally reaches 1\n",
    "while num != 1:\n",
    "    num = collatz(num)\n",
    "    print(num)\n",
    "\n"
   ]
  }
 ],
 "metadata": {
  "kernelspec": {
   "display_name": "Python 3.8.10 64-bit",
   "language": "python",
   "name": "python3"
  },
  "language_info": {
   "codemirror_mode": {
    "name": "ipython",
    "version": 3
   },
   "file_extension": ".py",
   "mimetype": "text/x-python",
   "name": "python",
   "nbconvert_exporter": "python",
   "pygments_lexer": "ipython3",
   "version": "3.10.6"
  },
  "orig_nbformat": 4,
  "vscode": {
   "interpreter": {
    "hash": "916dbcbb3f70747c44a77c7bcd40155683ae19c65e1c03b4aa3499c5328201f1"
   }
  }
 },
 "nbformat": 4,
 "nbformat_minor": 2
}

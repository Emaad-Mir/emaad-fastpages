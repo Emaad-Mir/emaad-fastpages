{
 "cells": [
  {
   "cell_type": "markdown",
   "metadata": {},
   "source": [
    "# Lists, Dictionaries, and Iterations\n",
    "> Here you will find code that involves the use of for, while, and recursive loops in order to print out specific data. \n",
    "\n",
    "- badges: true\n",
    "- comments: true\n",
    "- categories: [jupyter,python,week2]"
   ]
  },
  {
   "cell_type": "code",
   "execution_count": 2,
   "metadata": {},
   "outputs": [
    {
     "name": "stdout",
     "output_type": "stream",
     "text": [
      "Name: Emaad Mir <class 'str'>\n",
      "Age: 15 <class 'int'>\n",
      "Score: 105.9 <class 'float'>\n",
      "Favorite Song: Running Up That Hill\n",
      "\n",
      "C\n",
      "Wii Sports Resort\n",
      "\n",
      "person {'name': 'Emaad Mir', 'age': 15, 'score': 105.9, 'langs': ['Python', 'Html', 'CSS', 'C', 'Java', 'JavaScript', 'C', 'R']} <class 'dict'>\n",
      "- person[\"name\"] Emaad Mir <class 'str'>\n",
      "\n",
      "Reversed List: ['Noodles', 'Fried Rice', 'Salad', 'Chocolate Cake', 'Burgers', 'Pizza', 'Bread']\n"
     ]
    }
   ],
   "source": [
    "# variable of type string\n",
    "import random\n",
    "\n",
    "name = \"Emaad Mir\"\n",
    "print(\"Name:\", name, type(name))\n",
    "\n",
    "# variable of type integer\n",
    "age = 15\n",
    "print(\"Age:\", age, type(age))\n",
    "\n",
    "# variable of type float\n",
    "score = 105.9\n",
    "print(\"Score:\", score, type(score))\n",
    "\n",
    "fav_song = \"Running Up That Hill\"\n",
    "print(\"Favorite Song:\", fav_song)\n",
    "\n",
    "\n",
    "\n",
    "print()\n",
    "\n",
    "# variable of type list (many values in one variable)\n",
    "\n",
    "langs = [\"Python\", \"Html\", \"CSS\", \"C\", \"Java\", \"JavaScript\", \"C\", \"R\"]\n",
    "random_lang = random.choice(langs)\n",
    "print(random_lang)\n",
    "\n",
    "games = [\"Super Mario\", \"Kirby\", \"Wii Sports Resort\", \"Subway Surfer\"]\n",
    "random_game = random.choice(games)\n",
    "print(random_game)\n",
    "\n",
    "print()\n",
    "\n",
    "# variable of type dictionary (a group of keys and values)\n",
    "person = {\n",
    "    \"name\": name,\n",
    "    \"age\": age,\n",
    "    \"score\": score,\n",
    "    \"langs\": langs\n",
    "}\n",
    "print(\"person\", person, type(person))\n",
    "print('- person[\"name\"]', person[\"name\"], type(person[\"name\"]))\n",
    "\n",
    "#REVERSED ORDER\n",
    "foods = [\"Bread\", \"Pizza\", \"Burgers\", \"Chocolate Cake\", \"Salad\", \"Fried Rice\", \"Noodles\"]\n",
    "foods.reverse()\n",
    "print('\\nReversed List:', foods)"
   ]
  },
  {
   "cell_type": "code",
   "execution_count": 3,
   "metadata": {},
   "outputs": [
    {
     "name": "stdout",
     "output_type": "stream",
     "text": [
      "[{'FirstName': 'Emaad', 'LastName': 'Mir', 'DOB': 'January 12', 'Hobbies': ['Playing squash', 'Sleeping', 'Hiking', 'Cooking', 'Playing Basketball']}, {'FirstName': 'Edwin', 'LastName': 'Abraham', 'DOB': 'January 1', 'Hobbies': ['Biking', 'Hiking', 'Playing Video Games']}]\n"
     ]
    }
   ],
   "source": [
    "InfoDb = []\n",
    "\n",
    "# InfoDB is a data structure with expected Keys and Values\n",
    "\n",
    "# Append to List a Dictionary of key/values related to a person and hobbies\n",
    "InfoDb.append({\n",
    "    \"FirstName\": \"Emaad\",\n",
    "    \"LastName\": \"Mir\",\n",
    "    \"DOB\": \"January 12\",\n",
    "    \"Hobbies\": [\"Playing squash\", \"Sleeping\", \"Hiking\", \"Cooking\", \"Playing Basketball\"]\n",
    "})\n",
    "\n",
    "# Append to List a 2nd Dictionary of key/values\n",
    "InfoDb.append({\n",
    "    \"FirstName\": \"Edwin\",\n",
    "    \"LastName\": \"Abraham\",\n",
    "    \"DOB\": \"January 1\",\n",
    "    \"Hobbies\": [\"Biking\",\"Hiking\", \"Playing Video Games\"]\n",
    "})\n",
    "\n",
    "\n",
    "# Print the data structure\n",
    "print(InfoDb)"
   ]
  },
  {
   "cell_type": "code",
   "execution_count": 4,
   "metadata": {},
   "outputs": [
    {
     "name": "stdout",
     "output_type": "stream",
     "text": [
      "Name: Emaad Mir\n",
      "Birthday: January 12\n",
      "Hobbies: Playing squash, Sleeping, Hiking, Cooking, Playing Basketball\n",
      "\n"
     ]
    }
   ],
   "source": [
    "def print_data(person):\n",
    "    print(\"Name:\", person[\"FirstName\"], person[\"LastName\"])\n",
    "    print(\"Birthday:\", person[\"DOB\"])\n",
    "    print(\"Hobbies:\", \", \".join(person[\"Hobbies\"]))\n",
    "    print()\n",
    "\n",
    "print_data(InfoDb[0])"
   ]
  },
  {
   "cell_type": "code",
   "execution_count": 5,
   "metadata": {},
   "outputs": [
    {
     "name": "stdout",
     "output_type": "stream",
     "text": [
      "Name: Emaad Mir\n",
      "Birthday: January 12\n",
      "Hobbies: Playing squash, Sleeping, Hiking, Cooking, Playing Basketball\n",
      "\n",
      "Name: Edwin Abraham\n",
      "Birthday: January 1\n",
      "Hobbies: Biking, Hiking, Playing Video Games\n",
      "\n"
     ]
    }
   ],
   "source": [
    "def for_loop():\n",
    "    for person in InfoDb:\n",
    "        print_data(person)\n",
    "\n",
    "def for_loop_with_index():\n",
    "    for i in range(len(InfoDb)):\n",
    "        print_data(InfoDb[i])\n",
    "\n",
    "for_loop()"
   ]
  },
  {
   "cell_type": "code",
   "execution_count": 6,
   "metadata": {},
   "outputs": [
    {
     "name": "stdout",
     "output_type": "stream",
     "text": [
      "REGULAR\n",
      "\n",
      "Name: Emaad Mir\n",
      "Birthday: January 12\n",
      "Hobbies: Playing squash, Sleeping, Hiking, Cooking, Playing Basketball\n",
      "\n",
      "Name: Edwin Abraham\n",
      "Birthday: January 1\n",
      "Hobbies: Biking, Hiking, Playing Video Games\n",
      "\n",
      "REVERSED\n",
      "\n",
      "Name: Edwin Abraham\n",
      "Birthday: January 1\n",
      "Hobbies: Biking, Hiking, Playing Video Games\n",
      "\n",
      "Name: Emaad Mir\n",
      "Birthday: January 12\n",
      "Hobbies: Playing squash, Sleeping, Hiking, Cooking, Playing Basketball\n",
      "\n"
     ]
    }
   ],
   "source": [
    "def while_loop():\n",
    "    i = 0\n",
    "    while i < len(InfoDb):\n",
    "        print_data(InfoDb[i])\n",
    "        i = i + 1\n",
    "\n",
    "def while_loop_reverse():\n",
    "    i = len(InfoDb) - 1\n",
    "    while i >= 0:\n",
    "        print_data(InfoDb[i])\n",
    "        i = i  -1\n",
    "\n",
    "print(\"REGULAR\\n\")\n",
    "while_loop()\n",
    "print(\"REVERSED\\n\")\n",
    "while_loop_reverse()"
   ]
  },
  {
   "cell_type": "code",
   "execution_count": 7,
   "metadata": {},
   "outputs": [
    {
     "name": "stdout",
     "output_type": "stream",
     "text": [
      "Name: Emaad Mir\n",
      "Birthday: January 12\n",
      "Hobbies: Playing squash, Sleeping, Hiking, Cooking, Playing Basketball\n",
      "\n",
      "Name: Edwin Abraham\n",
      "Birthday: January 1\n",
      "Hobbies: Biking, Hiking, Playing Video Games\n",
      "\n"
     ]
    }
   ],
   "source": [
    "def recursive(index):\n",
    "    if index >= len(InfoDb):\n",
    "        return\n",
    "\n",
    "    print_data(InfoDb[index])\n",
    "    return recursive(index + 1)\n",
    "\n",
    "recursive(0)"
   ]
  },
  {
   "cell_type": "code",
   "execution_count": 22,
   "metadata": {},
   "outputs": [
    {
     "name": "stdout",
     "output_type": "stream",
     "text": [
      "Hello, root running /bin/python3\n",
      "You will be asked 6 questions.\n",
      "Question: Are you ready to take a test?\n",
      "You said yes, so let's get started!\n",
      "What syntax allows you to format and pass variables in html?\n",
      "liquid is correct! Great job!\n",
      "What is the instructions for what you want a computer to do called?\n",
      "input is correct! Great job!\n",
      "What is the name of the theme that your webpage has by default?\n",
      "minima is correct! Great job!\n",
      "_______ involves calling itself repeatedly in order to achieve looping\n",
      "recursion is correct! Great job!\n",
      "Lists and ________ are used to collect information\n",
      "dictionaries is correct! Great job!\n",
      "What is the name of the file that the style directory is stored in (just the name, don't need the type of file)?\n",
      "sass is correct! Great job!\n",
      "root, you scored 6/6, which is 100.0%\n"
     ]
    }
   ],
   "source": [
    "import getpass, sys\n",
    "def question_and_answer(prompt):\n",
    "    print(\"Question:\" +prompt)\n",
    "    msg = input(\"Question:\" +prompt)\n",
    "    print(\"Answer:\" +msg)\n",
    "## defines the format of how the question will be asked\n",
    "def question_with_response(prompt):\n",
    "    print(\"Question: \" + prompt)\n",
    "    msg = input(\"Question: \" + prompt)\n",
    "    return msg\n",
    "\n",
    "\n",
    "qa_list = []\n",
    "qa_list.append({\n",
    "    \"Question\": \"What syntax allows you to format and pass variables in html?\",\n",
    "    \"Answer\": \"liquid\",\n",
    "\n",
    "})\n",
    "\n",
    "qa_list.append({\n",
    "    \"Question\": \"What is the instructions for what you want a computer to do called?\",\n",
    "    \"Answer\": \"input\",\n",
    "\n",
    "})\n",
    "\n",
    "\n",
    "qa_list.append({\n",
    "    \"Question\": \"What is the name of the theme that your webpage has by default?\",\n",
    "    \"Answer\": \"minima\",\n",
    "\n",
    "})\n",
    "\n",
    "qa_list.append({\n",
    "    \"Question\": \"_______ involves calling itself repeatedly in order to achieve looping\",   \n",
    "    \"Answer\": \"recursion\",\n",
    "\n",
    "})\n",
    "\n",
    "qa_list.append({\n",
    "    \"Question\": \"Lists and ________ are used to collect information\",\n",
    "    \"Answer\": \"dictionaries\",\n",
    "\n",
    "})\n",
    "\n",
    "qa_list.append({\n",
    "    \"Question\": \"What is the name of the file that the style directory is stored in (just the name, don't need the type of file)?\",\n",
    "    \"Answer\": \"sass\"\n",
    "})\n",
    "\n",
    "questions = len(qa_list)\n",
    "score = 0\n",
    "\n",
    "print('Hello, ' + getpass.getuser() + \" running \" + sys.executable)\n",
    "print(\"You will be asked \" + str(questions) + \" questions.\")\n",
    "response = question_with_response(\"Are you ready to take a test?\")\n",
    "\n",
    "if response == \"yes\":\n",
    "\n",
    "    print(\"You said yes, so let's get started!\")\n",
    "\n",
    "    for q in qa_list:\n",
    "        print(q[\"Question\"])\n",
    "        response = input(q[\"Question\"])\n",
    "        if response == q[\"Answer\"]:\n",
    "\n",
    "         print(response + \" is correct! Great job!\")\n",
    "         score = score + 1\n",
    "        else:\n",
    "         print(response + \" is incorrect! Sorry!\")\n",
    "    print(getpass.getuser() + \", you scored \" + str(score) +\"/\" + str(questions) + \", which is \" + str((score / questions) * 100) + \"%\")\n",
    "else:\n",
    "    print(\"Maybe another time!\")\n",
    "    "
   ]
  }
 ],
 "metadata": {
  "kernelspec": {
   "display_name": "Python 3.10.4 64-bit",
   "language": "python",
   "name": "python3"
  },
  "language_info": {
   "codemirror_mode": {
    "name": "ipython",
    "version": 3
   },
   "file_extension": ".py",
   "mimetype": "text/x-python",
   "name": "python",
   "nbconvert_exporter": "python",
   "pygments_lexer": "ipython3",
   "version": "3.10.4"
  },
  "orig_nbformat": 4,
  "vscode": {
   "interpreter": {
    "hash": "916dbcbb3f70747c44a77c7bcd40155683ae19c65e1c03b4aa3499c5328201f1"
   }
  }
 },
 "nbformat": 4,
 "nbformat_minor": 2
}

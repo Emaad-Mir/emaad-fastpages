{
 "cells": [
  {
   "cell_type": "markdown",
   "metadata": {},
   "source": [
    "# Application Programming Interface (API)\n",
    "> APIs can be found all over the internet.  A great consolidator of many APIs is <mark>RapidAPI</mark>.  In this blog we will use a site to consolidates API stats.  Learning a few lines of code and you can start extracting lots of data from the internet via APIs.  \n",
    "- title: Python RapidAPI\n",
    "- toc: true\n",
    "- image: /images/api.png\n",
    "- permalink: /js/rapidapittechtalk\n",
    "- tags: [api, rapidapi]"
   ]
  },
  {
   "cell_type": "markdown",
   "metadata": {},
   "source": [
    "{% include nav_frontend.html %}"
   ]
  },
  {
   "cell_type": "markdown",
   "metadata": {},
   "source": [
    "### Python, RapidAPI Terms\n",
    "> APIs and tooling like Jupyter docs allows many opportunities in fields like Data Science.  As more and more developers use APIs, they build standards in how you setup a client, send requests and receive information..."
   ]
  },
  {
   "cell_type": "markdown",
   "metadata": {},
   "source": [
    "### Covid19 RapidAPI Example\n",
    "> To begin the API journey.  You need to find an API provider.  \n",
    "\n",
    "- RapidAPI is a great option.  You must setup and account, but there are many free options.\n",
    "- Goto this page for starters, the [Corona virus World and India data](https://rapidapi.com/spamakashrajtech/api/corona-virus-world-and-india-data/)\n",
    "- Under Code Snippets pick Python - Requests\n",
    "\n",
    "RapidAPI, you will select Python Requests type of code to work with you Notebook.\n",
    "- The url is the endpoint to which the API is directed\n",
    "- The headers is a dictionary data structure to send special messaging to the endpoint \n",
    "- The requests.request() python function is used to send a request and retrieve their responses\n",
    "- The response variable receives result of of the request in JSON text\n",
    "\n",
    "Next step, is to format the response according to your data science needs"
   ]
  },
  {
   "cell_type": "code",
   "execution_count": 3,
   "metadata": {},
   "outputs": [
    {
     "name": "stdout",
     "output_type": "stream",
     "text": [
      "World Totals\n",
      "total_cases 509,268,964\n",
      "new_cases 204,268\n",
      "total_deaths 6,242,509\n",
      "new_deaths 630\n",
      "total_recovered 461,827,849\n",
      "active_cases 41,198,606\n",
      "serious_critical 42,510\n",
      "total_cases_per_1m_population 65,334\n",
      "deaths_per_1m_population 800.9\n",
      "statistic_taken_at 2022-04-24 11:18:01\n",
      "\n",
      "Country Totals\n",
      "country_name USA\n",
      "cases 82,649,779\n",
      "deaths 1,018,316\n",
      "region \n",
      "total_recovered 80,434,925\n",
      "new_deaths 0\n",
      "new_cases 0\n",
      "serious_critical 1,465\n",
      "active_cases 1,196,538\n",
      "total_cases_per_1m_population 247,080\n",
      "deaths_per_1m_population 3,044\n",
      "total_tests 1,000,275,726\n",
      "tests_per_1m_population 2,990,303\n"
     ]
    }
   ],
   "source": [
    "\"\"\"\n",
    "Requests is a HTTP library for the Python programming language. \n",
    "The goal of the project is to make HTTP requests simpler and more human-friendly. \n",
    "\"\"\"\n",
    "import requests\n",
    "\n",
    "\"\"\"\n",
    "RapidAPI is the world's largest API Marketplace. \n",
    "Developers use Rapid API to discover and connect to thousands of APIs. \n",
    "\"\"\"\n",
    "url = \"https://corona-virus-world-and-india-data.p.rapidapi.com/api\"\n",
    "headers = {\n",
    "    'x-rapidapi-key': \"fe79b3687bmshe4d5f96190e00c5p14dc84jsnde81577c9e6c\",\n",
    "    'x-rapidapi-host': \"corona-virus-world-and-india-data.p.rapidapi.com\"\n",
    "}\n",
    "\n",
    "# Request Covid Data\n",
    "response = requests.request(\"GET\", url, headers=headers)\n",
    "# print(response.text)  # uncomment this line to see raw data\n",
    "\n",
    "# print(response.json())\n",
    "\n",
    "# This code looks for \"world data\"\n",
    "print(\"World Totals\")\n",
    "world = response.json().get('world_total')  # turn response to json() so we can extract \"world_total\"\n",
    "for key, value in world.items():  # this finds key, value pairs in country\n",
    "    print(key, value)\n",
    "\n",
    "print()\n",
    "\n",
    "# This code looks for USA in \"countries_stats\"\n",
    "print(\"Country Totals\")\n",
    "countries = response.json().get('countries_stat')\n",
    "for country in countries:  # countries is a list\n",
    "    if country[\"country_name\"] == \"USA\":  # this filters for USA\n",
    "        for key, value in country.items():  # this finds key, value pairs in country\n",
    "            print(key, value)\n"
   ]
  },
  {
   "cell_type": "markdown",
   "metadata": {},
   "source": [
    "### Digital Coin Example\n",
    "> This example provides digital coin feedback (ie Bitcoin).  It include popularity, price, symbols, etc.\n",
    "- A valid X-RapidAPI-Key is required.  Look in code for link to RapidAPI page\n",
    "- Read all comments in code for further guidance"
   ]
  },
  {
   "cell_type": "code",
   "execution_count": 2,
   "metadata": {},
   "outputs": [
    {
     "name": "stdout",
     "output_type": "stream",
     "text": [
      "BTC Bitcoin 19480.094920571948\n",
      "ETH Ethereum 1326.2739797012734\n",
      "USDT Tether USD 1.0005906201939905\n",
      "USDC USDC 1.000796478844496\n",
      "BNB Binance Coin 281.1541773820596\n",
      "XRP XRP 0.5203111827768135\n",
      "BUSD Binance USD 1.0013023019092655\n",
      "ADA Cardano 0.42423118065732485\n",
      "SOL Solana 32.797721933455726\n",
      "DOGE Dogecoin 0.06218753916984209\n",
      "DOT Polkadot 6.335758740808434\n",
      "MATIC Polygon 0.817513705467937\n",
      "SHIB Shiba Inu 0.000011059411658594\n",
      "DAI Dai 1.000587839458817\n",
      "TRX TRON 0.062440970388428337\n",
      "WETH Wrapped Ether 1324.2296021586974\n",
      "UNI Uniswap 6.547304508815042\n",
      "AVAX Avalanche 16.830567667121453\n",
      "WBTC Wrapped BTC 19476.549254903497\n",
      "CAKE PancakeSwap 4.56253725382758\n",
      "ATOM Cosmos 13.11169516066699\n",
      "OKB OKB 15.704769979991314\n",
      "LTC Litecoin 53.00460096582705\n",
      "FTT FTX Token 24.28948638056076\n",
      "ETC Ethereum Classic 27.24498045714858\n",
      "XMR Monero 146.85425459379428\n",
      "XLM Stellar 0.1258368833320945\n",
      "ALGO Algorand 0.33737015155278194\n",
      "BCH Bitcoin Cash 117.02372314445903\n",
      "BTCB Bitcoin BEP2 19480.45280429421\n",
      "CRO Cronos 0.10725758291626851\n",
      "NEAR NEAR Protocol 3.5163695095408265\n",
      "LUNC Terra Classic 0.000294490417317802\n",
      "WEMIX WEMIX TOKEN 1.789438046354266\n",
      "ENS EnergySwap 17.546655865308566\n",
      "FLOW Flow 1.6867449119728115\n",
      "FIL Filecoin 5.427443470102646\n",
      "ICP Internet Computer (DFINITY) 5.895879473416911\n",
      "VET VeChain 0.023065169863900115\n",
      "MANA Decentraland 0.692808752823511\n",
      "IMX Immutable X 0.7365257284322817\n",
      "HBAR Hedera 0.06018058130914208\n",
      "QNT Quant 148.93388347910738\n",
      "FRAX Frax 1.0007582291562658\n",
      "EGLD Elrond 54.845974248401035\n",
      "XTZ Tezos 1.4127841057946406\n",
      "CHZ Chiliz 0.2146500107791076\n",
      "SAND The Sandbox 0.8312050216117796\n",
      "LDO Lido DAO Token 1.4832811499010896\n",
      "EOS EOS 1.1266777460450925\n"
     ]
    }
   ],
   "source": [
    "# Request Digital Coin\n",
    "# RapidAPI page https://rapidapi.com/Coinranking/api/coinranking1/\n",
    "\n",
    "# Begin Rapid API Code\n",
    "import requests\n",
    "\n",
    "url = \"https://coinranking1.p.rapidapi.com/coins\"\n",
    "querystring = {\"referenceCurrencyUuid\":\"yhjMzLPhuIDl\",\"timePeriod\":\"24h\",\"tiers[0]\":\"1\",\"orderBy\":\"marketCap\",\"orderDirection\":\"desc\",\"limit\":\"50\",\"offset\":\"0\"}\n",
    "headers = {\n",
    "\t\"X-RapidAPI-Key\": \"fe79b3687bmshe4d5f96190e00c5p14dc84jsnde81577c9e6c\",  # place your key here\n",
    "\t\"X-RapidAPI-Host\": \"coinranking1.p.rapidapi.com\"\n",
    "}\n",
    "\n",
    "response = requests.request(\"GET\", url, headers=headers, params=querystring)\n",
    "# print(response.text)\n",
    "# End Rapid API Code\n",
    "json = response.json()  # convert response to python json object\n",
    "\n",
    "# Observe data from an API.  This is how data transports over the internet in a \"JSON\" text form\n",
    "# - The JSON \"text\" is formed in dictionary {} and list [] divisions\n",
    "# - To read the result, Data Scientist of  Developer converts JSON into human readable form\n",
    "# - Review the first line, look for the keys --  \"status\" and \"data\"\n",
    "\n",
    "for coin in json[\"data\"][\"coins\"]:\n",
    "\tprint(f'{coin[\"symbol\"]} {coin[\"name\"]} {coin[\"price\"]}')"
   ]
  },
  {
   "cell_type": "markdown",
   "metadata": {},
   "source": [
    "### Formatting Digital Coin example\n",
    "> JSON text transferred from the API in the previous cell was converted to a Python Dictionary called json.  The \"coins\" in the dictionary contain a list of the most relevant data.   Look at the code and comments to see how the original text is turned into something understandable.   Additionally, there are error check to make sure we are starting the code with the expectation that the API was run correctly. "
   ]
  },
  {
   "cell_type": "code",
   "execution_count": 3,
   "metadata": {},
   "outputs": [
    {
     "name": "stdout",
     "output_type": "stream",
     "text": [
      "JSON data is Python type: <class 'dict'>\n",
      "Did you insert a valid key in X-RapidAPI-Key of API cell above?\n",
      "{'message': 'You are not subscribed to this API.'}\n"
     ]
    }
   ],
   "source": [
    "\"\"\"\n",
    "This cell is dependent on valid run of API above.\n",
    "- try and except code is making sure \"json\" was properly run above\n",
    "- inside second try is code that is used to process Coin API data\n",
    "\n",
    "Note.  Run this cell repeatedly to format data without re-activating API\n",
    "\"\"\"\n",
    "\n",
    "try:\n",
    "    print(\"JSON data is Python type: \" + str(type(json)))\n",
    "    try:\n",
    "        # Extracting Coins JSON status, if the API worked\n",
    "        status = json.get('status')\n",
    "        print(\"API status: \" + status)\n",
    "        print()\n",
    "        \n",
    "        # Extracting Coins JSON data, data about the coins\n",
    "        data = json.get('data')\n",
    "        \n",
    "        # Procedural abstraction of Print code for coins\n",
    "        def print_coin(c):\n",
    "            print(c[\"symbol\"], c[\"price\"])\n",
    "            print(\"Icon Url: \" + c[\"iconUrl\"])\n",
    "            print(\"Rank Url: \" + c[\"coinrankingUrl\"])\n",
    "\n",
    "        # Coins data was observed to be a list\n",
    "        for coin in data['coins']:\n",
    "            print_coin(coin)\n",
    "            print()\n",
    "            \n",
    "    except:\n",
    "        print(\"Did you insert a valid key in X-RapidAPI-Key of API cell above?\")\n",
    "        print(json)\n",
    "except:\n",
    "    print(\"This cell is dependent on running API call in cell above!\")"
   ]
  },
  {
   "cell_type": "markdown",
   "metadata": {},
   "source": [
    "### Go deeper into APIs\n",
    "> Web Development vs Jupyter Notebook.  A notebook is certainly a great place to start.  But, for your end of Trimester project we want you to build the skill to reference and use APIs within your Project.  Here are some resources to get you started with this journey.\n",
    "\n",
    "- In the Nighthawk Coders APCSP you can find an Overview and Examples using APIs:  [APCSP APIs menu](https://nighthawkcoders.github.io/APCSP/api/overview)\n",
    "- Using Covid RapidAPI\n",
    "    - JavaScript frontend API code in APCSP Fastpages GitHub repo: [https://github.com/nighthawkcoders/APCSP/blob/master/_posts/2022-07-10-PBL-rapidapi.md](https://github.com/nighthawkcoders/APCSP/blob/master/_posts/2022-07-10-PBL-rapidapi.md)\n",
    "- Making a Jokes API (this will next API tech talk)\n",
    "    - Frontend. JavaScript frontend code in APCSP fastpages GitHub repo: [https://github.com/nighthawkcoders/APCSP/blob/master/_posts/2022-07-10-PBL-jokes.md](https://github.com/nighthawkcoders/APCSP/blob/master/_posts/2022-07-10-PBL-jokes.md)\n",
    "    - Backend Endpoints.  Python code that allows Frontend access: [https://github.com/nighthawkcoders/flask_portfolio/blob/main/api.py](https://github.com/nighthawkcoders/flask_portfolio/blob/main/api.py)\n",
    "    - Backend Jokes Management.  Python code that support Create, Read, Update, Delete (CRUD): [https://github.com/nighthawkcoders/flask_portfolio/blob/main/model_jokes.py](https://github.com/nighthawkcoders/flask_portfolio/blob/main/model_jokes.py)"
   ]
  },
  {
   "cell_type": "markdown",
   "metadata": {},
   "source": [
    "## Hacks\n",
    "> Find and use an API as part of your project.  An API and a little coding logic will be a big step toward getting meaningful data for a project.  There are many API providers, find one that might work for your project to complete this hack. When picking an API you are looking for something that will work with either JavaScript Fetch or Python Request.  Here are some samples, these are not qualified in any way.  \n",
    "- [RapidAPI](https://rapidapi.com/collection/list-of-free-apis)\n",
    "- [GitHub Project](https://github.com/public-apis/public-apis/blob/master/README.md)\n",
    "- [No Key APIs Article](https://nordicapis.com/9-free-public-apis-that-offer-up-some-cool-open-data/)\n",
    "- [Twitter Developer](https://developer.twitter.com/en/docs/twitter-api)\n",
    "- [Google Developer](https://developers.google.com/apis-explorer)\n",
    "- [Reddit Developer](https://www.reddit.com/dev/api/)\n",
    "\n",
    "> Show API and format results in either Web Page or Jupyter Notebook.  Ultimately, I will expect that we do APIs in backend (Python/Flask).  However, for this Hack you can pick your preference.  We will discuss pros and cons in next API tech talk."
   ]
  },
  {
   "cell_type": "code",
   "execution_count": 4,
   "metadata": {},
   "outputs": [
    {
     "name": "stdout",
     "output_type": "stream",
     "text": [
      "I wish they had a brass knuckle type weapon or knuckle wrap that deals unarmed damage, potentially paired with Truffle Tussle to boost unarmed attacks. 🤷‍♂️ by SirRealest https://www.reddit.com/r/GroundedGame/comments/xz2y72/i_wish_they_had_a_brass_knuckle_type_weapon_or/\n",
      ":: ding dong :: Hello! We would like to share with you what Entertainment Weekly calls “the funniest musical of all time.” Make it your mission to see The Book of Mormon on Broadway. Get your tickets today! by BookofMormonBroadway https://www.reddit.com/user/BookofMormonBroadway/comments/w3o5sq/ding_dong_hello_we_would_like_to_share_with_you/\n",
      "Available to help with heists, setups, etc. Looking to make some 💰 however I can. I'm rank 340. Bogdan used to be my go to for money so it stays ready to run for b2b. but I'm up for helping with whatever. by WreckItRob559 https://www.reddit.com/r/HeistTeams/comments/xz2y71/available_to_help_with_heists_setups_etc_looking/\n",
      "Taking a shit saved my life but this time the guy nutte'd instead by unlikely_suspicious https://www.reddit.com/r/copypasta/comments/xz2y6z/taking_a_shit_saved_my_life_but_this_time_the_guy/\n",
      "mega gyarados raid on me 5387 8897 5456 by Dangerous_Raccoon_58 https://www.reddit.com/r/PokemonGoRaids/comments/xz2y6w/mega_gyarados_raid_on_me_5387_8897_5456/\n",
      "Made some slashers. by Classicstupidtomtor4 https://www.reddit.com/r/HeroForgeMinis/comments/xz2y6n/made_some_slashers/\n",
      "If Only... by M_i_c_K https://www.reddit.com/r/walkaway/comments/xz2y6l/if_only/\n",
      "Something werid happened by Statement-Famous https://www.reddit.com/r/Twitch/comments/xz2y6j/something_werid_happened/\n",
      "rocket emojo x3 by Dre_Dede https://www.reddit.com/r/691/comments/xz2y6f/rocket_emojo_x3/\n",
      "Columbia City man arrested for child pornography by MugShots https://www.reddit.com/r/ArrestStories/comments/xz2y6c/columbia_city_man_arrested_for_child_pornography/\n",
      "Is the Space Adenture Set really selling for $100AUD?? by bigdaddyborg https://www.reddit.com/r/lego/comments/xz2y6b/is_the_space_adenture_set_really_selling_for/\n",
      "The new Obey 10F sports car has a lot of things going for it: air intake slots, titanium valvetrain, a muscular engine. Combine with a suite of customizations, and you’ve got an excellent value proposition. Now available from Legendary Motorsport. by rockstargames https://www.reddit.com/user/rockstargames/comments/xx9uta/the_new_obey_10f_sports_car_has_a_lot_of_things/\n",
      "H: Apparel, Masks, Weapons, Flux, Caps W: AA/25aim .50cal by Chief_Crossbow https://www.reddit.com/r/Market76/comments/xz2y67/h_apparel_masks_weapons_flux_caps_w_aa25aim_50cal/\n",
      "Which b-side should have been on Amnesiac? by something-outside-74 https://www.reddit.com/r/radiohead/comments/xz2y5w/which_bside_should_have_been_on_amnesiac/\n",
      "Can we appreciate how consistent codfish is 🔥 consistent yearly upload schedule, things you love to see by Capidapi https://www.reddit.com/r/beatbox/comments/xz2y5t/can_we_appreciate_how_consistent_codfish_is/\n",
      "Prevent mold after flooding- primitive cabin by Donexodus https://www.reddit.com/r/preppers/comments/xz2y5q/prevent_mold_after_flooding_primitive_cabin/\n",
      "What’s a red flag that sounds silly but is actually pretty indicative? by lostsaucestolen https://www.reddit.com/r/AskReddit/comments/xz2y5p/whats_a_red_flag_that_sounds_silly_but_is/\n",
      "[Game Thread] #21 Washington - Arizona State | 10/8/2022, 1:00pm (Pac-12) by rHuskiesBot https://www.reddit.com/r/huskies/comments/xz2y5o/game_thread_21_washington_arizona_state_1082022/\n",
      "Guys help by Sarthak2712 https://www.reddit.com/r/FingMemes/comments/xz2y5m/guys_help/\n",
      "Clive Barker is ALIVE??? by LiquidRedneckYT https://www.reddit.com/r/MandelaEffect/comments/xz2y5f/clive_barker_is_alive/\n",
      "Discover the award-winning stories that move you on HBO Max. by hbomax https://www.reddit.com/user/hbomax/comments/xv56mu/discover_the_awardwinning_stories_that_move_you/\n",
      "Our DM`s cat. I guess I`m no longer the cleric now by _elizaneg https://www.reddit.com/r/CatsPlayingDnd/comments/xz2y5e/our_dms_cat_i_guess_im_no_longer_the_cleric_now/\n",
      "People 28+, would you be in a relationship with someone 10 years your junior? Why or why not? by pepperpeppington https://www.reddit.com/r/AskReddit/comments/xz2y58/people_28_would_you_be_in_a_relationship_with/\n",
      "Dale Wilson by actbob1000 https://www.reddit.com/r/dalewilson/comments/xz2y56/dale_wilson/\n",
      "Raffle prize I completed for a follower on Twitter. by ZekZebZab https://www.reddit.com/r/blender/comments/xz2y54/raffle_prize_i_completed_for_a_follower_on_twitter/\n",
      "This years yard sale harvest for the Dark Gods of Milwaukee. by On_The_Fourth_Floor https://www.reddit.com/r/RedLetterMedia/comments/xz2y50/this_years_yard_sale_harvest_for_the_dark_gods_of/\n",
      "Please by VARGVIKERNES2929 https://www.reddit.com/r/ShadowBan/comments/xz2y4z/please/\n",
      "Naruto - Road of Naruto「AMV」- Through It All ♫ by ItsukiAMV https://www.reddit.com/r/AMVSchannels/comments/xz2y4y/naruto_road_of_narutoamv_through_it_all/\n"
     ]
    }
   ],
   "source": [
    "import requests\n",
    "\n",
    "url = \"https://reddit34.p.rapidapi.com/getPopularPosts\"\n",
    "\n",
    "querystring = {\"sort\":\"new\"}\n",
    "\n",
    "headers = {\n",
    "\t\"X-RapidAPI-Key\": \"fe79b3687bmshe4d5f96190e00c5p14dc84jsnde81577c9e6c\",\n",
    "\t\"X-RapidAPI-Host\": \"reddit34.p.rapidapi.com\"\n",
    "}\n",
    "\n",
    "response = requests.request(\"GET\", url, headers=headers, params=querystring)\n",
    "\n",
    "# print(response.text)\n",
    "json = response.json()\n",
    "\n",
    "for post in json[\"data\"][\"posts\"]:\n",
    "    print(f'{post[\"title\"]} by {post[\"author\"]} {post[\"permalink\"]}')"
   ]
  }
 ],
 "metadata": {
  "kernelspec": {
   "display_name": "Python 3.10.6 64-bit",
   "language": "python",
   "name": "python3"
  },
  "language_info": {
   "codemirror_mode": {
    "name": "ipython",
    "version": 3
   },
   "file_extension": ".py",
   "mimetype": "text/x-python",
   "name": "python",
   "nbconvert_exporter": "python",
   "pygments_lexer": "ipython3",
   "version": "3.10.6"
  },
  "orig_nbformat": 4,
  "vscode": {
   "interpreter": {
    "hash": "31f2aee4e71d21fbe5cf8b01ff0e069b9275f58929596ceb00d14d90e3e16cd6"
   }
  }
 },
 "nbformat": 4,
 "nbformat_minor": 2
}

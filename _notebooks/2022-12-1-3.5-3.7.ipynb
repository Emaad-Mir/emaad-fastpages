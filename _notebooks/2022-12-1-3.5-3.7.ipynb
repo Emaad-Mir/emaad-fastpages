{
 "cells": [
  {
   "cell_type": "markdown",
   "metadata": {},
   "source": [
    "# Unit 3, Sections 1-2 HW\n",
    "> Here are the hacks that we were assigned to do for sections 5-7!\n",
    "\n",
    "- toc: true\n",
    "- comments: true\n",
    "- categories: [Week-13,Big-Idea-3]\n",
    "- image: /images/college-board-logo.png"
   ]
  },
  {
   "cell_type": "code",
   "execution_count": 8,
   "metadata": {},
   "outputs": [
    {
     "name": "stdout",
     "output_type": "stream",
     "text": [
      "True: True\n",
      "True: True\n",
      "False: False\n",
      "True: True\n",
      "False: False\n",
      "True: True\n",
      "\n",
      "True: True\n",
      "False False\n",
      "False: False\n",
      "True: True\n",
      "False: False\n",
      "True: True\n",
      "\n"
     ]
    }
   ],
   "source": [
    "print(\"True:\",4==4)\n",
    "print(\"True:\",1!=0)\n",
    "print(\"False:\",7<=3)\n",
    "print(\"True:\",5<6)\n",
    "print(\"False:\",7>8)\n",
    "print(\"True:\",3>=3)\n",
    "print('')\n",
    "\n",
    "# Same as above, but now for other values other than int\n",
    "print('True:',\"as\"==\"as\")\n",
    "print(\"False\",True == False)\n",
    "print(\"False:\",[2,3,1]!=[2,3,1])\n",
    "print(\"True:\",'af'<'bc')\n",
    "print(\"False:\",'ce'>'cf')\n",
    "print(\"True:\",[1,'b']>[1,'a'])\n",
    "print('')"
   ]
  },
  {
   "cell_type": "code",
   "execution_count": 9,
   "metadata": {},
   "outputs": [
    {
     "name": "stdout",
     "output_type": "stream",
     "text": [
      "no, 3 does not equal 5\n"
     ]
    }
   ],
   "source": [
    "number = 3          # value that will affect true or false statement\n",
    "if number == 5:     # if part determines if the statement is true or false compared to another part of the program\n",
    "    print(\"yes, 5 does equal 5\")\n",
    "else:               #else part only executes if the if part is false\n",
    "    print(\"no, \" + str(number) + \" does not equal 5\")"
   ]
  },
  {
   "cell_type": "code",
   "execution_count": 10,
   "metadata": {},
   "outputs": [
    {
     "name": "stdout",
     "output_type": "stream",
     "text": [
      "0%\n",
      "10%\n",
      "20%\n",
      "30%\n",
      "40%\n",
      "50%\n",
      "Half way there\n",
      "60%\n",
      "70%\n",
      "80%\n",
      "90%\n",
      "100% Complete\n"
     ]
    }
   ],
   "source": [
    "progress = 0\n",
    "while progress < 100:\n",
    "    print(str(progress) + \"%\")\n",
    "    \n",
    "    if progress == 50:\n",
    "        print(\"Half way there\")\n",
    "\n",
    "    progress = progress + 10\n",
    "print(\"100%\" + \" Complete\")\n",
    "    "
   ]
  },
  {
   "cell_type": "code",
   "execution_count": 6,
   "metadata": {},
   "outputs": [
    {
     "name": "stdout",
     "output_type": "stream",
     "text": [
      "You are old\n"
     ]
    }
   ],
   "source": [
    "Age = 30; \n",
    "if (Age == 30): \n",
    "    print(\"You are old\")\n",
    "else: \n",
    "    print(\"you should retire\")\n",
    "if (Age > 50): \n",
    "    print(\"You have a beard\")\n"
   ]
  },
  {
   "cell_type": "markdown",
   "metadata": {},
   "source": [
    "# Homework"
   ]
  },
  {
   "cell_type": "code",
   "execution_count": 13,
   "metadata": {},
   "outputs": [
    {
     "name": "stdout",
     "output_type": "stream",
     "text": [
      "65 in Octal is 0o101\n",
      "All Done!\n"
     ]
    }
   ],
   "source": [
    "#taking user input for the decimal and the number associated with binary, octal, hexadecimal\n",
    "decimal = int(input(\"Please enter a decimal value: \\n\"))\n",
    "choice = int(input(\"What would you like to convert the decimal to? [1] Binary [2] Octal [3] Hexadecimal: \\n\"))\n",
    "\n",
    "# if statements that convert the decimal into binary, octal, or hexadecimal depending on what number the user inputs\n",
    "if choice == 1:\n",
    "    print(\"{x} in Binary is {y}\".format(x=decimal,y=bin(decimal)[2:]))\n",
    "elif choice == 2:\n",
    "    print(\"{x} in Octal is {y}\".format(x=decimal,y=oct(decimal)))\n",
    "elif choice == 3:\n",
    "    print(\"{x} in Hexadecimal is {y}\".format(x=decimal,y=hex(decimal)))\n",
    "\n",
    "#if the user tries to choose a number that is not one of the choice, this message will appear\n",
    "else:\n",
    "    print(\"Input Invalid. Please try again.\")\n",
    "\n",
    "print(\"All Done!\")"
   ]
  }
 ],
 "metadata": {
  "kernelspec": {
   "display_name": "Python 3.9.12 ('base')",
   "language": "python",
   "name": "python3"
  },
  "language_info": {
   "codemirror_mode": {
    "name": "ipython",
    "version": 3
   },
   "file_extension": ".py",
   "mimetype": "text/x-python",
   "name": "python",
   "nbconvert_exporter": "python",
   "pygments_lexer": "ipython3",
   "version": "3.9.12"
  },
  "orig_nbformat": 4,
  "vscode": {
   "interpreter": {
    "hash": "587533099b5009788de4a0593b95c08fb364312472080bddc5e3384b713a9fde"
   }
  }
 },
 "nbformat": 4,
 "nbformat_minor": 2
}

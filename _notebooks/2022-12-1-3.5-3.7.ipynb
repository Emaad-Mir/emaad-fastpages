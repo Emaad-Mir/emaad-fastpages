{
 "cells": [
  {
   "cell_type": "markdown",
   "metadata": {},
   "source": [
    "# Unit 3, Sections 5-7 \n",
    "> Here are the hacks that we were assigned to do for sections 5-7!\n",
    "\n",
    "- toc: true\n",
    "- comments: true\n",
    "- categories: [Week-13,Big-Idea-3]\n",
    "- image: /images/college-board-logo.png"
   ]
  },
  {
   "cell_type": "code",
   "execution_count": 8,
   "metadata": {},
   "outputs": [
    {
     "name": "stdout",
     "output_type": "stream",
     "text": [
      "True: True\n",
      "True: True\n",
      "False: False\n",
      "True: True\n",
      "False: False\n",
      "True: True\n",
      "\n",
      "True: True\n",
      "False False\n",
      "False: False\n",
      "True: True\n",
      "False: False\n",
      "True: True\n",
      "\n"
     ]
    }
   ],
   "source": [
    "print(\"True:\",4==4)\n",
    "print(\"True:\",1!=0)\n",
    "print(\"False:\",7<=3)\n",
    "print(\"True:\",5<6)\n",
    "print(\"False:\",7>8)\n",
    "print(\"True:\",3>=3)\n",
    "print('')\n",
    "\n",
    "# Same as above, but now for other values other than int\n",
    "print('True:',\"as\"==\"as\")\n",
    "print(\"False\",True == False)\n",
    "print(\"False:\",[2,3,1]!=[2,3,1])\n",
    "print(\"True:\",'af'<'bc')\n",
    "print(\"False:\",'ce'>'cf')\n",
    "print(\"True:\",[1,'b']>[1,'a'])\n",
    "print('')"
   ]
  },
  {
   "cell_type": "code",
   "execution_count": 9,
   "metadata": {},
   "outputs": [
    {
     "name": "stdout",
     "output_type": "stream",
     "text": [
      "no, 3 does not equal 5\n"
     ]
    }
   ],
   "source": [
    "number = 3          # value that will affect true or false statement\n",
    "if number == 5:     # if part determines if the statement is true or false compared to another part of the program\n",
    "    print(\"yes, 5 does equal 5\")\n",
    "else:               #else part only executes if the if part is false\n",
    "    print(\"no, \" + str(number) + \" does not equal 5\")"
   ]
  },
  {
   "cell_type": "code",
   "execution_count": 10,
   "metadata": {},
   "outputs": [
    {
     "name": "stdout",
     "output_type": "stream",
     "text": [
      "0%\n",
      "10%\n",
      "20%\n",
      "30%\n",
      "40%\n",
      "50%\n",
      "Half way there\n",
      "60%\n",
      "70%\n",
      "80%\n",
      "90%\n",
      "100% Complete\n"
     ]
    }
   ],
   "source": [
    "progress = 0\n",
    "while progress < 100:\n",
    "    print(str(progress) + \"%\")\n",
    "    \n",
    "    if progress == 50:\n",
    "        print(\"Half way there\")\n",
    "\n",
    "    progress = progress + 10\n",
    "print(\"100%\" + \" Complete\")\n",
    "    "
   ]
  },
  {
   "cell_type": "code",
   "execution_count": 3,
   "metadata": {},
   "outputs": [
    {
     "name": "stdout",
     "output_type": "stream",
     "text": [
      "13\n",
      "You are too young to vote!\n"
     ]
    }
   ],
   "source": [
    "Age = int(input(\"How old are you?\")); \n",
    "print(Age)\n",
    "if (Age >= 18): \n",
    "    print(\"You are old enough to vote!\")\n",
    "    if(Age >= 65):\n",
    "        print(\"You are a senior citizen!\")\n",
    "else: \n",
    "    print(\"You are too young to vote!\")\n",
    "\n"
   ]
  },
  {
   "cell_type": "markdown",
   "metadata": {},
   "source": [
    "# Homework/Challenges"
   ]
  },
  {
   "cell_type": "code",
   "execution_count": 4,
   "metadata": {},
   "outputs": [
    {
     "name": "stdout",
     "output_type": "stream",
     "text": [
      "37 was chosen\n",
      "37 converted to binary is 100101\n"
     ]
    }
   ],
   "source": [
    "def DecimalToBinary(num):\n",
    "    strs = \"\"\n",
    "    while num:\n",
    "        # if (num & 1) = 1\n",
    "        if (num & 1):\n",
    "            strs += \"1\"\n",
    "        # if (num & 1) = 0\n",
    "        else:\n",
    "            strs += \"0\"\n",
    "        # right shift by 1\n",
    "        num >>= 1\n",
    "    return strs\n",
    " \n",
    "# function to reverse the string\n",
    "def reverse(strs):\n",
    "    return strs[::-1]\n",
    " \n",
    "# user inputs the number they would like to convert to binary\n",
    "user_input = int(input(\"What number would you like to convert to binary?\"))\n",
    "print(f'{user_input} was chosen')\n",
    "print(f'{user_input} converted to binary is {reverse(DecimalToBinary(user_input))}')\n"
   ]
  },
  {
   "cell_type": "code",
   "execution_count": 8,
   "metadata": {},
   "outputs": [
    {
     "name": "stdout",
     "output_type": "stream",
     "text": [
      "x is less than y and z\n"
     ]
    }
   ],
   "source": [
    "def function(x, y, z):\n",
    "    if(x > y):\n",
    "        print(\"x is greater than y\")\n",
    "        if(x > z):\n",
    "            print(\"x is greater than y and z\")\n",
    "        else: \n",
    "            print(\"x is only greater than y\")\n",
    "    else:\n",
    "        print(\"x is less than y and z\")\n",
    "    \n",
    "function(2, 3, 5)"
   ]
  }
 ],
 "metadata": {
  "kernelspec": {
   "display_name": "Python 3.9.12 ('base')",
   "language": "python",
   "name": "python3"
  },
  "language_info": {
   "codemirror_mode": {
    "name": "ipython",
    "version": 3
   },
   "file_extension": ".py",
   "mimetype": "text/x-python",
   "name": "python",
   "nbconvert_exporter": "python",
   "pygments_lexer": "ipython3",
   "version": "3.9.12"
  },
  "orig_nbformat": 4,
  "vscode": {
   "interpreter": {
    "hash": "587533099b5009788de4a0593b95c08fb364312472080bddc5e3384b713a9fde"
   }
  }
 },
 "nbformat": 4,
 "nbformat_minor": 2
}

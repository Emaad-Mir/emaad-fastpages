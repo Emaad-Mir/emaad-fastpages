{
 "cells": [
  {
   "cell_type": "markdown",
   "metadata": {},
   "source": [
    "# Emaad's First Jupyter Notebook\n",
    "> This is my first personalized Jupyter Notebook made with Python!\n",
    "\n",
    "- badges: true\n",
    "- comments: true\n",
    "- categories: [jupyter, python]"
   ]
  },
  {
   "cell_type": "code",
   "execution_count": 2,
   "metadata": {},
   "outputs": [
    {
     "name": "stdout",
     "output_type": "stream",
     "text": [
      "Welcome to Jupyter Notebooks!\n"
     ]
    }
   ],
   "source": [
    "msg = \"Welcome to Jupyter Notebooks!\"\n",
    "print(msg)"
   ]
  },
  {
   "cell_type": "markdown",
   "metadata": {},
   "source": [
    "# My Cool Calculator!\n",
    "> With this calculator, you put in two numbers of your choice. After inputting the numbers, you can see the sum, difference, product, and quotient of those two numbers! I inputted the numbers 1,000,000 and 35,726 to get the sum, difference, product, and quotient of those two numbers."
   ]
  },
  {
   "cell_type": "code",
   "execution_count": 6,
   "metadata": {},
   "outputs": [
    {
     "name": "stdout",
     "output_type": "stream",
     "text": [
      "This calculator tells you the sum, difference, product, and quotient of two numbers that you enter.\n",
      "Please enter your first number:\n",
      "1000000.0\n",
      "Please enter your second number:\n",
      "35726.0\n",
      "Sum= 1035726.0\n",
      "Difference= 964274.0\n",
      "Product= 35726000000.0\n",
      "Quotient= 27.990819011364273\n"
     ]
    }
   ],
   "source": [
    "# Explains purpose of this program\n",
    "print(\"This calculator tells you the sum, difference, product, and quotient of two numbers that you enter.\")\n",
    "\n",
    "# Takes user's first number\n",
    "print(\"Please enter your first number:\")\n",
    "first=float(input(\"Number 1:\"))\n",
    "print(first)    # prints out the number put in by user\n",
    "\n",
    "# Takes user's second number\n",
    "print(\"Please enter your second number:\")\n",
    "second=float(input(\"Number 2:\"))\n",
    "print(second)   # prints out the number put in by user\n",
    "\n",
    "print(\"Sum=\",first+second)  # prints sum\n",
    "print(\"Difference=\",first-second)  # prints difference\n",
    "print(\"Product=\",first*second)  # prints product\n",
    "print(\"Quotient=\",first/second)  # prints quotient"
   ]
  },
  {
   "cell_type": "code",
   "execution_count": null,
   "metadata": {},
   "outputs": [],
   "source": []
  }
 ],
 "metadata": {
  "kernelspec": {
   "display_name": "Python 3.10.4 64-bit",
   "language": "python",
   "name": "python3"
  },
  "language_info": {
   "codemirror_mode": {
    "name": "ipython",
    "version": 3
   },
   "file_extension": ".py",
   "mimetype": "text/x-python",
   "name": "python",
   "nbconvert_exporter": "python",
   "pygments_lexer": "ipython3",
   "version": "3.10.4"
  },
  "orig_nbformat": 4,
  "vscode": {
   "interpreter": {
    "hash": "31f2aee4e71d21fbe5cf8b01ff0e069b9275f58929596ceb00d14d90e3e16cd6"
   }
  }
 },
 "nbformat": 4,
 "nbformat_minor": 2
}

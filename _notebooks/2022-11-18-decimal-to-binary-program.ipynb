{
 "cells": [
  {
   "cell_type": "markdown",
   "metadata": {},
   "source": [
    "# Decimal to Binary Python Program\n",
    "> Below is a small code segment that takes a decimal number inputted by the user and converts it into binary.\n",
    "\n",
    "- badges: true\n",
    "- comments: true\n",
    "- image: /images/python_image.jpg\n",
    "- categories: [jupyter,python,week1hacks]"
   ]
  },
  {
   "cell_type": "code",
   "execution_count": 2,
   "metadata": {},
   "outputs": [
    {
     "name": "stdout",
     "output_type": "stream",
     "text": [
      "Binary of 57281 is: 1101111111000001\n"
     ]
    }
   ],
   "source": [
    "#get input and initialize variables\n",
    "decimal = int(input(\"Enter a decimal number \\n\"))\n",
    "binary = 0\n",
    "ctr = 0\n",
    "temp = decimal  #copy input decimal\n",
    "\n",
    "#find binary value using while loop\n",
    "while(temp > 0):\n",
    "    binary = ((temp%2)*(10**ctr)) + binary\n",
    "    temp = int(temp/2)\n",
    "    ctr += 1\n",
    "\n",
    "#output the result       \n",
    "print(\"Binary of {x} is: {y}\".format(x=decimal,y=binary))"
   ]
  }
 ],
 "metadata": {
  "kernelspec": {
   "display_name": "Python 3.10.6 64-bit",
   "language": "python",
   "name": "python3"
  },
  "language_info": {
   "codemirror_mode": {
    "name": "ipython",
    "version": 3
   },
   "file_extension": ".py",
   "mimetype": "text/x-python",
   "name": "python",
   "nbconvert_exporter": "python",
   "pygments_lexer": "ipython3",
   "version": "3.10.6"
  },
  "orig_nbformat": 4,
  "vscode": {
   "interpreter": {
    "hash": "31f2aee4e71d21fbe5cf8b01ff0e069b9275f58929596ceb00d14d90e3e16cd6"
   }
  }
 },
 "nbformat": 4,
 "nbformat_minor": 2
}

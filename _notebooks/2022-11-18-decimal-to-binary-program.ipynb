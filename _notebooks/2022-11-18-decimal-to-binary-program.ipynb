{
 "cells": [
  {
   "cell_type": "markdown",
   "metadata": {},
   "source": [
    "# Decimal to Binary Python Program\n",
    "> Below is a small code segment that takes a decimal number inputted by the user and converts it into binary.\n",
    "\n",
    "- badges: true\n",
    "- comments: true\n",
    "- image: /images/python_image.jpg\n",
    "- categories: [jupyter,python,week1hacks]"
   ]
  },
  {
   "cell_type": "code",
   "execution_count": 1,
   "metadata": {},
   "outputs": [
    {
     "name": "stdout",
     "output_type": "stream",
     "text": [
      "82 in Hexadecimal is 52\n",
      "All Done!\n"
     ]
    }
   ],
   "source": [
    "#taking user input for the decimal and the number associated with binary, octal, hexadecimal\n",
    "decimal = int(input(\"Please enter a decimal value: \\n\"))\n",
    "choice = int(input(\"What would you like to convert the decimal to? [1] Binary [2] Octal [3] Hexadecimal: \\n\"))\n",
    "\n",
    "# if statements that convert the decimal into binary, octal, or hexadecimal depending on what number the user inputs\n",
    "if choice == 1:\n",
    "    print(\"{x} in Binary is {y}\".format(x=decimal,y=bin(decimal)[2:]))\n",
    "elif choice == 2:\n",
    "    print(\"{x} in Octal is {y}\".format(x=decimal,y=oct(decimal)))\n",
    "elif choice == 3:\n",
    "    print(\"{x} in Hexadecimal is {y}\".format(x=decimal,y=hex(decimal)))\n",
    "\n",
    "#if the user tries to choose a number that is not one of the choice, this message will appear\n",
    "else:\n",
    "    print(\"Input Invalid. Please try again.\")\n",
    "\n",
    "print(\"All Done!\")\n",
    "\n"
   ]
  }
 ],
 "metadata": {
  "kernelspec": {
   "display_name": "Python 3.9.12 ('base')",
   "language": "python",
   "name": "python3"
  },
  "language_info": {
   "codemirror_mode": {
    "name": "ipython",
    "version": 3
   },
   "file_extension": ".py",
   "mimetype": "text/x-python",
   "name": "python",
   "nbconvert_exporter": "python",
   "pygments_lexer": "ipython3",
   "version": "3.9.12"
  },
  "orig_nbformat": 4,
  "vscode": {
   "interpreter": {
    "hash": "587533099b5009788de4a0593b95c08fb364312472080bddc5e3384b713a9fde"
   }
  }
 },
 "nbformat": 4,
 "nbformat_minor": 2
}

{
 "cells": [
  {
   "attachments": {},
   "cell_type": "markdown",
   "metadata": {},
   "source": [
    "#  Data Structures- Hashmaps, Sets, Hash Tables, Hashing and Collisions\n",
    "> Observing hashmaps with python dictionaries\n",
    "- toc: true\n",
    "- image: /images/python.png\n",
    "- categories: []\n",
    "- type: pbl\n",
    "- week: 28"
   ]
  },
  {
   "attachments": {},
   "cell_type": "markdown",
   "metadata": {},
   "source": [
    "## What is a Hashtable/Hashmap?\n",
    "\n",
    "> A hashtable is a data structure that with a collection of key-value pairs, where each key maps to a value, and the keys must be unique and hashable.\n",
    "\n",
    "- In Python there is a built in hashtable known as a dictionary.\n",
    "\n",
    "> The primary purpose of a hashtable is to provide efficient lookup, insertion, and deletion operations. When an element is to be inserted into the hashtable, a hash function is used to map the key to a specific index in the underlying array that is used to store the key-value pairs. The value is then stored at that index. When searching for a value, the hash function is used again to find the index where the value is stored.\n",
    "\n",
    "> The key advantage of a hashtable over other data structures like arrays and linked lists is its average-case time complexity for lookup, insertion, and deletion operations.\n",
    "\n",
    "- The typical time complexity of a hashtable is O(1). \n"
   ]
  },
  {
   "attachments": {},
   "cell_type": "markdown",
   "metadata": {},
   "source": [
    "## What is Hashing and Collision?\n",
    "\n",
    "> Hashing is the process of mapping a given key to a value in a hash table or hashmap, using a hash function. The hash function takes the key as input and produces a hash value or hash code, which is then used to determine the index in the underlying array where the value is stored. The purpose of hashing is to provide a quick and efficient way to access data, by eliminating the need to search through an entire data structure to find a value.\n",
    "\n",
    "> However, it is possible for two different keys to map to the same hash value, resulting in a collision. When a collision occurs, there are different ways to resolve it, depending on the collision resolution strategy used.\n",
    "\n",
    "> Python's dictionary implementation is optimized to handle collisions efficiently, and the performance of the dictionary is generally very good, even in the presence of collisions. However, if the number of collisions is very high, the performance of the dictionary can degrade, so it is important to choose a good hash function that minimizes collisions when designing a Python dictionary.\n",
    "\n",
    "## What is a Set?"
   ]
  },
  {
   "cell_type": "code",
   "execution_count": 1,
   "metadata": {},
   "outputs": [
    {
     "name": "stdout",
     "output_type": "stream",
     "text": [
      "{1, 2, 3}\n"
     ]
    }
   ],
   "source": [
    "# Creating a set using set() function\n",
    "my_set = set([1, 2, 3, 2, 1])\n",
    "print(my_set)  \n",
    "\n",
    "# What do you notice in the output?\n",
    "# prints out each unique number only once\n",
    "# does not print out the extra 2 or 1\n",
    "# no duplicate values\n",
    "\n",
    "# Why do you think Sets are in the same tech talk as Hashmaps/Hashtables?\n",
    "# it involves storing data using some data structure (dictionary, list, etc.)\n",
    "# Hashmaps/hashtables are also another kind of data structure\n",
    "# both cannot have collisions"
   ]
  },
  {
   "attachments": {},
   "cell_type": "markdown",
   "metadata": {},
   "source": [
    "## Dictionary Example\n",
    "\n",
    "Below are just some basic features of a dictionary. As always, documentation is always the main source for all the full capablilties. "
   ]
  },
  {
   "cell_type": "code",
   "execution_count": 2,
   "metadata": {},
   "outputs": [
    {
     "name": "stdout",
     "output_type": "stream",
     "text": [
      "{'title': 'Lover', 'artist': 'Taylor Swift', 'year': 2019, 'genre': ['Pop', 'Synth-pop'], 'tracks': {1: 'I Forgot That You Existed', 2: 'Cruel Summer', 3: 'Lover', 4: 'The Man', 5: 'The Archer', 6: 'I Think He Knows', 7: 'Miss Americana & The Heartbreak Prince', 8: 'Paper Rings', 9: 'Cornelia Street', 10: 'Death By A Thousand Cuts', 11: 'London Boy', 12: \"Soon You'll Get Better (feat. Dixie Chicks)\", 13: 'False God', 14: 'You Need To Calm Down', 15: 'Afterglow', 16: 'Me! (feat. Brendon Urie of Panic! At The Disco)', 17: \"It's Nice To Have A Friend\", 18: 'Daylight'}}\n"
     ]
    }
   ],
   "source": [
    "# Creating a dictionary with information about the album \"Lover\"\n",
    "lover_album = {\n",
    "    \"title\": \"Lover\",\n",
    "    \"artist\": \"Taylor Swift\",\n",
    "    \"year\": 2019,\n",
    "    \"genre\": [\"Pop\", \"Synth-pop\"],\n",
    "    \"tracks\": {\n",
    "        1: \"I Forgot That You Existed\",\n",
    "        2: \"Cruel Summer\",\n",
    "        3: \"Lover\",\n",
    "        4: \"The Man\",\n",
    "        5: \"The Archer\",\n",
    "        6: \"I Think He Knows\",\n",
    "        7: \"Miss Americana & The Heartbreak Prince\",\n",
    "        8: \"Paper Rings\",\n",
    "        9: \"Cornelia Street\",\n",
    "        10: \"Death By A Thousand Cuts\",\n",
    "        11: \"London Boy\",\n",
    "        12: \"Soon You'll Get Better (feat. Dixie Chicks)\",\n",
    "        13: \"False God\",\n",
    "        14: \"You Need To Calm Down\",\n",
    "        15: \"Afterglow\",\n",
    "        16: \"Me! (feat. Brendon Urie of Panic! At The Disco)\",\n",
    "        17: \"It's Nice To Have A Friend\",\n",
    "        18: \"Daylight\"\n",
    "    }\n",
    "}\n",
    "\n",
    "# What data structures do you see?\n",
    "# dictionary for tracks\n",
    "# list for the genre\n",
    "\n",
    "# Printing the dictionary\n",
    "print(lover_album)"
   ]
  },
  {
   "cell_type": "code",
   "execution_count": 3,
   "metadata": {},
   "outputs": [
    {
     "name": "stdout",
     "output_type": "stream",
     "text": [
      "{1: 'I Forgot That You Existed', 2: 'Cruel Summer', 3: 'Lover', 4: 'The Man', 5: 'The Archer', 6: 'I Think He Knows', 7: 'Miss Americana & The Heartbreak Prince', 8: 'Paper Rings', 9: 'Cornelia Street', 10: 'Death By A Thousand Cuts', 11: 'London Boy', 12: \"Soon You'll Get Better (feat. Dixie Chicks)\", 13: 'False God', 14: 'You Need To Calm Down', 15: 'Afterglow', 16: 'Me! (feat. Brendon Urie of Panic! At The Disco)', 17: \"It's Nice To Have A Friend\", 18: 'Daylight'}\n",
      "{1: 'I Forgot That You Existed', 2: 'Cruel Summer', 3: 'Lover', 4: 'The Man', 5: 'The Archer', 6: 'I Think He Knows', 7: 'Miss Americana & The Heartbreak Prince', 8: 'Paper Rings', 9: 'Cornelia Street', 10: 'Death By A Thousand Cuts', 11: 'London Boy', 12: \"Soon You'll Get Better (feat. Dixie Chicks)\", 13: 'False God', 14: 'You Need To Calm Down', 15: 'Afterglow', 16: 'Me! (feat. Brendon Urie of Panic! At The Disco)', 17: \"It's Nice To Have A Friend\", 18: 'Daylight'}\n"
     ]
    }
   ],
   "source": [
    "# Retrieve value from dictionary with key\n",
    "print(lover_album.get('tracks'))\n",
    "# or\n",
    "print(lover_album['tracks'])"
   ]
  },
  {
   "cell_type": "code",
   "execution_count": 4,
   "metadata": {},
   "outputs": [
    {
     "name": "stdout",
     "output_type": "stream",
     "text": [
      "The Man\n",
      "The Man\n"
     ]
    }
   ],
   "source": [
    "# Retrieve value from a dictionary inside a dictionary\n",
    "print(lover_album.get('tracks')[4])\n",
    "# or\n",
    "print(lover_album['tracks'][4])"
   ]
  },
  {
   "cell_type": "code",
   "execution_count": 9,
   "metadata": {},
   "outputs": [
    {
     "name": "stdout",
     "output_type": "stream",
     "text": [
      "{'title': 'Lover', 'artist': 'Taylor Swift', 'year': 2019, 'genre': ['Pop', 'Synth-pop'], 'tracks': {1: 'I Forgot That You Existed', 2: 'Cruel Summer', 3: 'Lover', 4: 'The Man', 5: 'The Archer', 6: 'I Think He Knows', 7: 'Miss Americana & The Heartbreak Prince', 8: 'Paper Rings', 9: 'Cornelia Street', 10: 'Death By A Thousand Cuts', 11: 'London Boy', 12: \"Soon You'll Get Better (feat. Dixie Chicks)\", 13: 'False God', 14: 'You Need To Calm Down', 15: 'Afterglow', 16: 'Me! (feat. Brendon Urie of Panic! At The Disco)', 17: \"It's Nice To Have A Friend\", 18: 'Daylight', 19: 'All Of The Girls You Loved Before'}, 'producer': {'Taylor Swift', 'Jack Antonoff', 'Louis Bell', 'Frank Dukes', 'Joel Little'}}\n"
     ]
    }
   ],
   "source": [
    "# adding a value with a new key\n",
    "lover_album[\"producer\"] = set(['Taylor Swift', 'Jack Antonoff', 'Joel Little', 'Taylor Swift', 'Louis Bell', 'Frank Dukes'])\n",
    "\n",
    "# What can you change to make sure there are no duplicate producers?\n",
    "# remove the extra taylor swift\\\n",
    "# or\n",
    "# make the list into a set using the set function\n",
    "\n",
    "# Printing the dictionary\n",
    "print(lover_album)"
   ]
  },
  {
   "cell_type": "code",
   "execution_count": 13,
   "metadata": {},
   "outputs": [
    {
     "name": "stdout",
     "output_type": "stream",
     "text": [
      "{'title': 'Lover', 'artist': 'Taylor Swift', 'year': 2019, 'genre': ['Pop', 'Synth-pop', 'electropop'], 'tracks': {1: 'I Forgot That You Existed', 2: 'Cruel Summer', 3: 'Lover', 4: 'The Man', 5: 'The Archer', 6: 'I Think He Knows', 7: 'Miss Americana & The Heartbreak Prince', 8: 'Paper Rings', 9: 'Cornelia Street', 10: 'Death By A Thousand Cuts', 11: 'London Boy', 12: \"Soon You'll Get Better (feat. Dixie Chicks)\", 13: 'False God', 14: 'You Need To Calm Down', 15: 'Afterglow', 16: 'Me! (feat. Brendon Urie of Panic! At The Disco)', 17: \"It's Nice To Have A Friend\", 18: 'Daylight', 19: 'All Of The Girls You Loved Before'}, 'producer': {'Taylor Swift', 'Jack Antonoff', 'Louis Bell', 'Frank Dukes', 'Joel Little'}}\n",
      "['Pop', 'Synth-pop', 'electropop']\n"
     ]
    }
   ],
   "source": [
    "# Adding a an key-value pair to an existing key \n",
    "lover_album[\"tracks\"].update({19: \"All Of The Girls You Loved Before\"})\n",
    "\n",
    "# How would add an additional genre to the dictionary, like electropop?\n",
    "lover_album[\"genre\"].append(\"electropop\")\n",
    "# use the append function \n",
    "\n",
    "\n",
    "# Printing the dictionary\n",
    "print(lover_album)\n",
    "print(lover_album[\"genre\"])"
   ]
  },
  {
   "cell_type": "code",
   "execution_count": 12,
   "metadata": {},
   "outputs": [
    {
     "name": "stdout",
     "output_type": "stream",
     "text": [
      "1: I Forgot That You Existed\n",
      "2: Cruel Summer\n",
      "3: Lover\n",
      "4: The Man\n",
      "5: The Archer\n",
      "6: I Think He Knows\n",
      "7: Miss Americana & The Heartbreak Prince\n",
      "8: Paper Rings\n",
      "9: Cornelia Street\n",
      "10: Death By A Thousand Cuts\n",
      "11: London Boy\n",
      "12: Soon You'll Get Better (feat. Dixie Chicks)\n",
      "13: False God\n",
      "14: You Need To Calm Down\n",
      "15: Afterglow\n",
      "16: Me! (feat. Brendon Urie of Panic! At The Disco)\n",
      "17: It's Nice To Have A Friend\n",
      "18: Daylight\n",
      "19: All Of The Girls You Loved Before\n"
     ]
    }
   ],
   "source": [
    "# Print lover_album in more readable format\n",
    "for k,v in lover_album[\"tracks\"].items(): # iterate using a for loop for key and value\n",
    "    print(str(k) + \": \" + str(v))\n",
    "\n",
    "# Write your own code to print tracks in readable format\n",
    "#\n",
    "#"
   ]
  },
  {
   "cell_type": "code",
   "execution_count": 17,
   "metadata": {},
   "outputs": [
    {
     "name": "stdout",
     "output_type": "stream",
     "text": [
      "Invalid Search\n"
     ]
    }
   ],
   "source": [
    "# Using conditionals to retrieve a random song\n",
    "def search():\n",
    "    search = input(\"What would you like to know about the album?\")\n",
    "    if lover_album.get(search.lower()) == None:\n",
    "        print(\"Invalid Search\")\n",
    "    else:\n",
    "        print(lover_album.get(search.lower()))\n",
    "\n",
    "search()\n",
    "\n",
    "# This is a very basic code segment, how can you improve upon this code?\n",
    "# perhaps add more attributes/keys \n",
    "# allow the user to try inputting something again after inputting something invalid"
   ]
  },
  {
   "attachments": {},
   "cell_type": "markdown",
   "metadata": {},
   "source": [
    "## Hacks\n",
    "\n",
    "- Answer *ALL* questions in the code segments\n",
    "- Create a diagram or comparison illustration (Canva).\n",
    "    - What are the pro and cons of using this data structure? \n",
    "    - Dictionary vs List    \n",
    "- Expand upon the code given to you, possible improvements in comments\n",
    "- Build your own album showing features of a python dictionary\n",
    "\n",
    "- For Mr. Yeung's class: Justify your favorite Taylor Swift song, answer may effect seed\n",
    "\n",
    "Out of all her masterpieces, \"You Belong With Me\", in my opinion, stands out as Taylor Swift's most iconic and beloved songs. To begin with, \"You Belong With Me\" is a song that is relatable to many, many groups of people, especially young adults who are in relationships. Its use of powerful lyrics, language, and vocals express the feeling of desiring someone who is currently dating someone else. That feeling of watching someone that you secretly love dating someone else is definitely a situation that many people have found themselves in, and Swift's masterful storytelling makes  listeners feel like they are right there with her, experiencing the same pain and frustration of being in love with someone who is probably out of their league. The chorus of the song, in particular, is incredibly catchy and memorable, with the repeated line \"You belong with me\" serving as a powerful and emotional hook and forming a more meaningful, powerful connection between Taylor swift and the listening audience. Furthermore, \"You Belong With Me\" is a song that allows for Swift's exceptional songwriting abilities to shine and be illuminated for the listeners to hear. The lyrics are witty, clever, and heartfelt, capturing the essence of young love in a way that feels realistic and genuine. I also really love how song is essentially a narrative,   as Swift manages to tell a story that many young people can easily understand in just a few minutes. Through her unimaginable songwriting skills and powerful voice, Taylor Swift is able  paints a clear picture of a girl who is hopelessly in love with a boy who is dating someone else, conveying a sense of longing and desire that is palpable. Additionally, \"You Belong With Me\" has had a significant impact on our popular culture and has become a defining song of its era. The music video for the song has especially become a cultural touchstone, with its depiction of a classic nerd as well as a popular girl, in which the man is dating the latter. This kind of storyline is definitely something that many young adult listeners can resonate with, and that is what adds to the meaningful connection between the artist herself and her fans.  The song's message of staying true to oneself and not changing to fit in with societal norms is an important one, and it has inspired countless fans to embrace their individuality and be proud of who they are. In conclusion, \"You Belong With Me\" is Taylor Swift's best song ever because of its universal appeal, perfect blend of country and pop influences, exceptional songwriting, and significant impact on popular culture. It is a song that continues to resonate with fans of all ages and has become a timeless classic that will undoubtedly endure for generations to come.\n",
    "\n",
    "https://justrandomthings.com/2021/04/04/taylor-swift-you-belong-with-me-lyrics-meaning-song-review/\n",
    "\n"
   ]
  },
  {
   "attachments": {},
   "cell_type": "markdown",
   "metadata": {},
   "source": [
    "## My Own Album (Eyes Open)"
   ]
  },
  {
   "attachments": {},
   "cell_type": "markdown",
   "metadata": {},
   "source": [
    "### Program that allows users to decide what from the album they want to print out"
   ]
  },
  {
   "cell_type": "code",
   "execution_count": 4,
   "metadata": {},
   "outputs": [
    {
     "name": "stdout",
     "output_type": "stream",
     "text": [
      "You chose to print the  of the album\n",
      "Sorry, the attribute  is not in the album. Trying inputting something that actually is.\n",
      "You chose to print the songs of the album\n",
      "{1: \"You're All That I Have\", 2: 'Hands Open', 3: 'Chasing Cars', 4: 'Shut Your Eyes', 5: \"It's Beginning to Get to Me\", 6: 'You Could Be Happy', 7: 'Make This Go On Forever', 8: 'Set The Fire To The Third Bar', 9: 'Headlights on Dark Roads', 10: 'Open Your Eyes', 11: 'The Finish Line'}\n",
      "You chose to print the stop of the album\n"
     ]
    }
   ],
   "source": [
    "\n",
    "import datetime\n",
    "\n",
    "from datetime import datetime\n",
    "\n",
    "import sys\n",
    "\n",
    "eyes_open = {\n",
    "    \"title\": \"Eyes Open\",\n",
    "    \"artist\": \"Snow Patrol\",\n",
    "    \"genre\": [\"alternative rock\",\"indie rock\",\"post-Britpop\", \"Power pop\"],\n",
    "    \"release_date\": datetime(2006,4,28),\n",
    "    \"producer\": \"Jacknife Lee\",\n",
    "    \"songs\": {\n",
    "        1: \"You're All That I Have\",\n",
    "        2: \"Hands Open\",\n",
    "        3: \"Chasing Cars\",\n",
    "        4: \"Shut Your Eyes\",\n",
    "        5: \"It's Beginning to Get to Me\",\n",
    "        6: \"You Could Be Happy\",\n",
    "        7: \"Make This Go On Forever\",\n",
    "        8: \"Set The Fire To The Third Bar\",\n",
    "        9: \"Headlights on Dark Roads\",\n",
    "        10: \"Open Your Eyes\",\n",
    "        11: \"The Finish Line\"\n",
    "    }\n",
    "}\n",
    "\n",
    "# allows the user to decide what attributes of the album that they want to print out\n",
    "\n",
    "while True:\n",
    "\n",
    "        choice = input(\"What from the album would you like to print out?\")\n",
    "\n",
    "        print(f'You chose to print the {choice} of the album')\n",
    "\n",
    "        if choice == \"title\":\n",
    "                print(eyes_open[\"title\"])\n",
    "        elif choice == \"artist\":\n",
    "                print(eyes_open[\"artist\"])\n",
    "        elif choice == \"genre\":\n",
    "                print(eyes_open[\"genre\"])\n",
    "        elif choice == \"release date\":\n",
    "                print(eyes_open[\"release_date\"])\n",
    "        elif choice == \"songs\":\n",
    "                print(eyes_open[\"songs\"])\n",
    "        elif choice == \"stop\":\n",
    "                break\n",
    "        else:\n",
    "                print(f'Sorry, the attribute {choice} is not in the album. Trying inputting something that actually is.')\n",
    "                "
   ]
  },
  {
   "attachments": {},
   "cell_type": "markdown",
   "metadata": {},
   "source": [
    "### Guessing game"
   ]
  },
  {
   "cell_type": "code",
   "execution_count": 22,
   "metadata": {},
   "outputs": [
    {
     "name": "stdout",
     "output_type": "stream",
     "text": [
      "chasing cars is not correct! Try again!\n",
      "You got it! The correct answer is indeed Set The Fire To The Third Bar\n"
     ]
    }
   ],
   "source": [
    "import random\n",
    "\n",
    "eyes_open = {\n",
    "    \"title\": \"Eyes Open\",\n",
    "    \"artist\": \"Snow Patrol\",\n",
    "    \"genre\": [\"alternative rock\",\"indie rock\",\"post-Britpop\", \"Power pop\"],\n",
    "    \"release_date\": datetime(2006,4,28),\n",
    "    \"producer\": \"Jacknife Lee\",\n",
    "    \"songs\": {\n",
    "        1: \"You're All That I Have\",\n",
    "        2: \"Hands Open\",\n",
    "        3: \"Chasing Cars\",\n",
    "        4: \"Shut Your Eyes\",\n",
    "        5: \"It's Beginning to Get to Me\",\n",
    "        6: \"You Could Be Happy\",\n",
    "        7: \"Make This Go On Forever\",\n",
    "        8: \"Set The Fire To The Third Bar\",\n",
    "        9: \"Headlights on Dark Roads\",\n",
    "        10: \"Open Your Eyes\",\n",
    "        11: \"The Finish Line\"\n",
    "    }\n",
    "}\n",
    "\n",
    "favorite_song = random.choice(list(eyes_open['songs'].values()))\n",
    "\n",
    "guesses = 5\n",
    "\n",
    "while guesses > 0:\n",
    "    guess = input(\"What is my favorite song from the Eyes Open Album?\")\n",
    "    if guess.lower() == favorite_song.lower():\n",
    "        print(f'You got it! The correct answer is indeed {favorite_song}')\n",
    "        break\n",
    "\n",
    "    else:\n",
    "        print(f'{guess} is not correct! Try again!')\n",
    "        guesses-=1\n",
    "\n",
    "if guesses == 0:\n",
    "        print(f'Game Over! The correct answer was {favorite_song}')"
   ]
  },
  {
   "cell_type": "code",
   "execution_count": null,
   "metadata": {},
   "outputs": [],
   "source": []
  }
 ],
 "metadata": {
  "kernelspec": {
   "display_name": "base",
   "language": "python",
   "name": "python3"
  },
  "language_info": {
   "codemirror_mode": {
    "name": "ipython",
    "version": 3
   },
   "file_extension": ".py",
   "mimetype": "text/x-python",
   "name": "python",
   "nbconvert_exporter": "python",
   "pygments_lexer": "ipython3",
   "version": "3.9.12"
  },
  "orig_nbformat": 4
 },
 "nbformat": 4,
 "nbformat_minor": 2
}

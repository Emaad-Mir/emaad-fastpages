{
 "cells": [
  {
   "attachments": {},
   "cell_type": "markdown",
   "metadata": {},
   "source": [
    "#  Unit 4.3a Parallel Computing\n",
    "> Observe an algorithm using parallel computing in Python Code.  Monitor processes on host.\n",
    "- toc: true\n",
    "- image: /images/python.png\n",
    "- categories: []\n",
    "- type: pbl\n",
    "- week: 28"
   ]
  },
  {
   "attachments": {},
   "cell_type": "markdown",
   "metadata": {},
   "source": [
    "## Analyzing Parallel Computing\n",
    "> Once again we will use image lab, this time to review Parallel Computing.\n",
    "- Change baseWidth in this line in code to increase computation requirements: ```def process_image(image, baseWidth=512):```  For instance 320, 512, 1024, 2048, 4096.\n",
    "- Compare Sequential and Parallel computing code and time to achieve outputs"
   ]
  },
  {
   "cell_type": "code",
   "execution_count": null,
   "metadata": {},
   "outputs": [],
   "source": [
    "from IPython.display import HTML, display\n",
    "from pathlib import Path  # https://medium.com/@ageitgey/python-3-quick-tip-the-easy-way-to-deal-with-file-paths-on-windows-mac-and-linux-11a072b58d5f\n",
    "from PIL import Image as pilImage # as PIL Image is used to avoid conflicts\n",
    "from io import BytesIO\n",
    "import base64\n",
    "import numpy as np\n",
    "\n",
    "\n",
    "# prepares a series of images\n",
    "def image_data(path=Path(\"images/\"), images=None):  # path of static images is defaulted\n",
    "    if images is None:  # default image\n",
    "        images = [\n",
    "            {'source': \"Internet\", 'label': \"Green Square\", 'file': \"green-square-16.png\"},\n",
    "            {'source': \"Peter Carolin\", 'label': \"Clouds Impression\", 'file': \"clouds-impression.png\"},\n",
    "            {'source': \"Peter Carolin\", 'label': \"Lassen Volcano\", 'file': \"lassen-volcano.jpg\"}\n",
    "        ]\n",
    "    for image in images:\n",
    "        # File to open\n",
    "        image['filename'] = path / image['file']  # file with path\n",
    "    return images\n",
    "\n",
    "# Scale to baseWidth\n",
    "def scale_image(img, baseWidth):\n",
    "    scalePercent = (baseWidth/float(img.size[0]))\n",
    "    scaleHeight = int((float(img.size[1])*float(scalePercent)))\n",
    "    scale = (baseWidth, scaleHeight)\n",
    "    return img.resize(scale)\n",
    "\n",
    "# PIL image converted to base64\n",
    "def image_to_base64(img, format):\n",
    "    with BytesIO() as buffer:\n",
    "        img.save(buffer, format)\n",
    "        return base64.b64encode(buffer.getvalue()).decode()\n",
    "    \n",
    "# Convert pixels to Grey Scale\n",
    "def grey_pixel(pixel):\n",
    "    average = (pixel[0] + pixel[1] + pixel[2]) // 3  # average pixel values and use // for integer division\n",
    "    if len(pixel) > 3:\n",
    "        return( (average, average, average, pixel[3]) ) # PNG format\n",
    "    else:\n",
    "        return( (average, average, average) )\n",
    "    \n",
    "# Convert pixels to Red Scale\n",
    "def red_pixel(pixel):\n",
    "    if len(pixel) > 3:\n",
    "        return( (pixel[0], 0, 0, pixel[3]) ) # PNG format\n",
    "    else:\n",
    "        return( (pixel[0], 0, 0) )\n",
    "    \n",
    "# Convert pixels to Red Scale\n",
    "def green_pixel(pixel):\n",
    "    if len(pixel) > 3:\n",
    "        return( (0, pixel[1], 0, pixel[3]) ) # PNG format\n",
    "    else:\n",
    "        return( (0, pixel[1], 0) )\n",
    "    \n",
    "# Convert pixels to Red Scale\n",
    "def blue_pixel(pixel):\n",
    "    if len(pixel) > 3:\n",
    "        return( (0, 0, pixel[2], pixel[3]) ) # PNG format\n",
    "    else:\n",
    "        return( (0, 0, pixel[2]) )\n",
    "        \n",
    "# Set Properties of Image, Scale, and convert to Base64\n",
    "def image_management(image, baseWidth):  # path of static images is defaulted        \n",
    "    # Image open return PIL image object\n",
    "    img = pilImage.open(image['filename'])\n",
    "    \n",
    "    # Python Image Library operations\n",
    "    image['format'] = img.format\n",
    "    image['mode'] = img.mode\n",
    "    image['size'] = img.size\n",
    "    # Scale the Image\n",
    "    img = scale_image(img, baseWidth)\n",
    "    image['pil'] = img\n",
    "    image['scaled_size'] = img.size\n",
    "    image['numpy'] = np.array(img.getdata())\n",
    "    # Scaled HTML\n",
    "    image['html'] = '<img src=\"data:image/png;base64,%s\">' % image_to_base64(image['pil'], image['format'])\n",
    "    \n",
    "    # Grey HTML\n",
    "    # each pixel in numpy array is turned to grey \n",
    "    # then resulting list, using List Comprehension, is put back into img    \n",
    "    img.putdata([grey_pixel(pixel) for pixel in image['numpy']])\n",
    "    image['html_grey'] =  '<img src=\"data:image/png;base64,%s\">' % image_to_base64(img, image['format'])\n",
    "    \n",
    "    # Red HTML\n",
    "    img.putdata([red_pixel(pixel) for pixel in image['numpy']])\n",
    "    image['html_red'] =  '<img src=\"data:image/png;base64,%s\">' % image_to_base64(img, image['format'])\n",
    "    \n",
    "    # Green HTML\n",
    "    img.putdata([green_pixel(pixel) for pixel in image['numpy']])\n",
    "    image['html_green'] =  '<img src=\"data:image/png;base64,%s\">' % image_to_base64(img, image['format'])\n",
    "    \n",
    "    # Blue HTML\n",
    "    img.putdata([blue_pixel(pixel) for pixel in image['numpy']])\n",
    "    image['html_blue'] =  '<img src=\"data:image/png;base64,%s\">' % image_to_base64(img, image['format'])\n",
    "    \n",
    "    \n",
    "def process_image(image, baseWidth=100):\n",
    "    image_management(image, baseWidth)\n",
    "    print(\"---- meta data -----\")\n",
    "    print(image['label'])\n",
    "    print(image['source'])\n",
    "    print(image['format'])\n",
    "    print(image['mode'])\n",
    "    print(\"Original size: \", image['size'])\n",
    "    print(\"Scaled size: \", image['scaled_size'])\n",
    "    \n",
    "    print(\"-- images --\")\n",
    "    display(HTML(image['html'])) \n",
    "    display(HTML(image['html_grey'])) \n",
    "    display(HTML(image['html_red'])) \n",
    "    display(HTML(image['html_green'])) \n",
    "    display(HTML(image['html_blue'])) \n"
   ]
  },
  {
   "attachments": {},
   "cell_type": "markdown",
   "metadata": {},
   "source": [
    "## Sequential Processing \n",
    "> The for loop iterates over the list of images and processes them one at a time, in order."
   ]
  },
  {
   "cell_type": "code",
   "execution_count": null,
   "metadata": {},
   "outputs": [],
   "source": [
    "# Jupyter Notebook Visualization of Images\n",
    "if __name__ == \"__main__\":\n",
    "    # setup default images\n",
    "    images = image_data()\n",
    "\n",
    "    # Sequential Processing    \n",
    "    for image in images:\n",
    "        process_image(image)\n",
    "        \n",
    "    print()"
   ]
  },
  {
   "attachments": {},
   "cell_type": "markdown",
   "metadata": {},
   "source": [
    "## Parallel Computing\n",
    "\n",
    " > In parallel or concurrent mode, the ThreadPoolExecutor is used to submit each image to a separate worker thread, allowing multiple images to be processed simultaneously. Multithreading allows multiple concurrent tasks of a process at the same time. The executor.map() method is used to apply the process_image function to each image in the images list.  \n",
    " - The order in which the images are processed is not guaranteed, as threads are performed simultaneously."
   ]
  },
  {
   "cell_type": "code",
   "execution_count": null,
   "metadata": {},
   "outputs": [],
   "source": [
    "import concurrent.futures\n",
    "\n",
    "# Jupyter Notebook Visualization of Images\n",
    "if __name__ == \"__main__\":\n",
    "    # setup default images\n",
    "    images = image_data()\n",
    "    \n",
    "    # Parallel Processsing\n",
    "    # executor allocates threads, it considers core execution capability of machine\n",
    "    with concurrent.futures.ThreadPoolExecutor() as executor:\n",
    "        executor.map(process_image, images)  # order is not predictable\n",
    "        \n",
    "    print()"
   ]
  },
  {
   "attachments": {},
   "cell_type": "markdown",
   "metadata": {},
   "source": [
    "## Observing Parallel Computing and Threads\n",
    "> You can observe Processes, CPU Percentage, and Threads with Tools on your machine. Common tools to monitor performance are Activity Monitor on MacOS or Task Manager on Windows.   \n",
    "\n",
    "- This example is using ```top``` launched in VSCode Terminal. (mac)\n",
    "- Try ```top -H``` for linux.\n",
    "![](images/top.png)\n",
    "    - PID is Process ID.  \n",
    "    - COMMAND is task running on machine.  Python is activated when running this Jupyter notebook.\n",
    "    - #TH is number of threads.   This increases from 15/1 to 18/1 on my machine when running python parallel computing example.\n"
   ]
  },
  {
   "attachments": {},
   "cell_type": "markdown",
   "metadata": {},
   "source": [
    "## Hacks\n",
    "> AP Classroom. Provide answers and thoughts on theoritical question form college board Video in section 4.3.  They start at about the 9 minute mark.\n",
    "- Example 1\n",
    "- Example 2\n",
    "\n",
    "> Data Structures.  Build a List Comprehension example\n",
    "- list = [calc(item) for item in items]"
   ]
  },
  {
   "attachments": {},
   "cell_type": "markdown",
   "metadata": {},
   "source": [
    "### Example 1"
   ]
  },
  {
   "cell_type": "code",
   "execution_count": null,
   "metadata": {},
   "outputs": [],
   "source": [
    "from PIL import Image\n",
    "example1 = Image.open('../images/example1.png')\n",
    "new_example1 = example1.resize((600,300))\n",
    "display(new_example1)\n",
    "\n"
   ]
  },
  {
   "attachments": {},
   "cell_type": "markdown",
   "metadata": {},
   "source": [
    "#### Answer to Example 1\n",
    "\n",
    "The minimum amount of time to execute all three processes when the two processors are run in parallel is 50 seconds. Below is a demonstration of what this would look like:\n",
    "\n",
    "        Process X: Takes 50 seconds\n",
    "        Process Y: Takes 10 seconds\n",
    "        Process Z: Takes 30 seconds\n",
    "\n",
    "Processes Y and Z can be run on processor in 40 seconds, but Process X will still need to be run, thus giving a minimum time of 50 seconds."
   ]
  },
  {
   "attachments": {},
   "cell_type": "markdown",
   "metadata": {},
   "source": [
    "### Example 2\n"
   ]
  },
  {
   "cell_type": "code",
   "execution_count": null,
   "metadata": {},
   "outputs": [],
   "source": [
    "\n",
    "from PIL import Image\n",
    "example2 = Image.open('../images/example2.png')\n",
    "new_example2 = example2.resize((600,300))\n",
    "display(new_example2)\n",
    "\n"
   ]
  },
  {
   "attachments": {},
   "cell_type": "markdown",
   "metadata": {},
   "source": [
    "#### Answer to Example 2\n",
    "\n",
    "The difference in execution time between running two processes in parallel in place of running them one after the other on a single processor is 25 seconds. Below is a demonstration for why this is:\n",
    "\n",
    "If one wanted to just run each process one after the other, it would take a total of 25 + 45 = 70 seconds to execute.\n",
    "On the other hand, if one ran the two processes in parallel, it would take a maximum of 45 seconds (because of process B).\n",
    "\n",
    "Therefore, the difference in execution time is 70 - 45 = 25 seconds. "
   ]
  },
  {
   "cell_type": "code",
   "execution_count": null,
   "metadata": {},
   "outputs": [],
   "source": [
    "import math \n",
    "\n",
    "a = int(input(\"Enter the size that you would like the list to be (as an integer)\"))\n",
    "items = []\n",
    "\n",
    "def num_list():\n",
    "\n",
    "    for i in range(0,a):        \n",
    "        item = int(input(\"Enter any integer that you would like to add to the list\"))\n",
    "        items.append(item)\n",
    "    \n",
    "    print(f'Your List:{items}')\n",
    "        \n",
    "num_list()\n",
    "\n",
    "def calc(item):\n",
    "    return math.sqrt(item)\n",
    "\n",
    "square_root_list = [calc(item) for item in items]\n",
    "\n",
    "print(f'Square root list: {square_root_list}')\n",
    "\n",
    "\n"
   ]
  },
  {
   "attachments": {},
   "cell_type": "markdown",
   "metadata": {},
   "source": [
    "### List Comprehension with CSV and JSON Files (implementation of 2.)\n",
    "\n",
    "Not only can you play around with list comprehension with lists that you create, but you can also try them out on csv, json, and all kinds of data files. The code segment below includes lists for the csv and json files and uses list comprehension in order to yield the output, which is reading the contents of the data files. "
   ]
  },
  {
   "cell_type": "code",
   "execution_count": 20,
   "metadata": {},
   "outputs": [
    {
     "name": "stdout",
     "output_type": "stream",
     "text": [
      "CSV FILES\n",
      " [   Duration  Pulse  Maxpulse  Calories\n",
      "0        60    110       130     409.1\n",
      "1        60    117       145     479.0\n",
      "2        60    103       135     340.0\n",
      "3        45    109       175     282.4]\n",
      "\n",
      "\n",
      "JSON FILES\n",
      " [                 name    sales\n",
      "0    Original Trilogy  1000000\n",
      "1      Ace Attorney 1   796000\n",
      "2      Apollo Justice   660000\n",
      "3      Ace Attorney 2   600000\n",
      "4      Ace Attorney 3   580000\n",
      "5          Chronicles   500000\n",
      "6      Dual Destinies   448000\n",
      "7       Investigation   400000\n",
      "8   Spirit of Justice   343000\n",
      "9    Investigations 2   275000\n",
      "10               DGS1   241000\n",
      "11               DGS2   149000,    Planets  distance_from_the_sun  distance_from_the_earth\n",
      "0  Mercury               36295000             1.272500e+08\n",
      "1    Venus               67004000             1.219300e+08\n",
      "2    Earth               92351000                      NaN\n",
      "3     Mars              152890000             1.174200e+08\n",
      "4  Jupiter              460300000             5.438000e+08\n",
      "5   Saturn              911470000             9.972700e+08\n",
      "6   Uranus             1826800000             1.878700e+09\n",
      "7  Neptune             2779600000             2.871800e+09\n",
      "8    Pluto             3700000000             3.284200e+09]\n"
     ]
    }
   ],
   "source": [
    "import pandas as pd\n",
    "\n",
    "json_files = [\"files/aceattorney.json\",\"files/planets.json\"]\n",
    "csv_files = [\"files/data.csv\"]\n",
    "\n",
    "json = [pd.read_json(file) for file in json_files]\n",
    "csv = [pd.read_csv(csv_file) for csv_file in csv_files]\n",
    "\n",
    "print(\"CSV FILES\\n\", csv)\n",
    "print(\"\\n\")\n",
    "print(\"JSON FILES\\n\", json)\n"
   ]
  },
  {
   "cell_type": "code",
   "execution_count": null,
   "metadata": {},
   "outputs": [],
   "source": []
  }
 ],
 "metadata": {
  "kernelspec": {
   "display_name": "base",
   "language": "python",
   "name": "python3"
  },
  "language_info": {
   "codemirror_mode": {
    "name": "ipython",
    "version": 3
   },
   "file_extension": ".py",
   "mimetype": "text/x-python",
   "name": "python",
   "nbconvert_exporter": "python",
   "pygments_lexer": "ipython3",
   "version": "3.9.12"
  },
  "orig_nbformat": 4
 },
 "nbformat": 4,
 "nbformat_minor": 2
}

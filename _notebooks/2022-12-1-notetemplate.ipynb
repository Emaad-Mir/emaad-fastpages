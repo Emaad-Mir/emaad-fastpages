{
 "cells": [
  {
   "cell_type": "markdown",
   "metadata": {},
   "source": [
    "# Note Template\n",
    "- comments: true"
   ]
  },
  {
   "cell_type": "markdown",
   "metadata": {},
   "source": [
    "# Take some additional notes that you would like here for 3.12 and 3.13. We will be looking for additional notes from the presentation. \n"
   ]
  },
  {
   "attachments": {},
   "cell_type": "markdown",
   "metadata": {},
   "source": [
    "# What are procedures?\n",
    "\n",
    "**Fill in the blanks please:**\n",
    "\n",
    "Procedure: A named group of programming instructions that may have parameters and return values. Procedures can also be referred to as a method or function, depending on the language.\n",
    "\n",
    "Parameters: Input values of a procedure.\n",
    "\n",
    "Arguments: Specify the values of the parameters when a procedure is called.\n",
    "\n",
    "Modularity: Separating a program's functions into independent pieces or blocks, each containing all the parts needed to execute a single aspect of the functionality.\n",
    "\n",
    "Procedural Abstraction: Process that allows a procedure to be used only knowing WHAT it does, not HOW it does it.\n",
    "\n",
    "What are some other names for procedures?: Depending on the language, procedures can also be referred to as a method or a function.\n",
    "\n",
    "Why are procedures effective?: Procedures are effective because it gives us the ability to alter the result without actually changing the calls to the program. It also makes it convenient to change the actions if there is an error in the code. \n",
    "\n",
    "# Extra/Additional Notes\n",
    "\n",
    "- A procedure may or may not return a value\n",
    "- A procedure call interrupts a series of statements and makes the program execute the statements in the procedure\n",
    "- Procedural abstraction allows a solution to a large problem based on the solution of smaller problems\n",
    "- Some of the benefits of using procedures include...\n",
    "    - Gives the ability to alter the result without actually changing the calls to the program\n",
    "    - Allows us to break the code up and abstract what different parts of the code does (helps us identify/correct errors)\n",
    "    - Without procedures, we would have to look at all of the code line by line\n"
   ]
  },
  {
   "attachments": {},
   "cell_type": "markdown",
   "metadata": {},
   "source": [
    "## <mark>Challenge 1</mark> below: Add the command that will **call** the procedure. "
   ]
  },
  {
   "cell_type": "code",
   "execution_count": 16,
   "metadata": {},
   "outputs": [
    {
     "name": "stdout",
     "output_type": "stream",
     "text": [
      "00000111\n"
     ]
    }
   ],
   "source": [
    "decimal = 7\n",
    "\n",
    "def convertToBinary(n):\n",
    "    b = \"\"\n",
    "    while n > 0:\n",
    "        r = n % 2\n",
    "        b = str(r) + b\n",
    "        n = n // 2\n",
    "\n",
    "    # this adds 0s to the left\n",
    "    return b.zfill(8)\n",
    "\n",
    "\n",
    "print(convertToBinary(decimal))"
   ]
  },
  {
   "attachments": {},
   "cell_type": "markdown",
   "metadata": {},
   "source": [
    "In addition to the above code segment, I also created another segment in which the user can choose the number that they would like to convert into binary, which is shown below in Python:"
   ]
  },
  {
   "cell_type": "code",
   "execution_count": 17,
   "metadata": {},
   "outputs": [
    {
     "name": "stdout",
     "output_type": "stream",
     "text": [
      "User input:  672\n",
      "The number 672 in binary is 1010100000\n"
     ]
    }
   ],
   "source": [
    "\n",
    "def convertToBinary(n):\n",
    "    # b represents the binary number\n",
    "    b = \"\"\n",
    "\n",
    "    # n represents the decimal number that will be converted into the binary number\n",
    "    while n > 0:\n",
    "    \n",
    "    # r represents the remainder\n",
    "        r = n % 2\n",
    "        b = str(r) + b\n",
    "        n = n // 2\n",
    "    return b.zfill(8)\n",
    "\n",
    "n = int(input(\"What decimal number would you like to convert to binary?\"))\n",
    "print(\"User input: \", n)\n",
    "b = convertToBinary(n)\n",
    "print(\"The number {} in binary is {}\".format(n,b))"
   ]
  },
  {
   "attachments": {},
   "cell_type": "markdown",
   "metadata": {},
   "source": [
    "Challenge 2 below: Complete the Min and Max procedure in either JavaScript and Python using the instructions from the JavaScript page. (JavaScript will get you a extra 0.1)"
   ]
  },
  {
   "cell_type": "code",
   "execution_count": 6,
   "metadata": {},
   "outputs": [
    {
     "name": "stdout",
     "output_type": "stream",
     "text": [
      "43\n",
      "21\n"
     ]
    }
   ],
   "source": [
    "def findMax(numberA, numberB):\n",
    "    if numberA > numberB:\n",
    "        print(numberA)\n",
    "    else:\n",
    "        print(numberB)\n",
    "\n",
    "def findMin(numberA, numberB):\n",
    "    if numberA < numberB:\n",
    "        print(numberA)\n",
    "    else:\n",
    "        print(numberB)\n",
    "\n",
    "findMax(11, 43)  \n",
    "findMin(21, 910)  "
   ]
  },
  {
   "attachments": {},
   "cell_type": "markdown",
   "metadata": {},
   "source": [
    "# JavaScript Version\n",
    "Note: Whenever I try running the JavaScript version, I always get that there is a syntax error. I have thoroughly looked through my code to make sure that I did not miss anything and have looked up to see if anyone else has had this problem. Unfortunately, I have had no luck getting my code to work. Below is what I would have done if my JavaScript kernel was working properly:"
   ]
  },
  {
   "cell_type": "code",
   "execution_count": 7,
   "metadata": {
    "vscode": {
     "languageId": "javascript"
    }
   },
   "outputs": [
    {
     "ename": "SyntaxError",
     "evalue": "invalid syntax (74962076.py, line 1)",
     "output_type": "error",
     "traceback": [
      "\u001b[0;36m  Cell \u001b[0;32mIn[7], line 1\u001b[0;36m\u001b[0m\n\u001b[0;31m    function findMax(numberA, numberB) {\u001b[0m\n\u001b[0m             ^\u001b[0m\n\u001b[0;31mSyntaxError\u001b[0m\u001b[0;31m:\u001b[0m invalid syntax\n"
     ]
    }
   ],
   "source": [
    "function findMax(numberA, numberB) {\n",
    "    if (numberA > numberB) {\n",
    "      console.log(numberA);\n",
    "    } else {\n",
    "      console.log(numberB);\n",
    "    }\n",
    "  }\n",
    "  \n",
    "  function findMin(numberA, numberB) {\n",
    "    if (numberA < numberB) {\n",
    "      console.log(numberA);\n",
    "    } else {\n",
    "      console.log(numberB);\n",
    "    }\n",
    "  }\n",
    "  \n",
    "  // test the functions\n",
    "  findMax(381, 8488320);  \n",
    "  findMin(7, 1) "
   ]
  },
  {
   "attachments": {},
   "cell_type": "markdown",
   "metadata": {},
   "source": [
    "For the hw, you have two options, easy or hard. The easy hack is for a 2.7 + extra work for the full 3. The easy hack is simply creating your own procedure with your own creativity. Since there is a lot of leeway for this one, you must do additional work to get a 3. For the hard hack, below is the start to a character to binary convertor. This is just a template, but the goal is to translate \"APCSP\" into binary. You can delete the existing code if you want. The only contraint is that you must use a procedure. Doing this will get you a 3. "
   ]
  },
  {
   "cell_type": "code",
   "execution_count": 15,
   "metadata": {},
   "outputs": [
    {
     "name": "stdout",
     "output_type": "stream",
     "text": [
      "Enter a string of characters\n",
      "You entered APCSP\n",
      "APCSP in binary is 1000001 1010000 1000011 1010011 1010000 \n"
     ]
    }
   ],
   "source": [
    "def charToBinary(x):\n",
    "    binary_string = \"\"\n",
    "    for char in x:\n",
    "        binary_char = bin(ord(char))[2:]  # this is what converts the character to binary and also removes the \"0b\" prefix so that it doesn't show up in the output\n",
    "        binary_string += binary_char + \" \"\n",
    "    return binary_string\n",
    "\n",
    "\n",
    "# this allows the user to convert any set of strings into binary\n",
    "\n",
    "x = input(\"Enter a string of characters:\")\n",
    "print(\"Enter a string of characters\")\n",
    "print(\"You entered {}\".format(x))\n",
    "\n",
    "# converts the string to binary and prints the result\n",
    "binary_string = charToBinary(x)\n",
    "print(\"{} in binary is {}\".format(x, binary_string))\n"
   ]
  }
 ],
 "metadata": {
  "kernelspec": {
   "display_name": "Python 3.8.2 64-bit",
   "language": "python",
   "name": "python3"
  },
  "language_info": {
   "codemirror_mode": {
    "name": "ipython",
    "version": 3
   },
   "file_extension": ".py",
   "mimetype": "text/x-python",
   "name": "python",
   "nbconvert_exporter": "python",
   "pygments_lexer": "ipython3",
   "version": "3.10.6"
  },
  "orig_nbformat": 4,
  "vscode": {
   "interpreter": {
    "hash": "916dbcbb3f70747c44a77c7bcd40155683ae19c65e1c03b4aa3499c5328201f1"
   }
  }
 },
 "nbformat": 4,
 "nbformat_minor": 2
}

{
 "cells": [
  {
   "attachments": {},
   "cell_type": "markdown",
   "metadata": {},
   "source": [
    "#  Unit 2.3 Blog: Extracting Information from Data\n",
    "> \n",
    "- toc: true\n",
    "- image: /images/college-board-logo.png\n",
    "- categories: []\n",
    "- type: ap\n",
    "- week: 25"
   ]
  },
  {
   "attachments": {},
   "cell_type": "markdown",
   "metadata": {},
   "source": [
    "# Overview of this blog\n",
    "\n"
   ]
  },
  {
   "attachments": {},
   "cell_type": "markdown",
   "metadata": {},
   "source": [
    "# Early seed award"
   ]
  },
  {
   "attachments": {},
   "cell_type": "markdown",
   "metadata": {},
   "source": [
    "# Pandas Application (Two Data Sets)"
   ]
  },
  {
   "attachments": {},
   "cell_type": "markdown",
   "metadata": {},
   "source": [
    "## Ace Attorney Data Set "
   ]
  },
  {
   "cell_type": "code",
   "execution_count": 17,
   "metadata": {},
   "outputs": [],
   "source": [
    "'''Pandas is used to gather data sets through its DataFrames implementation'''\n",
    "import pandas as pd\n"
   ]
  },
  {
   "cell_type": "code",
   "execution_count": 18,
   "metadata": {},
   "outputs": [
    {
     "name": "stdout",
     "output_type": "stream",
     "text": [
      "                 name    sales\n",
      "0    Original Trilogy  1000000\n",
      "1      Ace Attorney 1   796000\n",
      "2      Apollo Justice   660000\n",
      "3      Ace Attorney 2   600000\n",
      "4      Ace Attorney 3   580000\n",
      "5          Chronicles   500000\n",
      "6      Dual Destinies   448000\n",
      "7       Investigation   400000\n",
      "8   Spirit of Justice   343000\n",
      "9    Investigations 2   275000\n",
      "10               DGS1   241000\n",
      "11               DGS2   149000\n"
     ]
    }
   ],
   "source": [
    "# reads the JSON file and converts it to a Pandas DataFrame\n",
    "df = pd.read_json('files/aceattorney.json')\n",
    "\n",
    "print(df)\n",
    "# What part of the data set needs to be cleaned?\n",
    "# From PBL learning, what is a good time to clean data?  Hint, remember Garbage in, Garbage out?"
   ]
  },
  {
   "cell_type": "code",
   "execution_count": 26,
   "metadata": {},
   "outputs": [
    {
     "name": "stdout",
     "output_type": "stream",
     "text": [
      "      sales\n",
      "0   1000000\n",
      "1    796000\n",
      "2    660000\n",
      "3    600000\n",
      "4    580000\n",
      "5    500000\n",
      "6    448000\n",
      "7    400000\n",
      "8    343000\n",
      "9    275000\n",
      "10   241000\n",
      "11   149000\n",
      "\n",
      "             name   sales\n",
      " Original Trilogy 1000000\n",
      "   Ace Attorney 1  796000\n",
      "   Apollo Justice  660000\n",
      "   Ace Attorney 2  600000\n",
      "   Ace Attorney 3  580000\n",
      "       Chronicles  500000\n",
      "   Dual Destinies  448000\n",
      "    Investigation  400000\n",
      "Spirit of Justice  343000\n",
      " Investigations 2  275000\n",
      "             DGS1  241000\n",
      "             DGS2  149000\n"
     ]
    }
   ],
   "source": [
    "#print the values in the points column with column header\n",
    "print(df[['sales']])\n",
    "\n",
    "print()\n",
    "\n",
    "#try two columns and remove the index from print statement\n",
    "print(df[['name','sales']].to_string(index=False))\n",
    "\n",
    "## index == False doesn't print out index values"
   ]
  },
  {
   "cell_type": "code",
   "execution_count": 27,
   "metadata": {},
   "outputs": [
    {
     "name": "stdout",
     "output_type": "stream",
     "text": [
      "               name    sales\n",
      "0  Original Trilogy  1000000\n",
      "\n",
      "    name   sales\n",
      "11  DGS2  149000\n"
     ]
    }
   ],
   "source": [
    "print(df[df.sales == df.sales.max()])\n",
    "print()\n",
    "print(df[df.sales == df.sales.min()])"
   ]
  },
  {
   "attachments": {},
   "cell_type": "markdown",
   "metadata": {},
   "source": [
    "## Planets of the Solar System Data Set"
   ]
  }
 ],
 "metadata": {
  "kernelspec": {
   "display_name": "base",
   "language": "python",
   "name": "python3"
  },
  "language_info": {
   "codemirror_mode": {
    "name": "ipython",
    "version": 3
   },
   "file_extension": ".py",
   "mimetype": "text/x-python",
   "name": "python",
   "nbconvert_exporter": "python",
   "pygments_lexer": "ipython3",
   "version": "3.9.12"
  },
  "orig_nbformat": 4
 },
 "nbformat": 4,
 "nbformat_minor": 2
}

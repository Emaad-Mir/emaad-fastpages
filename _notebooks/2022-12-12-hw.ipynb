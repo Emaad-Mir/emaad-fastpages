{
 "cells": [
  {
   "attachments": {},
   "cell_type": "markdown",
   "metadata": {},
   "source": [
    "# Unit 3 Lesson 16, Student Copy\n",
    "- toc: true\n",
    "- comments: true\n"
   ]
  },
  {
   "attachments": {},
   "cell_type": "markdown",
   "metadata": {},
   "source": [
    "### Hack #1 - Class Notes\n",
    "\n",
    "- What are simulations?\n",
    "    - Simulations are abstractions that mimic more complex objects or phenomena from the real world\n",
    "    - They can use a mathematical description or model of a real thing in the form of a computer program\n",
    "- What are the purposes/uses of simulations?\n",
    "    - Purposes include drawing inferences without the constraints of the real world\n",
    "        - Essentially, they allow us to study systems or other things that cannot be easily or safely done so in real life\n",
    "- Simulations use varying sets of values to reflect the changing state of a real phenomenon\n",
    "- When developing a simulation, it is often necessary to remove specific details or simplify aspects, for simulations can often contain bias based on which details or real-world elements were included/excluded\n",
    "- Simulations allow the formulation of hypotheses or theories under consideration\n",
    "- The variability, randomness, and overall complex nature of the role is considered in using random number generators\n",
    "- Examples of well-known simulations include rolling dice, spinners, molecular models, and analysis of chemicals/reactions"
   ]
  },
  {
   "attachments": {},
   "cell_type": "markdown",
   "metadata": {},
   "source": [
    "### Hack #2 - Functions Classwork"
   ]
  },
  {
   "attachments": {},
   "cell_type": "markdown",
   "metadata": {},
   "source": [
    "Below is my work that uses the randomization functions:"
   ]
  },
  {
   "cell_type": "code",
   "execution_count": 3,
   "metadata": {},
   "outputs": [
    {
     "name": "stdout",
     "output_type": "stream",
     "text": [
      "37\n"
     ]
    }
   ],
   "source": [
    "import random # imports the random library\n",
    "x = random.randint(1,100) # x is a random integer between 1 and 100 and a number within this range will be printed out\n",
    "print(x) # this prints out the random number chosen using the random functions that we can now used because of the import random at the top"
   ]
  },
  {
   "attachments": {},
   "cell_type": "markdown",
   "metadata": {},
   "source": [
    "I also allowed an option for user input so that the user can choose any random number between 1 and 100:"
   ]
  },
  {
   "cell_type": "code",
   "execution_count": 14,
   "metadata": {},
   "outputs": [
    {
     "name": "stdout",
     "output_type": "stream",
     "text": [
      "Invalid input. Please make sure the number is between 1 and 100:\n",
      "Attempted input:  493\n",
      "Number chosen:  44\n"
     ]
    }
   ],
   "source": [
    "while True: \n",
    "    # prompts for a number between 1 and 100\n",
    "    x = int(input('Please enter any number between 1 and 100:'))\n",
    "\n",
    "    # if the user types in a valid input, the number chosen will be printed\n",
    "    if x>=1 and x<=100:\n",
    "        print(\"Number chosen: \",x)\n",
    "        break\n",
    "    # If the user tries to input something that is not in the acceptable range, they will get this error and will be able to try again\n",
    "    else:\n",
    "        print(\"Invalid input. Please make sure the number is between 1 and 100:\")\n",
    "        print(\"Attempted input: \",x)"
   ]
  },
  {
   "attachments": {},
   "cell_type": "markdown",
   "metadata": {},
   "source": [
    "Here is my closet code that removes or adds a random item to the list of things:"
   ]
  },
  {
   "cell_type": "code",
   "execution_count": 20,
   "metadata": {},
   "outputs": [
    {
     "name": "stdout",
     "output_type": "stream",
     "text": [
      " black pants has been added to your closet!\n",
      " red shorts has been added to your closet!\n",
      " blue shoes has been added to your closet!\n",
      " green pants has been removed from your closet!\n",
      " belt has been removed from your closet!\n",
      "You chose to quit. You may always come back later to your closet to add or remove stuff!\n",
      "['red shoes', 'tie', 'black pants', 'red shorts', 'blue shoes']\n"
     ]
    }
   ],
   "source": [
    "\n",
    "def myCloset():\n",
    "    myclothes = [\"red shoes\", \"green pants\", \"tie\", \"belt\"]\n",
    "    \n",
    "    while True:\n",
    "        choice = input(\"Welcome to your closet! Do you want to add an item, remove an item, or quit? \") # prompts the user with a choice between adding or removing something from their closet or simply quitting\n",
    "        if choice == \"add\": # if the user wants to add something, they will be prompted to include the name of the item they want to add\n",
    "            new_item = input(\"Enter the name of the item you want to add: \")\n",
    "            print(\" {} has been added to your closet!\".format(new_item))\n",
    "            myclothes.append(new_item) # the item inputted by the user will then be added to the list as an item in myclothes\n",
    "        elif choice == \"remove\": # if the user chooses \"remove\", they will be asked to name the item they want to remove \n",
    "            item_to_remove = input(\"Enter the name of the item you want to remove: \")\n",
    "            print(\" {} has been removed from your closet!\".format(item_to_remove))\n",
    "            myclothes.remove(item_to_remove)\n",
    "        elif choice == \"quit\": # if the user chooses to quit, the code will exit and the final list myclothes will be returned\n",
    "            print(\"You chose to quit. You may always come back later to your closet to add or remove stuff!\")\n",
    "            break\n",
    "\n",
    "        else:\n",
    "            print(\"Invalid action. Please choose 'add', 'remove', or 'quit'.\") # if user tries to input something other than add, remove, or quit, they will be prompted with this message\n",
    "    return myclothes\n",
    "\n",
    "print(myCloset())\n"
   ]
  },
  {
   "cell_type": "markdown",
   "metadata": {},
   "source": [
    "### Hack #3 - Binary Simulation Problem"
   ]
  },
  {
   "cell_type": "code",
   "execution_count": 27,
   "metadata": {},
   "outputs": [
    {
     "name": "stdout",
     "output_type": "stream",
     "text": [
      "Survivors:\n",
      "Emaad\n",
      "Eyaad\n",
      "Emaan\n",
      "Karen\n",
      "Zombies:\n",
      "Zeyaan\n",
      "Azaan\n",
      "Messi\n",
      "Josh Allen\n"
     ]
    }
   ],
   "source": [
    "import random\n",
    "\n",
    "def randomnum():\n",
    "    return random.randint(0, 255) # generate a random number between 0 and 255\n",
    "\n",
    "def converttobin(n):\n",
    "    return bin(n)[2:] # convert the number to binary and return the string, with the \"0b\" prefix removed\n",
    "\n",
    "def survivors(binary):\n",
    "    people = [\"Emaad\", \"Eyaad\", \"Zeyaan\", \"Emaan\" , \"Azaan\", \"Messi\", \"Josh Allen\", \"Karen\"]\n",
    "    survivors = []\n",
    "    zombies = []\n",
    "    for i in range(len(binary)):\n",
    "        if binary[i] == \"1\": # if the character is \"1\", then that person is a survivor\n",
    "            survivors.append(people[i]) # this person is added to the survivors list\n",
    "        else: # otherwise, the person has turned into a zombie\n",
    "            zombies.append(people[i]) # this person will be added to the zombies list\n",
    "    return survivors, zombies\n",
    "\n",
    "# generates a random number\n",
    "n = randomnum()\n",
    "\n",
    "# converts the number to binary\n",
    "binary = converttobin(n)\n",
    "\n",
    "# determines the survivors and zombies\n",
    "survivors, zombies = survivors(binary)\n",
    "\n",
    "# print the result\n",
    "print(\"Survivors:\") # prints list of survivors\n",
    "for survivor in survivors:\n",
    "    print(survivor)\n",
    "\n",
    "print(\"Zombies:\") # prints list of zombies\n",
    "for zombie in zombies:\n",
    "    print(zombie)\n"
   ]
  },
  {
   "cell_type": "markdown",
   "metadata": {},
   "source": [
    "### Hack #4 - Thinking through a problem\n",
    "- create your own simulation involving a dice roll\n",
    "- should include randomization and a function for rolling + multiple trials"
   ]
  },
  {
   "cell_type": "code",
   "execution_count": 28,
   "metadata": {},
   "outputs": [
    {
     "name": "stdout",
     "output_type": "stream",
     "text": [
      "You rolled a(n) 8\n",
      "You rolled a(n) 1\n",
      "You rolled a(n) 1\n",
      "You rolled a(n) 6\n",
      "You rolled a(n) 3\n",
      "You rolled a(n) 5\n",
      "You rolled a(n) 1\n",
      "You rolled a(n) 3\n",
      "You rolled a(n) 19\n",
      "You rolled a(n) 8\n"
     ]
    }
   ],
   "source": [
    "import random\n",
    "\n",
    "def roll():\n",
    "    return random.randint(1, 20) # generates a random number between 1 and 20, stimulates a 20 sided dice\n",
    "\n",
    "# this rolls the dice ten times\n",
    "for i in range(10):\n",
    "    result = roll()\n",
    "    print(\"You rolled a(n) {}\".format(result))"
   ]
  },
  {
   "attachments": {},
   "cell_type": "markdown",
   "metadata": {},
   "source": [
    "### Hack 5 - Applying your knowledge to situation based problems\n",
    "\n",
    "Using the questions bank below, create a quiz that presents the user a random question and calculates the user's score. You can use the template below or make your own. Making your own using a loop can give you extra points. "
   ]
  },
  {
   "attachments": {},
   "cell_type": "markdown",
   "metadata": {},
   "source": [
    "1. A researcher gathers data about the effect of Advanced Placement®︎ classes on students' success in college and career, and develops a simulation to show how a sequence of AP classes affect a hypothetical student's pathway.Several school administrators are concerned that the simulation contains bias favoring high-income students, however.\n",
    "    - answer options:\n",
    "        1. The simulation is an abstraction and therefore cannot contain any bias\n",
    "        2. The simulation may accidentally contain bias due to the exclusion of details.\n",
    "        3. If the simulation is found to contain bias, then it is not possible to remove the bias from the simulation.\n",
    "        4. The only way for the simulation to be biased is if the researcher intentionally used data that favored their desired output.\n",
    "2. Jack is trying to plan his financial future using an online tool. The tool starts off by asking him to input details about his current finances and career. It then lets him choose different future scenarios, such as having children. For each scenario chosen, the tool does some calculations and outputs his projected savings at the ages of 35, 45, and 55.Would that be considered a simulation and why?\n",
    "    - answer options\n",
    "        1. No, it's not a simulation because it does not include a visualization of the results.\n",
    "        2. No, it's not a simulation because it does not include all the details of his life history and the future financial environment.\n",
    "        3. Yes, it's a simulation because it runs on a computer and includes both user input and computed output.\n",
    "        4. Yes, it's a simulation because it is an abstraction of a real world scenario that enables the drawing of inferences.\n",
    "3. Sylvia is an industrial engineer working for a sporting goods company. She is developing a baseball bat that can hit balls with higher accuracy and asks their software engineering team to develop a simulation to verify the design.Which of the following details is most important to include in this simulation?\n",
    "    - answer options\n",
    "        1. Realistic sound effects based on the material of the baseball bat and the velocity of the hit\n",
    "        2. A depiction of an audience in the stands with lifelike behavior in response to hit accuracy\n",
    "        3. Accurate accounting for the effects of wind conditions on the movement of the ball\n",
    "        4. A baseball field that is textured to differentiate between the grass and the dirt\n",
    "4. Ashlynn is an industrial engineer who is trying to design a safer parachute. She creates a computer simulation of the parachute opening at different heights and in different environmental conditions.What are advantages of running the simulation versus an actual experiment?\n",
    "    - answer options\n",
    "        1. The simulation will not contain any bias that favors one body type over another, while an experiment will be biased.\n",
    "        2. The simulation can be run more safely than an actual experiment\n",
    "        3. The simulation will accurately predict the parachute's safety level, while an experiment may be inaccurate due to faulty experimental design.\n",
    "        4. The simulation can test the parachute design in a wide range of environmental conditions that may be difficult to reliably reproduce in an experiment.\n",
    "    * this question has 2 correct answers\n",
    "5. YOUR OWN QUESTION; can be situational, pseudo code based, or vocab/concept based\n",
    "6. YOUR OWN QUESTION; can be situational, pseudo code based, or vocab/concept based"
   ]
  },
  {
   "cell_type": "code",
   "execution_count": 29,
   "metadata": {},
   "outputs": [
    {
     "name": "stdout",
     "output_type": "stream",
     "text": [
      "Question: A researcher gathers data about the effect of Advanced Placement®︎ classes on students' success in college and career, and develops a simulation to show how a sequence of AP classes affect a hypothetical student's pathway.Several school administrators are concerned that the simulation contains bias favoring high-income students, however. \n",
      "(1) The simulation is an abstraction and therefore cannot contain any bias\n",
      " (2) The simulation may accidentally contain bias due to the exclusion of details\n",
      " (3) If the simulation is found to contain bias, then it is not possible to remove the bias from the simulation\n",
      " (4) The only way for the simulation to be biased is if the researcher intentionally used data that favored their desired output\n",
      "2 is correct! Yay!\n",
      "Question: Jack is trying to plan his financial future using an online tool. The tool starts off by asking him to input details about his current finances and career. It then lets him choose different future scenarios, such as having children. For each scenario chosen, the tool does some calculations and outputs his projected savings at the ages of 35, 45, and 55.Would that be considered a simulation and why?\n",
      " (1) No, it's not a simulation because it does not include a visualization of the results.\n",
      " (2) No, it's not a simulation because it does not include all the details of his life history and the future financial environment\n",
      " (3) Yes, it's a simulation because it runs on a computer and includes both user input and computed output.\n",
      " (4) Yes, it's a simulation because it is an abstraction of a real world scenario that enables the drawing of inferences.\n",
      "3 is correct! Yay!\n",
      "Question: Sylvia is an industrial engineer working for a sporting goods company. She is developing a baseball bat that can hit balls with higher accuracy and asks their software engineering team to develop a simulation to verify the design.Which of the following details is most important to include in this simulation?\n",
      " (1) Realistic sound effects based on the material of the baseball bat and the velocity of the hit\n",
      " (2) A depiction of an audience in the stands with lifelike behavior in response to hit accuracy\n",
      " (3) Accurate accounting for the effects of wind conditions on the movement of the ball\n",
      " (4) A baseball field that is textured to differentiate between the grass and the dirt\n",
      "3 is correct! Yay!\n",
      "Question: Ashlynn is an industrial engineer who is trying to design a safer parachute. She creates a computer simulation of the parachute opening at different heights and in different environmental conditions.What are advantages of running the simulation versus an actual experiment?\n",
      " (1) The simulation will not contain any bias that favors one body type over another, while an experiment will be biased\n",
      " (2) The simulation can be run more safely than an actual experiment\n",
      " (3) The simulation will accurately predict the parachute's safety level, while an experiment may be inaccurate due to faulty experimental design\n",
      " (4) The simulation can't test the parachute design in a wide range of environmental conditions that may be difficult to reliably reproduce in an experiment\n",
      "2 is correct! Yay!\n",
      "Question: What command is used to include other functions that were previously developed?\n",
      " (1) os\n",
      " (2) import\n",
      " (3) random\n",
      " (4) append\n",
      "1 is incorrect! Sorry!\n",
      "Question: How are simulations useful to us?\n",
      " (1) They allow us to study things that cannot be easily studied in real life\n",
      " (2) They give us a good model of what would happen if a certain thing were to occur\n",
      " (3) 1 and 2 are correct\n",
      " (4) Simulations can't be considered useful since they are not actually related to real life\n",
      "3 is correct! Yay!\n",
      "You scored 5/6, which is 83.33333333333334%\n"
     ]
    }
   ],
   "source": [
    "import random\n",
    "\n",
    "def question_and_answer(prompt):\n",
    "    print(\"Question:\" +prompt)\n",
    "    msg = input(\"Question:\" +prompt)\n",
    "    print(\"Answer:\" +msg)\n",
    "## defines the format of how the question will be asked\n",
    "def question_with_response(prompt):\n",
    "    print(\"Question: \" + prompt)\n",
    "    msg = input(\"Question: \" + prompt)\n",
    "    return msg\n",
    "\n",
    "questions_list = [\"A researcher gathers data about the effect of Advanced Placement®︎ classes on students' success in college and career, and develops a simulation to show how a sequence of AP classes affect a hypothetical student's pathway.Several school administrators are concerned that the simulation contains bias favoring high-income students, however. \\n(1) The simulation is an abstraction and therefore cannot contain any bias\\n (2) The simulation may accidentally contain bias due to the exclusion of details\\n (3) If the simulation is found to contain bias, then it is not possible to remove the bias from the simulation\\n (4) The only way for the simulation to be biased is if the researcher intentionally used data that favored their desired output\",\n",
    "    \"Jack is trying to plan his financial future using an online tool. The tool starts off by asking him to input details about his current finances and career. It then lets him choose different future scenarios, such as having children. For each scenario chosen, the tool does some calculations and outputs his projected savings at the ages of 35, 45, and 55.Would that be considered a simulation and why?\\n (1) No, it's not a simulation because it does not include a visualization of the results.\\n (2) No, it's not a simulation because it does not include all the details of his life history and the future financial environment\\n (3) Yes, it's a simulation because it runs on a computer and includes both user input and computed output.\\n (4) Yes, it's a simulation because it is an abstraction of a real world scenario that enables the drawing of inferences.\",\n",
    "    \"Sylvia is an industrial engineer working for a sporting goods company. She is developing a baseball bat that can hit balls with higher accuracy and asks their software engineering team to develop a simulation to verify the design.Which of the following details is most important to include in this simulation?\\n (1) Realistic sound effects based on the material of the baseball bat and the velocity of the hit\\n (2) A depiction of an audience in the stands with lifelike behavior in response to hit accuracy\\n (3) Accurate accounting for the effects of wind conditions on the movement of the ball\\n (4) A baseball field that is textured to differentiate between the grass and the dirt\",\n",
    "    \"Ashlynn is an industrial engineer who is trying to design a safer parachute. She creates a computer simulation of the parachute opening at different heights and in different environmental conditions.What are advantages of running the simulation versus an actual experiment?\\n (1) The simulation will not contain any bias that favors one body type over another, while an experiment will be biased\\n (2) The simulation can be run more safely than an actual experiment\\n (3) The simulation will accurately predict the parachute's safety level, while an experiment may be inaccurate due to faulty experimental design\\n (4) The simulation can't test the parachute design in a wide range of environmental conditions that may be difficult to reliably reproduce in an experiment\",\n",
    "    \"What command is used to include other functions that were previously developed?\\n (1) os\\n (2) import\\n (3) random\\n (4) append\",\n",
    "    \"How are simulations useful to us?\\n (1) They allow us to study things that cannot be easily studied in real life\\n (2) They give us a good model of what would happen if a certain thing were to occur\\n (3) 1 and 2 are correct\\n (4) Simulations can't be considered useful since they are not actually related to real life\"\n",
    "            ]       \n",
    "\n",
    "answers_list = [\n",
    "    \"2\",\n",
    "    \"3\",\n",
    "    \"3\",\n",
    "    \"2\",\n",
    "    \"2\",\n",
    "    \"3\"\n",
    "]\n",
    "\n",
    "questions = len(questions_list)\n",
    "correct = 0\n",
    "\n",
    "for i in range(len(questions_list)):\n",
    "        user_response = question_with_response(questions_list[i])\n",
    "        if user_response == answers_list[i]:\n",
    "            print(user_response + \" is correct! Yay!\")\n",
    "            correct += 1\n",
    "## If the answer the user inputted doesn't match any of the answers on the list (again depending on question), they will get a message saying they are wrong.\n",
    "        else:\n",
    "            print(user_response + \" is incorrect! Sorry!\")\n",
    "\n",
    "## After completing the quiz, the user will get their score out of 6 and the percentage\n",
    "print(\"You scored \" + str(correct) +\"/\" + str(questions) + \", which is \" + str((correct / questions) * 100) + \"%\")\n",
    "\n"
   ]
  },
  {
   "attachments": {},
   "cell_type": "markdown",
   "metadata": {},
   "source": [
    "### Hack #6 / Challenge - Taking real life problems and implementing them into code"
   ]
  },
  {
   "attachments": {},
   "cell_type": "markdown",
   "metadata": {},
   "source": [
    "Create your own simulation based on your experiences/knowledge!\n",
    "Be creative! Think about instances in your own life, science, puzzles that can be made into simulations\n",
    "\n",
    "Some ideas to get your brain running: A simulation that breeds two plants and tells you phenotypes of offspring, an adventure simulation..."
   ]
  },
  {
   "attachments": {},
   "cell_type": "markdown",
   "metadata": {},
   "source": [
    "For this hack, I chose to write code that allows a user to input two colors and shows them what color they make when mixed."
   ]
  },
  {
   "cell_type": "code",
   "execution_count": 38,
   "metadata": {},
   "outputs": [
    {
     "name": "stdout",
     "output_type": "stream",
     "text": [
      "Color entered:  red\n",
      "Color entered:  white\n",
      "When mixed, red and white make pink\n"
     ]
    }
   ],
   "source": [
    "def mix_colors(color1, color2):\n",
    "    # define a dictionary that shows mixtures of two colors and their resulting color\n",
    "    color_mixtures = {\n",
    "        (\"red\", \"white\"): \"pink\",\n",
    "        (\"red\", \"blue\"): \"purple\",\n",
    "        (\"black\", \"white\"): \"gray\",\n",
    "        (\"red\", \"green\"): \"yellow\",\n",
    "        (\"red\", \"yellow\"): \"orange\",\n",
    "        (\"magenta\", \"yellow\"): \"red\"\n",
    "    }\n",
    "\n",
    "    # this makes it so that the inputs are not case sensitive \n",
    "\n",
    "    color1 = color1.lower()\n",
    "    color2 = color2.lower()\n",
    "\n",
    "    # check if the color pair exists in the dictionary\n",
    "    if (color1, color2) in color_mixtures:\n",
    "        return color_mixtures[(color1, color2)] # return the resulting color\n",
    "\n",
    "        # this makes it so that the order in which the user enters the colors does not matter\n",
    "    elif (color2, color1) in color_mixtures:\n",
    "        return color_mixtures[(color2, color1)] # return the resulting color\n",
    "    else:\n",
    "        return \"unknown\" # if the color pair inputted by the user is not found in the dictionary, return \"unknown\"\n",
    "\n",
    "# accept user input for the two colors\n",
    "color1 = input(\"Enter the first color: \")\n",
    "print(\"Color entered: \",color1)\n",
    "color2 = input(\"Enter the second color: \")\n",
    "print(\"Color entered: \",color2)\n",
    "\n",
    "# mixes the colors and prints the result\n",
    "result = mix_colors(color1, color2)\n",
    "print(\"When mixed, {} and {} make {}\".format(color1,color2,result))"
   ]
  },
  {
   "attachments": {},
   "cell_type": "markdown",
   "metadata": {},
   "source": [
    "I also made a version of this code in which it randomly selects a color pair from the dictionary and tells us what colors the pair make when mixed:"
   ]
  },
  {
   "cell_type": "code",
   "execution_count": 48,
   "metadata": {},
   "outputs": [
    {
     "name": "stdout",
     "output_type": "stream",
     "text": [
      "When mixed, black and  white make gray\n"
     ]
    }
   ],
   "source": [
    "import random\n",
    "\n",
    "# dictionary that shows results of various color mixtures\n",
    "color_mixtures = {\n",
    "    \"red, white\": \"pink\",\n",
    "    \"red, blue\": \"purple\",\n",
    "    \"black, white\": \"gray\",\n",
    "    \"red, green\": \"yellow\",\n",
    "    \"red, yellow\": \"orange\",\n",
    "    \"magenta, yellow\": \"red\"\n",
    "}\n",
    "\n",
    "# chooses a random color mixture from the dictionary above\n",
    "color_mixture = random.choice(list(color_mixtures.keys()))\n",
    "\n",
    "# Split the color pair string on the comma character\n",
    "colors = color_mixture.split(\",\")\n",
    "\n",
    "# Join the resulting list of colors with \"and\" \n",
    "colors_str = \" and \".join(colors)\n",
    "\n",
    "# Uses the dictionary above to determine the resulting color when the two colors are mixed\n",
    "resulting_color = color_mixtures[color_mixture]\n",
    "\n",
    "# Prints the two colors and the result when mixed\n",
    "print(\"When mixed, {} make {}\".format(colors_str, resulting_color))\n"
   ]
  }
 ],
 "metadata": {
  "kernelspec": {
   "display_name": "Python 3",
   "language": "python",
   "name": "python3"
  },
  "language_info": {
   "codemirror_mode": {
    "name": "ipython",
    "version": 3
   },
   "file_extension": ".py",
   "mimetype": "text/x-python",
   "name": "python",
   "nbconvert_exporter": "python",
   "pygments_lexer": "ipython3",
   "version": "3.10.6"
  },
  "orig_nbformat": 4,
  "vscode": {
   "interpreter": {
    "hash": "916dbcbb3f70747c44a77c7bcd40155683ae19c65e1c03b4aa3499c5328201f1"
   }
  }
 },
 "nbformat": 4,
 "nbformat_minor": 2
}

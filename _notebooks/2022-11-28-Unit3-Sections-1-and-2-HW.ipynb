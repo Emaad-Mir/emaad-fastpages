{
 "cells": [
  {
   "cell_type": "code",
   "execution_count": 2,
   "metadata": {},
   "outputs": [
    {
     "name": "stdout",
     "output_type": "stream",
     "text": [
      "2 4\n",
      "4 308\n",
      "6 5\n",
      "9 306\n"
     ]
    }
   ],
   "source": [
    "data = [104, 101, 4, 105, 308, 103, 5, 107,\n",
    "        100, 306, 106, 102, 108]    # list of the different numerical values\n",
    "min_valid = 100  # minimum value\n",
    "max_valid = 200  # maximum value\n",
    "\n",
    "for i in range(len(data)):\n",
    "    if data[i]<min_valid or data[i]>max_valid:\n",
    "        print(i,data[i])"
   ]
  },
  {
   "cell_type": "code",
   "execution_count": 4,
   "metadata": {},
   "outputs": [
    {
     "name": "stdout",
     "output_type": "stream",
     "text": [
      "Playing  2\n"
     ]
    }
   ],
   "source": [
    "albums = [\n",
    "    (\"Welcome to my Nightmare\", \"Alice Cooper\", 1975,   # First album list\n",
    "     [\n",
    "         (1, \"Welcome to my Nightmare\"),\n",
    "         (2, \"Devil's Food\"),\n",
    "         (3, \"The Black Widow\"),\n",
    "         (4, \"Some Folks\"),\n",
    "         (5, \"Only Women Bleed\"),\n",
    "     ]\n",
    "     ),\n",
    "    (\"Bad Company\", \"Bad Company\", 1974,   # Second album list\n",
    "     [\n",
    "         (1, \"Can't Get Enough\"),\n",
    "         (2, \"Rock Steady\"),\n",
    "         (3, \"Ready for Love\"),\n",
    "         (4, \"Don't Let Me Down\"),\n",
    "         (5, \"Bad Company\"),\n",
    "         (6, \"The Way I Choose\"),\n",
    "         (7, \"Movin' On\"),\n",
    "         (8, \"Seagull\"),\n",
    "     ]\n",
    "     ),\n",
    "    (\"Nightflight\", \"Budgie\", 1981,\n",
    "     [\n",
    "         (1, \"I Turned to Stone\"),\n",
    "         (2, \"Keeping a Rendezvous\"),\n",
    "         (3, \"Reaper of the Glory\"),\n",
    "         (4, \"She Used Me Up\"),\n",
    "     ]\n",
    "     ),\n",
    "    (\"More Mayhem\", \"Imelda May\", 2011,\n",
    "     [\n",
    "         (1, \"Pulling the Rug\"),\n",
    "         (2, \"Psycho\"),\n",
    "         (3, \"Mayhem\"),\n",
    "         (4, \"Kentish Town Waltz\"),\n",
    "     ]\n",
    "     ),\n",
    "]\n",
    "\n",
    "album_choice = int(input(\"What album would you like to play? [1] Welcome to my Nightmare [2] Bad Company [3] Nightflight [4] More Mayhem \\n\"))\n",
    "\n",
    "if album_choice == albums[1]:\n",
    "    song_choice = int(input(\"What song from Welcome to My Nightmare would you like to play? [1] Welcome to my Nightmare [2] Devil's Food [3] The Black Widow [4] Some Folks [5] Only Women Bleed\\n\"))\n",
    "    for song_choice in len(albums[1]):\n",
    "        print(\"Playing \", song_choice)\n",
    "    print(\"Playing \",song_choice)\n",
    "if album_choice == albums[2]:\n",
    "    song_choice = int(input(\"What song from Bad Company would you like to play? [1] Welcome to my Nightmare [2] Devil's Food [3] The Black Widow [4] Some Folks [5] Only Women Bleed\\n\"))\n",
    "    \n",
    "if album_choice == albums[3]:\n",
    "    song_choice = int(input(\"What song from Nightflight would you like to play? [1] Welcome to my Nightmare [2] Devil's Food [3] The Black Widow [4] Some Folks [5] Only Women Bleed\\n\"))\n",
    "    \n",
    "if album_choice == albums[4]:\n",
    "    song_choice = int(input(\"What song from More Mayhem would you like to play? [1] Welcome to my Nightmare [2] Devil's Food [3] The Black Widow [4] Some Folks [5] Only Women Bleed\\n\"))\n",
    "    \n"
   ]
  }
 ],
 "metadata": {
  "kernelspec": {
   "display_name": "Python 3.10.6 64-bit",
   "language": "python",
   "name": "python3"
  },
  "language_info": {
   "codemirror_mode": {
    "name": "ipython",
    "version": 3
   },
   "file_extension": ".py",
   "mimetype": "text/x-python",
   "name": "python",
   "nbconvert_exporter": "python",
   "pygments_lexer": "ipython3",
   "version": "3.10.6"
  },
  "orig_nbformat": 4,
  "vscode": {
   "interpreter": {
    "hash": "916dbcbb3f70747c44a77c7bcd40155683ae19c65e1c03b4aa3499c5328201f1"
   }
  }
 },
 "nbformat": 4,
 "nbformat_minor": 2
}

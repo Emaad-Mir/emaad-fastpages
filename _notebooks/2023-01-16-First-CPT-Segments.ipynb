{
 "cells": [
  {
   "attachments": {},
   "cell_type": "markdown",
   "metadata": {},
   "source": [
    "# First CPT Code Segments\n",
    "> This blog shows the first few coding segments/samples of our CPT Project. \n",
    "\n",
    "- title: First CPT Code Segments\n",
    "- toc: true\n",
    "- categories: []\n",
    "- image: /images/python.png\n",
    "- type: pbl\n",
    "- week: 18"
   ]
  },
  {
   "attachments": {},
   "cell_type": "markdown",
   "metadata": {},
   "source": [
    "# Sample Code Segment"
   ]
  },
  {
   "cell_type": "code",
   "execution_count": 2,
   "metadata": {},
   "outputs": [
    {
     "name": "stdout",
     "output_type": "stream",
     "text": [
      "Your current collection: ['obsidian', 'thunder eggs']\n",
      "Full list of things to collect: ['thunder eggs', 'obsidian', 'geodes', 'granite', 'conglomerate']\n"
     ]
    }
   ],
   "source": [
    "# Full list of\n",
    "full_rocks_list = [\"thunder eggs\", \"obsidian\", \"geodes\", \"granite\", \"conglomerate\"]\n",
    "\n",
    "# This asks the user to input a list of things that they already have\n",
    "user_rock_list_collection = input(\"Enter a list of rocks you already have, separated by commas: \").split(\", \")\n",
    "\n",
    "# The computer outputs both the full collection list and the list of things the user already has\n",
    "print(\"Your current collection:\", user_rock_list_collection)\n",
    "print(\"Full list of things to collect:\", full_rocks_list)\n"
   ]
  },
  {
   "attachments": {},
   "cell_type": "markdown",
   "metadata": {},
   "source": [
    "# What is This?\n",
    "\n",
    "The above code segment is simply a rough model for what we want our collection program to do. Both the user list and full list are printed out so that the user knows exactly what they need to collect next. Another possibility for this specific code segment is to add images so that the user can tell what each rock looks like as they go out looking for it. "
   ]
  }
 ],
 "metadata": {
  "kernelspec": {
   "display_name": "base",
   "language": "python",
   "name": "python3"
  },
  "language_info": {
   "codemirror_mode": {
    "name": "ipython",
    "version": 3
   },
   "file_extension": ".py",
   "mimetype": "text/x-python",
   "name": "python",
   "nbconvert_exporter": "python",
   "pygments_lexer": "ipython3",
   "version": "3.9.12"
  },
  "orig_nbformat": 4,
  "vscode": {
   "interpreter": {
    "hash": "587533099b5009788de4a0593b95c08fb364312472080bddc5e3384b713a9fde"
   }
  }
 },
 "nbformat": 4,
 "nbformat_minor": 2
}

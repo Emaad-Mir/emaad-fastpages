{
 "cells": [
  {
   "cell_type": "markdown",
   "metadata": {},
   "source": [
    "# 3.8 and 3.10 Lesson and Notes\n",
    "> Here is what we learned from lessons 3.8 and 3.10 as well as the homework and challenges we were assigned to do. \n",
    "\n",
    "- badges: true\n",
    "- comments: true\n",
    "- image: /images/python_image.jpg\n",
    "- categories: [jupyter,python,week1hacks]"
   ]
  },
  {
   "cell_type": "markdown",
   "metadata": {},
   "source": [
    "# Lists and Iteration Homework and Challenges\n",
    "> Try to complete this to show understanding! Copy this into your notebook so you can also take notes as we lecture. Make a copy of this notebook to your own repository to take notes, do the class challenges, and to access the homework.\n",
    "- title: Lists and Iteration Homework\n",
    "- toc: true\n",
    "- permalink: /homework/"
   ]
  },
  {
   "cell_type": "markdown",
   "metadata": {},
   "source": [
    "## Overview and Notes:  3.10 - Lists\n",
    "- Make sure you complete the challenge in the challenges section while we present the lesson! \n",
    "\n",
    "Add your <mark>OWN</mark> Notes for 3.10 here: \n",
    "\n",
    "# Lists\n",
    "- Lists are collections of data\n",
    "- Can be used to store unlimited amounts of data\n",
    "- Lists are a good way to organize and collect data in a program, as they allow a set of potentially very different items to be found within one object\n",
    "- Using functions like append(), pop(), and insert(), you can add new things to a list or remove them.\n",
    "\n",
    "Fill out the empty boxes: \n",
    "\n",
    "|   Pseudocode Operation  | Python Syntax |                                                           Description                                                          |\n",
    "|:-----------------------:|---------------|:------------------------------------------------------------------------------------------------------------------------------:|\n",
    "|         aList[i]        |       aList[i]        | _Accesses the element of aList at index i_                                                                                     |\n",
    "|       x ← aList[i]      |       x = aList(i)        | _Assigns the element of aList at index i <br>to a variable 'x'_                                                                |\n",
    "|       aList[i] ←  x   |      aList(i) = x         | _Assigns the value of a variable 'x' to <br>the element of a List at index i_                                                  |\n",
    "|   aList[i] ← aList[j]   |       aList[i] = aList[j]       | _Assigns value of aList[j] to aList[i]_                                                                                        |\n",
    "| INSERT(aList, i, value) |       aList.insert(i, value)        | _value is placed at index i in aList. Any <br>element at an index greater than i will shift<br>one position to the right. _    |\n",
    "|   APPEND(aList, value)  |      aList.append(value)         | value is added as an element to the end of aList and length of aList is increased by 1                                    |\n",
    "|     REMOVE(aList, i)   |      aList.pop(i)<br>OR<br>aList.remove(value)         | _Removes item at index i and any values at <br>indices greater than i shift to the left. <br>Length of aList decreased by 1. _ |\n"
   ]
  },
  {
   "cell_type": "markdown",
   "metadata": {},
   "source": [
    "## Overview and Notes:  3.8 - Iteration\n",
    "\n",
    "# Iteration\n",
    "- Iteration is the repetition of a function \n",
    "- Allowing a function to repeat on its own based on various conditions can vastly optimize a program\n",
    "- Iteration is most often done with loops, typically in combination with lists and/or dictionaries.\n",
    "- There are multiple types of loops, and while most types can, in some way, do the same thing as other types, some things are simpler to do with certain loops than others.\n",
    "- Iteration and loops go together like bread and butter.\n",
    "\n",
    "\n"
   ]
  },
  {
   "cell_type": "markdown",
   "metadata": {},
   "source": [
    "## Homework Assignment\n",
    "\n",
    "Instead of us making a quiz for you to take, we would like YOU to make a quiz about the material we reviewed.\n",
    "\n",
    "We would like you to <mark>input questions into a list</mark>, and use some sort of iterative system to print the questions, detect an input, and determine if you answered correctly. There should be *at least* <mark>five questions</mark>, each with *at least* <mark>three possible answers</mark>.\n",
    "\n",
    "You may use the template below as a framework for this assignment."
   ]
  },
  {
   "cell_type": "code",
   "execution_count": 5,
   "metadata": {},
   "outputs": [
    {
     "name": "stdout",
     "output_type": "stream",
     "text": [
      "Question: What is the purpose of lists in code?\n",
      "1. To store multiple variables in one variable\n",
      "2. To store and organize unlimited amounts of data\n",
      "3. Lists don't do an efficient job of managing complexity\n",
      "1 is incorrect! Sorry!\n",
      "Question: What operation is used to add something as an element to the end of a list?\n",
      "1. pop(i, value)\n",
      "2. insert(i, value)\n",
      "3. append(i,value)\n",
      "3 is correct! Yay!\n",
      "Question: Why is iteration useful when it comes to coding?\n",
      "1. It makes written code look more professional\n",
      "2. It doesn't force you to copy and paste the same lines of code many times\n",
      "3. Both of these answers\n",
      "3 is correct! Yay!\n",
      "Question: What operation is used to remove something from a list?\n",
      "1. pop(i,value)\n",
      "2. insert(i, value)\n",
      "3. Either of these operations work\n",
      "2 is incorrect! Sorry!\n",
      "Question: Iteration and loops go together like what?\n",
      "1. Oil and water\n",
      "2. Bread and butter\n",
      "3. Vinegar and baking soda\n",
      "2 is correct! Yay!\n",
      "You scored 3/5, which is 60.0%\n"
     ]
    }
   ],
   "source": [
    "import random\n",
    "\n",
    "def question_and_answer(prompt):\n",
    "    print(\"Question:\" +prompt)\n",
    "    msg = input(\"Question:\" +prompt)\n",
    "    print(\"Answer:\" +msg)\n",
    "## defines the format of how the question will be asked\n",
    "def question_with_response(prompt):\n",
    "    print(\"Question: \" + prompt)\n",
    "    msg = input(\"Question: \" + prompt)\n",
    "    return msg\n",
    "\n",
    "questions_list = [\"What is the purpose of lists in code?\\n1. To store multiple variables in one variable\\n2. To store and organize unlimited amounts of data\\n3. Lists don't do an efficient job of managing complexity\", \n",
    "             \"What operation is used to add something as an element to the end of a list?\\n1. pop(i, value)\\n2. insert(i, value)\\n3. append(i,value)\",\n",
    "             \"Why is iteration useful when it comes to coding?\\n1. It makes written code look more professional\\n2. It doesn't force you to copy and paste the same lines of code many times\\n3. Both of these answers\",\n",
    "             \"What operation is used to remove something from a list?\\n1. pop(i,value)\\n2. insert(i, value)\\n3. Either of these operations work\",\n",
    "             \"Iteration and loops go together like what?\\n1. Oil and water\\n2. Bread and butter\\n3. Vinegar and baking soda\"\n",
    "            ]       \n",
    "\n",
    "answers_list = [\n",
    "    \"2\",\n",
    "    \"3\",\n",
    "    \"3\",\n",
    "    \"1\",\n",
    "    \"2\"\n",
    "]\n",
    "\n",
    "questions = len(questions_list)\n",
    "correct = 0\n",
    "\n",
    "for i in range(len(questions_list)):\n",
    "        user_response = question_with_response(questions_list[i])\n",
    "        if user_response == answers_list[i]:\n",
    "            print(user_response + \" is correct! Yay!\")\n",
    "            correct += 1\n",
    "## If the answer the user inputted doesn't match any of the answers on the list (again depending on question), they will get a message saying they are wrong.\n",
    "        else:\n",
    "            print(user_response + \" is incorrect! Sorry!\")\n",
    "\n",
    "## After completing the quiz, the user will get their score out of 6 and the percentage\n",
    "print(\"You scored \" + str(correct) +\"/\" + str(questions) + \", which is \" + str((correct / questions) * 100) + \"%\")\n",
    "\n"
   ]
  },
  {
   "cell_type": "markdown",
   "metadata": {},
   "source": [
    "### Hacks\n",
    "\n",
    "Here are some ideas of things you can do to make your program even cooler. Doing these will raise your grade if done correctly.\n",
    "\n",
    "- Add more than five questions with more than three answer choices\n",
    "- Randomize the order in which questions/answers are output\n",
    "- At the end, display the user's score and determine whether or not they passed\n",
    "\n",
    "## Challenges\n",
    "\n",
    "<mark>Important!</mark> You don't have to complete these challenges completely perfectly, but you will be marked down if you don't show evidence of at least having tried these challenges in the time we gave during the lesson.\n",
    "\n",
    "### 3.10 Challenge\n",
    "\n",
    "Follow the instructions in the code comments."
   ]
  },
  {
   "cell_type": "code",
   "execution_count": 5,
   "metadata": {},
   "outputs": [
    {
     "name": "stdout",
     "output_type": "stream",
     "text": [
      "carrots\n",
      "carrots\n",
      "artichokes\n",
      "['apples', 'eggs', 'artichokes', 'carrots', 'cucumbers', 'umbrellas', 'artichokes']\n"
     ]
    }
   ],
   "source": [
    "grocery_list = ['apples', 'milk', 'oranges', 'carrots', 'cucumbers']\n",
    "\n",
    "# Print the fourth item in the list\n",
    "print(grocery_list[3])\n",
    "\n",
    "\n",
    "# Now, assign the fourth item in the list to a variable, x and then print the variable\n",
    "x = grocery_list[3] \n",
    "print(x)\n",
    "\n",
    "# Add these two items at the end of the list : umbrellas and artichokes\n",
    "\n",
    "# works too, but below is another possible answer\n",
    "\n",
    "# grocery_list.insert(5,\"umbrellas\")\n",
    "# grocery_list.insert(6,\"artichokes\")\n",
    "\n",
    "grocery_list.append(\"umbrellas\")\n",
    "grocery_list.append(\"artichokes\")\n",
    "\n",
    "\n",
    "# Insert the item eggs as the third item of the list \n",
    "grocery_list.insert(2,\"eggs\")\n",
    "\n",
    "\n",
    "# Remove milk from the list \n",
    "# grocery_list.pop(1)\n",
    "\n",
    "grocery_list.remove(\"milk\")\n",
    "\n",
    "\n",
    "# Assign the element at the end of the list to index 2. Print index 2 to check\n",
    "grocery_list[2] = grocery_list[6]\n",
    "print(grocery_list[2])\n",
    "\n",
    "\n",
    "# Print the entire list, does it match ours ? \n",
    "print(grocery_list)\n",
    "\n",
    "\n",
    "# Expected output\n",
    "# carrots\n",
    "# carrots\n",
    "# artichokes\n",
    "# ['apples', 'eggs', 'artichokes', 'carrots', 'cucumbers', 'umbrellas', 'artichokes']"
   ]
  },
  {
   "cell_type": "markdown",
   "metadata": {},
   "source": [
    "### 3.8 Challenge\n",
    "\n",
    "Create a loop that <mark>converts 8-bit binary values</mark> from the provided list into <mark>decimal numbers</mark>. Then, after the value is determined, <mark>remove all the values greater than 100</mark> from the list using a list-related function you've been taught before. <mark>Print the new list</mark> when done.\n",
    "\n",
    "Once you've done this with one of the types of loops discussed in this lesson, create a function that does the same thing with a *different* type of loop."
   ]
  },
  {
   "cell_type": "code",
   "execution_count": 9,
   "metadata": {},
   "outputs": [
    {
     "name": "stdout",
     "output_type": "stream",
     "text": [
      "[73, 55]\n"
     ]
    }
   ],
   "source": [
    "binarylist = [\n",
    "    \"01001001\", \"10101010\", \"10010110\", \"00110111\", \"11101100\", \"11010001\", \"10000001\"\n",
    "]\n",
    "\n",
    "def decimal_to_binary_converter(binary):\n",
    "    return int(binary,2)\n",
    "\n",
    "for binvalue in range(0, len(binarylist)):\n",
    "    binarylist[binvalue] = decimal_to_binary_converter(binarylist[binvalue])\n",
    "\n",
    "list_final = []\n",
    "\n",
    "for binvalue in range(0, len(binarylist)):\n",
    "    if(binarylist[binvalue]<100):\n",
    "        list_final.append(binarylist[binvalue])\n",
    "print(list_final)\n",
    "\n",
    "\n",
    "\n",
    "    #use this function to convert every binary value in binarylist to decimal\n",
    "    #afterward, get rid of the values that are greater than 100 in decimal\n",
    "\n",
    "#when done, print the results"
   ]
  },
  {
   "cell_type": "markdown",
   "metadata": {},
   "source": [
    "# What Went Wrong (And What I Tried To Do)\n",
    "- I was not sure how to make the binary to decimal converter, as even after one person talked about how they went about, I still was confused about how to implement what they said into my code\n",
    "- I tried to use a for loop and use the \"int\" type in order to convert every binary value in the list to a decimal value, but when I ran the code, nothing showed up in the output (no error messages)\n",
    "- I tried using for \"bin\" in binarylist, but I still was not getting anything in the output\n",
    "- I hope that eventually, all of the concepts that we learned in this lesson will become clear to me and that I will be able to go back to this code and improve myself\n",
    "\n",
    "\n",
    "# Updates as of 12/6/22\n",
    "- I finally figured out how to write out the code for the binary to decimal program\n",
    "- Things that I realized:\n",
    "    - In order to convert the binary to decimal, I had to make sure that I used \"return\" along with the int type in order to get the binary value as its decimal\n",
    "    - I had to make a for loop that converted every element that was in the list into binary, which relates back to using \"return\" in order to get its decimal value\n",
    "    - Once I figured out how to do that, I could use an if statement such that the program only printed out binary values who decimals came out to be less than 100, which in this case was 73 and 55\n"
   ]
  }
 ],
 "metadata": {
  "kernelspec": {
   "display_name": "Python 3.8.10 64-bit",
   "language": "python",
   "name": "python3"
  },
  "language_info": {
   "codemirror_mode": {
    "name": "ipython",
    "version": 3
   },
   "file_extension": ".py",
   "mimetype": "text/x-python",
   "name": "python",
   "nbconvert_exporter": "python",
   "pygments_lexer": "ipython3",
   "version": "3.10.6"
  },
  "orig_nbformat": 4,
  "vscode": {
   "interpreter": {
    "hash": "916dbcbb3f70747c44a77c7bcd40155683ae19c65e1c03b4aa3499c5328201f1"
   }
  }
 },
 "nbformat": 4,
 "nbformat_minor": 2
}

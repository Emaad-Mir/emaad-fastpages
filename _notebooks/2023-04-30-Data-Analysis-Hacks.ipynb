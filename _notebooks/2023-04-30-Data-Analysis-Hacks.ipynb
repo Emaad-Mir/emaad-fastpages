{
 "cells": [
  {
   "cell_type": "code",
   "execution_count": null,
   "metadata": {},
   "outputs": [],
   "source": []
  },
  {
   "attachments": {},
   "cell_type": "markdown",
   "metadata": {},
   "source": [
    "# Hacks\n"
   ]
  },
  {
   "attachments": {},
   "cell_type": "markdown",
   "metadata": {},
   "source": [
    "## Pandas (1/0.9 if submitted by 04/27 11:59)\n",
    "\n",
    "- make your own data using your brian, google or chatgpt, should look different than mine.\n",
    "- modify my code or write your own\n",
    "- output your data other than a bar graph.\n",
    "- answer the questions below, the more explained the better."
   ]
  },
  {
   "cell_type": "code",
   "execution_count": 2,
   "metadata": {},
   "outputs": [
    {
     "data": {
      "text/html": [
       "<div>\n",
       "<style scoped>\n",
       "    .dataframe tbody tr th:only-of-type {\n",
       "        vertical-align: middle;\n",
       "    }\n",
       "\n",
       "    .dataframe tbody tr th {\n",
       "        vertical-align: top;\n",
       "    }\n",
       "\n",
       "    .dataframe thead th {\n",
       "        text-align: right;\n",
       "    }\n",
       "</style>\n",
       "<table border=\"1\" class=\"dataframe\">\n",
       "  <thead>\n",
       "    <tr style=\"text-align: right;\">\n",
       "      <th></th>\n",
       "      <th>Ace Attorney Game</th>\n",
       "      <th>Year Released</th>\n",
       "      <th>Average Rating (out of 10)</th>\n",
       "    </tr>\n",
       "  </thead>\n",
       "  <tbody>\n",
       "    <tr>\n",
       "      <th>0</th>\n",
       "      <td>Phoenix Right: Ace Attorney</td>\n",
       "      <td>2001</td>\n",
       "      <td>8.3</td>\n",
       "    </tr>\n",
       "    <tr>\n",
       "      <th>1</th>\n",
       "      <td>Justice for All</td>\n",
       "      <td>2002</td>\n",
       "      <td>8.0</td>\n",
       "    </tr>\n",
       "    <tr>\n",
       "      <th>2</th>\n",
       "      <td>Trials and Tribulations</td>\n",
       "      <td>2004</td>\n",
       "      <td>8.8</td>\n",
       "    </tr>\n",
       "    <tr>\n",
       "      <th>3</th>\n",
       "      <td>Apollo Justice: Ace Attorney</td>\n",
       "      <td>2007</td>\n",
       "      <td>7.8</td>\n",
       "    </tr>\n",
       "    <tr>\n",
       "      <th>4</th>\n",
       "      <td>Ace Attorney Trilogy</td>\n",
       "      <td>2012</td>\n",
       "      <td>6.5</td>\n",
       "    </tr>\n",
       "    <tr>\n",
       "      <th>5</th>\n",
       "      <td>Professor Layton vs. Phoenix Wright</td>\n",
       "      <td>2012</td>\n",
       "      <td>7.7</td>\n",
       "    </tr>\n",
       "    <tr>\n",
       "      <th>6</th>\n",
       "      <td>Dual Destinies</td>\n",
       "      <td>2013</td>\n",
       "      <td>7.9</td>\n",
       "    </tr>\n",
       "    <tr>\n",
       "      <th>7</th>\n",
       "      <td>The Great Ace Attorney: Adventures</td>\n",
       "      <td>2015</td>\n",
       "      <td>8.0</td>\n",
       "    </tr>\n",
       "    <tr>\n",
       "      <th>8</th>\n",
       "      <td>The Great Ace Attorney Chronicles</td>\n",
       "      <td>2021</td>\n",
       "      <td>8.7</td>\n",
       "    </tr>\n",
       "  </tbody>\n",
       "</table>\n",
       "</div>"
      ],
      "text/plain": [
       "                     Ace Attorney Game  Year Released  \\\n",
       "0          Phoenix Right: Ace Attorney           2001   \n",
       "1                      Justice for All           2002   \n",
       "2              Trials and Tribulations           2004   \n",
       "3         Apollo Justice: Ace Attorney           2007   \n",
       "4                 Ace Attorney Trilogy           2012   \n",
       "5  Professor Layton vs. Phoenix Wright           2012   \n",
       "6                       Dual Destinies           2013   \n",
       "7   The Great Ace Attorney: Adventures           2015   \n",
       "8    The Great Ace Attorney Chronicles           2021   \n",
       "\n",
       "   Average Rating (out of 10)  \n",
       "0                         8.3  \n",
       "1                         8.0  \n",
       "2                         8.8  \n",
       "3                         7.8  \n",
       "4                         6.5  \n",
       "5                         7.7  \n",
       "6                         7.9  \n",
       "7                         8.0  \n",
       "8                         8.7  "
      ]
     },
     "execution_count": 2,
     "metadata": {},
     "output_type": "execute_result"
    }
   ],
   "source": [
    "import pandas as pd\n",
    "\n",
    "ace_attorney_games = pd.Series([\"Phoenix Right: Ace Attorney\",\"Justice for All\",\"Trials and Tribulations\",\"Apollo Justice: Ace Attorney\",\"Ace Attorney Trilogy\",\"Professor Layton vs. Phoenix Wright\",\"Dual Destinies\",\"The Great Ace Attorney: Adventures\",\"The Great Ace Attorney Chronicles\"])\n",
    "\n",
    "year_released = pd.Series([2001,2002,2004,2007,2012,2012,2013,2015,2021])\n",
    "\n",
    "IMdb_rating = pd.Series([8.3,8,8.8,7.8,6.5,7.7,7.9,8,8.7]) # this is out of 10\n",
    "\n",
    "pd.DataFrame({\"Ace Attorney Game\": ace_attorney_games, \"Year Released\": year_released, \"Average Rating (out of 10)\": IMdb_rating})\n"
   ]
  },
  {
   "cell_type": "code",
   "execution_count": 9,
   "metadata": {},
   "outputs": [
    {
     "data": {
      "image/png": "[encoded data removed]",
      "text/plain": [
       "<Figure size 432x288 with 1 Axes>"
      ]
     },
     "metadata": {
      "needs_background": "light"
     },
     "output_type": "display_data"
    }
   ],
   "source": [
    "import pandas as pd\n",
    "import matplotlib.pyplot as plt\n",
    "\n",
    "# Create DataFrame with scores and number of students\n",
    "scores = [5, 4, 3, 2, 1]\n",
    "students = [15322, 28249, 41931, 26799, 22350]\n",
    "df = pd.DataFrame({'Scores': scores, 'Students': students})\n",
    "\n",
    "# Create stem plot\n",
    "fig, ax = plt.subplots()\n",
    "ax.stem(df['Scores'], df['Students'], linefmt='C0-', markerfmt='C0o', basefmt='C0-')\n",
    "ax.set_xlabel('Score')\n",
    "ax.set_ylabel('Number of Students')\n",
    "ax.set_title('Scoring Distribution for the 2022 AP CSP Exam')\n",
    "\n",
    "ax.set_xticks(range(1, 6))\n",
    "\n",
    "\n",
    "# Show plot\n",
    "plt.show()\n"
   ]
  },
  {
   "attachments": {},
   "cell_type": "markdown",
   "metadata": {},
   "source": [
    "## Questions (0.9)\n",
    "- What are the two primary data structures in pandas and how do they differ?\n",
    "\n",
    "The two primary data structures in pandas are CSV files and databases. CSV files are plain text files used to store data in a simple format, while databases are  software applications intended to store and manage much larger amounts of structured data.\n",
    "\n",
    "- How do you read a CSV file into a pandas DataFrame?\n",
    "\n",
    "You read a CSV file into a pandas DataFrame using the command pd.read_csv (of course, you need to import pandas as pd in order for this to work).\n",
    "\n",
    "- How do you select a single column from a pandas DataFrame?\n",
    "\n",
    "You select a single column from a pandas DataFrame using the command df[‘column name here']\n",
    "\n",
    "- How do you filter rows in a pandas DataFrame based on a condition?\n",
    "\n",
    "df_filtered = df[df['Age'] >= [integer]\n",
    "\n",
    "- How do you group rows in a pandas DataFrame by a particular column?\n",
    "\n",
    "df.groupby(‘category’)[column name here].count()\n",
    "\n",
    "\n",
    "- How do you aggregate data in a pandas DataFrame using functions like sum and mean?\n",
    "\n",
    "df.groupby('category')[column name here].mean()\n",
    "\n",
    "\n",
    "- How do you handle missing values in a pandas DataFrame?\n",
    "\n",
    "You can handle missing values in a pandas DataFrame by using functions such as fillna(), replace(), and interpolate() functions, which can all be used to replace NaN values with alternative values.\n",
    "\n",
    "\n",
    "- How do you merge two pandas DataFrames together?\n",
    "\n",
    "merged_df = pd.merge(df1, df2, on=[thing here])\n",
    "\n",
    "- How do you export a pandas DataFrame to a CSV file?\n",
    "\n",
    "df.to_csv(‘data.csv’, index=False)\n",
    "\n",
    "\n",
    "- What is the difference between a Series and a DataFrame in Pandas?\n",
    "\n",
    "While a Series only has one data column, a DataFrame has both a data column and an index (two columns)."
   ]
  },
  {
   "attachments": {},
   "cell_type": "markdown",
   "metadata": {},
   "source": [
    "## Data Analysis / Predictive Analysis (0.9)\n",
    "- How can Numpy and Pandas be used to preprocess data for predictive analysis?\n",
    "- What machine learning algorithms can be used for predictive analysis, and how do they differ?\n",
    "- Can you discuss some real-world applications of predictive analysis in different industries?\n",
    "- Can you explain the role of feature engineering in predictive analysis, and how it can improve model accuracy?\n",
    "- How can machine learning models be deployed in real-time applications for predictive analysis?\n",
    "- Can you discuss some limitations of Numpy and Pandas, and when it might be necessary to use other data analysis tools?\n",
    "- How can predictive analysis be used to improve decision-making and optimize business processes?"
   ]
  },
  {
   "attachments": {},
   "cell_type": "markdown",
   "metadata": {},
   "source": [
    "## Numpy (0.9)\n",
    "(p.s. wget the tensorflow file to see the lesson.)\n",
    "wget https://raw.githubusercontent.com/KKcbal/amongus/master/_notebooks/2023-04-03-TenserFlow.ipynb\n",
    "its the first half of the tensorflow file\n",
    "For your hacks, use matplotlib and numpy to slice this image to display Waldo. Also find and display one other numpy function and blog about what it is used for."
   ]
  },
  {
   "cell_type": "code",
   "execution_count": null,
   "metadata": {},
   "outputs": [],
   "source": [
    "photo1 = io.imread('waldo.jpg')\n",
    "type(photo1)\n",
    "\n",
    "plt.imshow(photo1)\n",
    "TensorFlow (extra credit = 0.5)\n",
    "Go trough the data and do the stuff on the blog."
   ]
  }
 ],
 "metadata": {
  "kernelspec": {
   "display_name": "base",
   "language": "python",
   "name": "python3"
  },
  "language_info": {
   "codemirror_mode": {
    "name": "ipython",
    "version": 3
   },
   "file_extension": ".py",
   "mimetype": "text/x-python",
   "name": "python",
   "nbconvert_exporter": "python",
   "pygments_lexer": "ipython3",
   "version": "3.9.12"
  },
  "orig_nbformat": 4
 },
 "nbformat": 4,
 "nbformat_minor": 2
}
